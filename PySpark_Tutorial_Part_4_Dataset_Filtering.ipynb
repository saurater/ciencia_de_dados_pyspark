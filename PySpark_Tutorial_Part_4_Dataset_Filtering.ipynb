{
  "nbformat": 4,
  "nbformat_minor": 0,
  "metadata": {
    "colab": {
      "name": "PySpark - Tutorial - Part 4 - Dataset Filtering.ipynb",
      "provenance": [],
      "collapsed_sections": [],
      "authorship_tag": "ABX9TyNuxj2D7X1yMd52Sr1QIOq3",
      "include_colab_link": true
    },
    "kernelspec": {
      "name": "python3",
      "display_name": "Python 3"
    },
    "language_info": {
      "name": "python"
    }
  },
  "cells": [
    {
      "cell_type": "markdown",
      "metadata": {
        "id": "view-in-github",
        "colab_type": "text"
      },
      "source": [
        "<a href=\"https://colab.research.google.com/github/saurater/ciencia_de_dados_pyspark/blob/main/PySpark_Tutorial_Part_4_Dataset_Filtering.ipynb\" target=\"_parent\"><img src=\"https://colab.research.google.com/assets/colab-badge.svg\" alt=\"Open In Colab\"/></a>"
      ]
    },
    {
      "cell_type": "markdown",
      "source": [
        "# PySpark - Tutorial - Part 4 - Dataset Filtering\n",
        "Notebook by Sam Faraday\n",
        "June 2022\n",
        "\n",
        "1. Filtering by a Spcecific Column\n",
        "2. Filtering by a Specific Column and Selecting Specific Columns\n",
        "3. Filtering with multiple conditions\n",
        "\n",
        "\n",
        "\n",
        "Sources:\n",
        "Free Code Camp: PySpark Tutorial at https://www.youtube.com/watch?v=_C8kWso4ne4\n",
        "Apache Spark API Refernce at https://spark.apache.org/docs/latest/api/python/reference/index.html"
      ],
      "metadata": {
        "id": "1gO40bI1jmDH"
      }
    },
    {
      "cell_type": "code",
      "execution_count": 39,
      "metadata": {
        "id": "igMSLk5Bjloy"
      },
      "outputs": [],
      "source": [
        ""
      ]
    },
    {
      "cell_type": "markdown",
      "source": [
        "# 1. Installing PySpark"
      ],
      "metadata": {
        "id": "V3nL9FJB31yo"
      }
    },
    {
      "cell_type": "code",
      "execution_count": 40,
      "metadata": {
        "id": "33ZSK1rk2y-O",
        "colab": {
          "base_uri": "https://localhost:8080/"
        },
        "outputId": "9905cc22-8d55-4f78-e7b4-80f767f3646b"
      },
      "outputs": [
        {
          "output_type": "stream",
          "name": "stdout",
          "text": [
            "Looking in indexes: https://pypi.org/simple, https://us-python.pkg.dev/colab-wheels/public/simple/\n",
            "Requirement already satisfied: pyspark in /usr/local/lib/python3.7/dist-packages (3.2.1)\n",
            "Requirement already satisfied: py4j==0.10.9.3 in /usr/local/lib/python3.7/dist-packages (from pyspark) (0.10.9.3)\n"
          ]
        }
      ],
      "source": [
        "pip install pyspark # run it every time you connect to Google Colab Notebook"
      ]
    },
    {
      "cell_type": "markdown",
      "source": [
        "# 2. Importing the required libraries"
      ],
      "metadata": {
        "id": "QQqTFXSuIHfd"
      }
    },
    {
      "cell_type": "code",
      "source": [
        "from pyspark.sql.functions import col,isnan,when,count"
      ],
      "metadata": {
        "id": "xotHREFzGRjZ"
      },
      "execution_count": 41,
      "outputs": []
    },
    {
      "cell_type": "code",
      "source": [
        "import pandas as pd"
      ],
      "metadata": {
        "id": "Une4AQbH5lcM"
      },
      "execution_count": 42,
      "outputs": []
    },
    {
      "cell_type": "code",
      "source": [
        "import numpy as np"
      ],
      "metadata": {
        "id": "qOmUxfA9lXMJ"
      },
      "execution_count": 43,
      "outputs": []
    },
    {
      "cell_type": "markdown",
      "source": [
        "# 3. Creating the Test4 Dataset"
      ],
      "metadata": {
        "id": "XmtDyAUr3zfp"
      }
    },
    {
      "cell_type": "code",
      "source": [
        "data = {'Index':[1,2,3,4,5,6,np.NaN], 'Name':['Tom', 'Nick', 'Krish', '','Jack',  '',''], 'Age':[20, np.NaN, np.NaN, 19, 18,19, np.NaN], 'Salary':[2000, 3000, np.NaN, 4000, 3000, 3500, np.NaN] }\n",
        "# Create DataFrame\n",
        "df = pd.DataFrame(data)\n",
        "df"
      ],
      "metadata": {
        "colab": {
          "base_uri": "https://localhost:8080/",
          "height": 269
        },
        "id": "TjaaUmhz4sOu",
        "outputId": "add1273f-ce8d-4f5d-8e40-bef6ef4fb178"
      },
      "execution_count": 44,
      "outputs": [
        {
          "output_type": "execute_result",
          "data": {
            "text/plain": [
              "   Index   Name   Age  Salary\n",
              "0    1.0    Tom  20.0  2000.0\n",
              "1    2.0   Nick   NaN  3000.0\n",
              "2    3.0  Krish   NaN     NaN\n",
              "3    4.0         19.0  4000.0\n",
              "4    5.0   Jack  18.0  3000.0\n",
              "5    6.0         19.0  3500.0\n",
              "6    NaN          NaN     NaN"
            ],
            "text/html": [
              "\n",
              "  <div id=\"df-8c0c64da-8102-4c28-a43e-3fe4a094cdae\">\n",
              "    <div class=\"colab-df-container\">\n",
              "      <div>\n",
              "<style scoped>\n",
              "    .dataframe tbody tr th:only-of-type {\n",
              "        vertical-align: middle;\n",
              "    }\n",
              "\n",
              "    .dataframe tbody tr th {\n",
              "        vertical-align: top;\n",
              "    }\n",
              "\n",
              "    .dataframe thead th {\n",
              "        text-align: right;\n",
              "    }\n",
              "</style>\n",
              "<table border=\"1\" class=\"dataframe\">\n",
              "  <thead>\n",
              "    <tr style=\"text-align: right;\">\n",
              "      <th></th>\n",
              "      <th>Index</th>\n",
              "      <th>Name</th>\n",
              "      <th>Age</th>\n",
              "      <th>Salary</th>\n",
              "    </tr>\n",
              "  </thead>\n",
              "  <tbody>\n",
              "    <tr>\n",
              "      <th>0</th>\n",
              "      <td>1.0</td>\n",
              "      <td>Tom</td>\n",
              "      <td>20.0</td>\n",
              "      <td>2000.0</td>\n",
              "    </tr>\n",
              "    <tr>\n",
              "      <th>1</th>\n",
              "      <td>2.0</td>\n",
              "      <td>Nick</td>\n",
              "      <td>NaN</td>\n",
              "      <td>3000.0</td>\n",
              "    </tr>\n",
              "    <tr>\n",
              "      <th>2</th>\n",
              "      <td>3.0</td>\n",
              "      <td>Krish</td>\n",
              "      <td>NaN</td>\n",
              "      <td>NaN</td>\n",
              "    </tr>\n",
              "    <tr>\n",
              "      <th>3</th>\n",
              "      <td>4.0</td>\n",
              "      <td></td>\n",
              "      <td>19.0</td>\n",
              "      <td>4000.0</td>\n",
              "    </tr>\n",
              "    <tr>\n",
              "      <th>4</th>\n",
              "      <td>5.0</td>\n",
              "      <td>Jack</td>\n",
              "      <td>18.0</td>\n",
              "      <td>3000.0</td>\n",
              "    </tr>\n",
              "    <tr>\n",
              "      <th>5</th>\n",
              "      <td>6.0</td>\n",
              "      <td></td>\n",
              "      <td>19.0</td>\n",
              "      <td>3500.0</td>\n",
              "    </tr>\n",
              "    <tr>\n",
              "      <th>6</th>\n",
              "      <td>NaN</td>\n",
              "      <td></td>\n",
              "      <td>NaN</td>\n",
              "      <td>NaN</td>\n",
              "    </tr>\n",
              "  </tbody>\n",
              "</table>\n",
              "</div>\n",
              "      <button class=\"colab-df-convert\" onclick=\"convertToInteractive('df-8c0c64da-8102-4c28-a43e-3fe4a094cdae')\"\n",
              "              title=\"Convert this dataframe to an interactive table.\"\n",
              "              style=\"display:none;\">\n",
              "        \n",
              "  <svg xmlns=\"http://www.w3.org/2000/svg\" height=\"24px\"viewBox=\"0 0 24 24\"\n",
              "       width=\"24px\">\n",
              "    <path d=\"M0 0h24v24H0V0z\" fill=\"none\"/>\n",
              "    <path d=\"M18.56 5.44l.94 2.06.94-2.06 2.06-.94-2.06-.94-.94-2.06-.94 2.06-2.06.94zm-11 1L8.5 8.5l.94-2.06 2.06-.94-2.06-.94L8.5 2.5l-.94 2.06-2.06.94zm10 10l.94 2.06.94-2.06 2.06-.94-2.06-.94-.94-2.06-.94 2.06-2.06.94z\"/><path d=\"M17.41 7.96l-1.37-1.37c-.4-.4-.92-.59-1.43-.59-.52 0-1.04.2-1.43.59L10.3 9.45l-7.72 7.72c-.78.78-.78 2.05 0 2.83L4 21.41c.39.39.9.59 1.41.59.51 0 1.02-.2 1.41-.59l7.78-7.78 2.81-2.81c.8-.78.8-2.07 0-2.86zM5.41 20L4 18.59l7.72-7.72 1.47 1.35L5.41 20z\"/>\n",
              "  </svg>\n",
              "      </button>\n",
              "      \n",
              "  <style>\n",
              "    .colab-df-container {\n",
              "      display:flex;\n",
              "      flex-wrap:wrap;\n",
              "      gap: 12px;\n",
              "    }\n",
              "\n",
              "    .colab-df-convert {\n",
              "      background-color: #E8F0FE;\n",
              "      border: none;\n",
              "      border-radius: 50%;\n",
              "      cursor: pointer;\n",
              "      display: none;\n",
              "      fill: #1967D2;\n",
              "      height: 32px;\n",
              "      padding: 0 0 0 0;\n",
              "      width: 32px;\n",
              "    }\n",
              "\n",
              "    .colab-df-convert:hover {\n",
              "      background-color: #E2EBFA;\n",
              "      box-shadow: 0px 1px 2px rgba(60, 64, 67, 0.3), 0px 1px 3px 1px rgba(60, 64, 67, 0.15);\n",
              "      fill: #174EA6;\n",
              "    }\n",
              "\n",
              "    [theme=dark] .colab-df-convert {\n",
              "      background-color: #3B4455;\n",
              "      fill: #D2E3FC;\n",
              "    }\n",
              "\n",
              "    [theme=dark] .colab-df-convert:hover {\n",
              "      background-color: #434B5C;\n",
              "      box-shadow: 0px 1px 3px 1px rgba(0, 0, 0, 0.15);\n",
              "      filter: drop-shadow(0px 1px 2px rgba(0, 0, 0, 0.3));\n",
              "      fill: #FFFFFF;\n",
              "    }\n",
              "  </style>\n",
              "\n",
              "      <script>\n",
              "        const buttonEl =\n",
              "          document.querySelector('#df-8c0c64da-8102-4c28-a43e-3fe4a094cdae button.colab-df-convert');\n",
              "        buttonEl.style.display =\n",
              "          google.colab.kernel.accessAllowed ? 'block' : 'none';\n",
              "\n",
              "        async function convertToInteractive(key) {\n",
              "          const element = document.querySelector('#df-8c0c64da-8102-4c28-a43e-3fe4a094cdae');\n",
              "          const dataTable =\n",
              "            await google.colab.kernel.invokeFunction('convertToInteractive',\n",
              "                                                     [key], {});\n",
              "          if (!dataTable) return;\n",
              "\n",
              "          const docLinkHtml = 'Like what you see? Visit the ' +\n",
              "            '<a target=\"_blank\" href=https://colab.research.google.com/notebooks/data_table.ipynb>data table notebook</a>'\n",
              "            + ' to learn more about interactive tables.';\n",
              "          element.innerHTML = '';\n",
              "          dataTable['output_type'] = 'display_data';\n",
              "          await google.colab.output.renderOutput(dataTable, element);\n",
              "          const docLink = document.createElement('div');\n",
              "          docLink.innerHTML = docLinkHtml;\n",
              "          element.appendChild(docLink);\n",
              "        }\n",
              "      </script>\n",
              "    </div>\n",
              "  </div>\n",
              "  "
            ]
          },
          "metadata": {},
          "execution_count": 44
        }
      ]
    },
    {
      "cell_type": "markdown",
      "source": [
        "# 4. Saving the Dataset"
      ],
      "metadata": {
        "id": "kLXndUDU406k"
      }
    },
    {
      "cell_type": "code",
      "source": [
        "df.to_csv('test4.csv', index=False)"
      ],
      "metadata": {
        "id": "7lm1JqxW41pc"
      },
      "execution_count": 45,
      "outputs": []
    },
    {
      "cell_type": "markdown",
      "source": [
        "# 5. Initializing PySpark\n"
      ],
      "metadata": {
        "id": "gwoN6Ydi5D-U"
      }
    },
    {
      "cell_type": "code",
      "source": [
        "from pyspark.sql import SparkSession\n",
        "\n",
        "spark = SparkSession.builder.appName(\"Dataframe\").getOrCreate()\n",
        "\n",
        "spark"
      ],
      "metadata": {
        "colab": {
          "base_uri": "https://localhost:8080/",
          "height": 219
        },
        "id": "T17DEL0w5Gvs",
        "outputId": "6442588f-24f8-41bf-a106-79968e084fbd"
      },
      "execution_count": 46,
      "outputs": [
        {
          "output_type": "execute_result",
          "data": {
            "text/plain": [
              "<pyspark.sql.session.SparkSession at 0x7fbb1ef3fe10>"
            ],
            "text/html": [
              "\n",
              "            <div>\n",
              "                <p><b>SparkSession - in-memory</b></p>\n",
              "                \n",
              "        <div>\n",
              "            <p><b>SparkContext</b></p>\n",
              "\n",
              "            <p><a href=\"http://a5fa460c88c6:4040\">Spark UI</a></p>\n",
              "\n",
              "            <dl>\n",
              "              <dt>Version</dt>\n",
              "                <dd><code>v3.2.1</code></dd>\n",
              "              <dt>Master</dt>\n",
              "                <dd><code>local[*]</code></dd>\n",
              "              <dt>AppName</dt>\n",
              "                <dd><code>Practise</code></dd>\n",
              "            </dl>\n",
              "        </div>\n",
              "        \n",
              "            </div>\n",
              "        "
            ]
          },
          "metadata": {},
          "execution_count": 46
        }
      ]
    },
    {
      "cell_type": "markdown",
      "source": [
        "# 6. Reading the Dataset"
      ],
      "metadata": {
        "id": "K11MnO9B9MFj"
      }
    },
    {
      "cell_type": "code",
      "source": [
        "df_spark = spark.read.csv(\"test4.csv\", header =True, inferSchema =True)\n",
        "df_spark.show()"
      ],
      "metadata": {
        "colab": {
          "base_uri": "https://localhost:8080/"
        },
        "id": "d5u5OdbD9Q_z",
        "outputId": "4b810e9c-cb76-424d-a9de-ba0b8878f6b3"
      },
      "execution_count": 47,
      "outputs": [
        {
          "output_type": "stream",
          "name": "stdout",
          "text": [
            "+-----+-----+----+------+\n",
            "|Index| Name| Age|Salary|\n",
            "+-----+-----+----+------+\n",
            "|  1.0|  Tom|20.0|2000.0|\n",
            "|  2.0| Nick|null|3000.0|\n",
            "|  3.0|Krish|null|  null|\n",
            "|  4.0| null|19.0|4000.0|\n",
            "|  5.0| Jack|18.0|3000.0|\n",
            "|  6.0| null|19.0|3500.0|\n",
            "| null| null|null|  null|\n",
            "+-----+-----+----+------+\n",
            "\n"
          ]
        }
      ]
    },
    {
      "cell_type": "markdown",
      "source": [
        "# 7. Checking the Schema"
      ],
      "metadata": {
        "id": "f6pGwS2a-igW"
      }
    },
    {
      "cell_type": "code",
      "source": [
        "df_spark.printSchema()"
      ],
      "metadata": {
        "colab": {
          "base_uri": "https://localhost:8080/"
        },
        "id": "ELuYNyLA-lzH",
        "outputId": "8c9f3934-0470-4dce-b25f-bfcfc287ac59"
      },
      "execution_count": 48,
      "outputs": [
        {
          "output_type": "stream",
          "name": "stdout",
          "text": [
            "root\n",
            " |-- Index: double (nullable = true)\n",
            " |-- Name: string (nullable = true)\n",
            " |-- Age: double (nullable = true)\n",
            " |-- Salary: double (nullable = true)\n",
            "\n"
          ]
        }
      ]
    },
    {
      "cell_type": "markdown",
      "source": [
        "# 8. Find count for empty, None, Null, Nan with string literals.\n",
        "\n",
        "df2 = df.select([count(when(col(c).contains('None') | \\\n",
        "                            col(c).contains('NULL') | \\\n",
        "                            (col(c) == '' ) | \\\n",
        "                            col(c).isNull() | \\\n",
        "                            isnan(c), c \n",
        "                           )).alias(c)\n",
        "                    for c in df.columns])\n",
        "df2.show()"
      ],
      "metadata": {
        "id": "B61Rgn0ZGPBO"
      }
    },
    {
      "cell_type": "code",
      "source": [
        "df_spark2 = df_spark.select([count(when(col(c).contains('None') |\n",
        "col(c).contains('NULL') |\n",
        "(col(c) == '' ) |\n",
        "col(c).isNull() |\n",
        "isnan(c), c )).alias(c) for c in df_spark.columns]) \n",
        "\n",
        "df_spark2.show()"
      ],
      "metadata": {
        "colab": {
          "base_uri": "https://localhost:8080/"
        },
        "id": "EAGyLTVnGVSf",
        "outputId": "8d612802-7bb2-4d7c-8ab7-8f33f1e8bf69"
      },
      "execution_count": 49,
      "outputs": [
        {
          "output_type": "stream",
          "name": "stdout",
          "text": [
            "+-----+----+---+------+\n",
            "|Index|Name|Age|Salary|\n",
            "+-----+----+---+------+\n",
            "|    1|   3|  3|     2|\n",
            "+-----+----+---+------+\n",
            "\n"
          ]
        }
      ]
    },
    {
      "cell_type": "markdown",
      "source": [
        "# 9. Filtering by a Spcecific Column\n",
        "Equal == \n",
        "Not Equal !=\n",
        "Greater or Equal >=\n",
        "Less or Equal <="
      ],
      "metadata": {
        "id": "y5bd-0AAmgAZ"
      }
    },
    {
      "cell_type": "code",
      "source": [
        "df_spark.show()"
      ],
      "metadata": {
        "colab": {
          "base_uri": "https://localhost:8080/"
        },
        "id": "2mFRI5vpBEcT",
        "outputId": "c0d88bd9-01f1-4fd6-94fd-5c1c335d608f"
      },
      "execution_count": 50,
      "outputs": [
        {
          "output_type": "stream",
          "name": "stdout",
          "text": [
            "+-----+-----+----+------+\n",
            "|Index| Name| Age|Salary|\n",
            "+-----+-----+----+------+\n",
            "|  1.0|  Tom|20.0|2000.0|\n",
            "|  2.0| Nick|null|3000.0|\n",
            "|  3.0|Krish|null|  null|\n",
            "|  4.0| null|19.0|4000.0|\n",
            "|  5.0| Jack|18.0|3000.0|\n",
            "|  6.0| null|19.0|3500.0|\n",
            "| null| null|null|  null|\n",
            "+-----+-----+----+------+\n",
            "\n"
          ]
        }
      ]
    },
    {
      "cell_type": "markdown",
      "source": [
        "## Filter Exemple 1\n",
        "Please note here there is just one equal (=) sign"
      ],
      "metadata": {
        "id": "nTsnkHcnPS5Z"
      }
    },
    {
      "cell_type": "code",
      "source": [
        "df_spark.filter('Age=18').show()"
      ],
      "metadata": {
        "colab": {
          "base_uri": "https://localhost:8080/"
        },
        "id": "Xm3NiVT9mk2x",
        "outputId": "a7677746-107a-4c87-e170-a673adcc53ce"
      },
      "execution_count": 51,
      "outputs": [
        {
          "output_type": "stream",
          "name": "stdout",
          "text": [
            "+-----+----+----+------+\n",
            "|Index|Name| Age|Salary|\n",
            "+-----+----+----+------+\n",
            "|  5.0|Jack|18.0|3000.0|\n",
            "+-----+----+----+------+\n",
            "\n"
          ]
        }
      ]
    },
    {
      "cell_type": "code",
      "source": [
        "df_spark.filter('Age>18').show()"
      ],
      "metadata": {
        "colab": {
          "base_uri": "https://localhost:8080/"
        },
        "id": "w40dovavPnGn",
        "outputId": "37b68a76-50e1-4d9f-ed76-ffd7c084798e"
      },
      "execution_count": 68,
      "outputs": [
        {
          "output_type": "stream",
          "name": "stdout",
          "text": [
            "+-----+----+----+------+\n",
            "|Index|Name| Age|Salary|\n",
            "+-----+----+----+------+\n",
            "|  1.0| Tom|20.0|2000.0|\n",
            "|  4.0|null|19.0|4000.0|\n",
            "|  6.0|null|19.0|3500.0|\n",
            "+-----+----+----+------+\n",
            "\n"
          ]
        }
      ]
    },
    {
      "cell_type": "markdown",
      "source": [
        "## Filter Exemple 2\n",
        "Please note here there are just two equal (==) signs"
      ],
      "metadata": {
        "id": "ibHo4TIQPfNx"
      }
    },
    {
      "cell_type": "code",
      "source": [
        "df_spark.filter(df_spark['Age']==18).show()"
      ],
      "metadata": {
        "colab": {
          "base_uri": "https://localhost:8080/"
        },
        "id": "8e-uldlAOTda",
        "outputId": "bd91159e-4c33-489e-ad4c-fc7368d8bf61"
      },
      "execution_count": 67,
      "outputs": [
        {
          "output_type": "stream",
          "name": "stdout",
          "text": [
            "+-----+----+----+------+\n",
            "|Index|Name| Age|Salary|\n",
            "+-----+----+----+------+\n",
            "|  5.0|Jack|18.0|3000.0|\n",
            "+-----+----+----+------+\n",
            "\n"
          ]
        }
      ]
    },
    {
      "cell_type": "code",
      "source": [
        "df_spark.filter(df_spark['Age']>18).show()"
      ],
      "metadata": {
        "colab": {
          "base_uri": "https://localhost:8080/"
        },
        "id": "KT2MphF8PqI4",
        "outputId": "1cb4389b-ba36-4a07-aa7b-f1c8ec7b9fa1"
      },
      "execution_count": 69,
      "outputs": [
        {
          "output_type": "stream",
          "name": "stdout",
          "text": [
            "+-----+----+----+------+\n",
            "|Index|Name| Age|Salary|\n",
            "+-----+----+----+------+\n",
            "|  1.0| Tom|20.0|2000.0|\n",
            "|  4.0|null|19.0|4000.0|\n",
            "|  6.0|null|19.0|3500.0|\n",
            "+-----+----+----+------+\n",
            "\n"
          ]
        }
      ]
    },
    {
      "cell_type": "markdown",
      "source": [
        "# 10. Filtering by a Specific Column and Selecting Specific Columns"
      ],
      "metadata": {
        "id": "6Xc0PIyyncR5"
      }
    },
    {
      "cell_type": "code",
      "source": [
        "df_spark.filter('Age<20').select([\"Name\", \"Age\"]).show()"
      ],
      "metadata": {
        "colab": {
          "base_uri": "https://localhost:8080/"
        },
        "id": "YUXDWzHgm1I6",
        "outputId": "a14bf733-4d48-4c3f-dd11-14ac636609a8"
      },
      "execution_count": 52,
      "outputs": [
        {
          "output_type": "stream",
          "name": "stdout",
          "text": [
            "+----+----+\n",
            "|Name| Age|\n",
            "+----+----+\n",
            "|null|19.0|\n",
            "|Jack|18.0|\n",
            "|null|19.0|\n",
            "+----+----+\n",
            "\n"
          ]
        }
      ]
    },
    {
      "cell_type": "markdown",
      "source": [
        "# 11. Filtering with multiple conditions \n",
        "\n",
        "== Equal\n",
        "\n",
        "!= not equal to \n",
        "\n",
        "~ = not\n",
        "\n",
        "& = and\n",
        "\n",
        "| = or"
      ],
      "metadata": {
        "id": "6SqYhdZSP3LY"
      }
    },
    {
      "cell_type": "code",
      "source": [
        "df_spark.filter( (df_spark['Age']>=18) &  (df_spark['Name']=='Jack') ).show()\n",
        "#age>18 and name=Jack"
      ],
      "metadata": {
        "colab": {
          "base_uri": "https://localhost:8080/"
        },
        "id": "U1FThDjOQCrj",
        "outputId": "412eedbb-d855-424b-852b-702247e6d838"
      },
      "execution_count": 79,
      "outputs": [
        {
          "output_type": "stream",
          "name": "stdout",
          "text": [
            "+-----+----+----+------+\n",
            "|Index|Name| Age|Salary|\n",
            "+-----+----+----+------+\n",
            "|  5.0|Jack|18.0|3000.0|\n",
            "+-----+----+----+------+\n",
            "\n"
          ]
        }
      ]
    },
    {
      "cell_type": "code",
      "source": [
        "df_spark.filter( (df_spark['Age']>=18) |  (df_spark['Name']=='Jack') ).show()\n",
        "# age=18 or name=Jack"
      ],
      "metadata": {
        "colab": {
          "base_uri": "https://localhost:8080/"
        },
        "id": "0fXsmaQERTv5",
        "outputId": "52d394d3-68d1-4ce8-bc4d-1777af242976"
      },
      "execution_count": 80,
      "outputs": [
        {
          "output_type": "stream",
          "name": "stdout",
          "text": [
            "+-----+----+----+------+\n",
            "|Index|Name| Age|Salary|\n",
            "+-----+----+----+------+\n",
            "|  1.0| Tom|20.0|2000.0|\n",
            "|  4.0|null|19.0|4000.0|\n",
            "|  5.0|Jack|18.0|3000.0|\n",
            "|  6.0|null|19.0|3500.0|\n",
            "+-----+----+----+------+\n",
            "\n"
          ]
        }
      ]
    },
    {
      "cell_type": "code",
      "source": [
        "df_spark.filter(~(df_spark['Age']<20)  ).show()\n",
        "# everything not equal to age less than 20"
      ],
      "metadata": {
        "colab": {
          "base_uri": "https://localhost:8080/"
        },
        "id": "vKCoIL7JUK1R",
        "outputId": "fd0cbf83-7c00-4ddd-d5b1-d18f5d0d61da"
      },
      "execution_count": 97,
      "outputs": [
        {
          "output_type": "stream",
          "name": "stdout",
          "text": [
            "+-----+----+----+------+\n",
            "|Index|Name| Age|Salary|\n",
            "+-----+----+----+------+\n",
            "|  1.0| Tom|20.0|2000.0|\n",
            "+-----+----+----+------+\n",
            "\n"
          ]
        }
      ]
    },
    {
      "cell_type": "code",
      "source": [
        "df_spark.filter((df_spark['Age']!=20)  ).show()\n",
        "# age=18 or name=Jack"
      ],
      "metadata": {
        "colab": {
          "base_uri": "https://localhost:8080/"
        },
        "id": "_d8crzEGUeAj",
        "outputId": "864c81c7-a85b-4d39-dfe6-094570d66fec"
      },
      "execution_count": 84,
      "outputs": [
        {
          "output_type": "stream",
          "name": "stdout",
          "text": [
            "+-----+----+----+------+\n",
            "|Index|Name| Age|Salary|\n",
            "+-----+----+----+------+\n",
            "|  4.0|null|19.0|4000.0|\n",
            "|  5.0|Jack|18.0|3000.0|\n",
            "|  6.0|null|19.0|3500.0|\n",
            "+-----+----+----+------+\n",
            "\n"
          ]
        }
      ]
    }
  ]
}