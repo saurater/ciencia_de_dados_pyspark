{
  "nbformat": 4,
  "nbformat_minor": 0,
  "metadata": {
    "colab": {
      "name": "PySpark -  Tutorial - Part 1 - PySpark Installation and Dataset Creation and Reading.ipynb",
      "provenance": [],
      "collapsed_sections": [],
      "authorship_tag": "ABX9TyOHjCWDTQx6TlbLRGY4j0hp",
      "include_colab_link": true
    },
    "kernelspec": {
      "name": "python3",
      "display_name": "Python 3"
    },
    "language_info": {
      "name": "python"
    }
  },
  "cells": [
    {
      "cell_type": "markdown",
      "metadata": {
        "id": "view-in-github",
        "colab_type": "text"
      },
      "source": [
        "<a href=\"https://colab.research.google.com/github/saurater/ciencia_de_dados_pyspark/blob/main/PySpark_Tutorial_Part_1_PySpark_Installation_and_Dataset_Creation_and_Reading.ipynb\" target=\"_parent\"><img src=\"https://colab.research.google.com/assets/colab-badge.svg\" alt=\"Open In Colab\"/></a>"
      ]
    },
    {
      "cell_type": "markdown",
      "source": [
        "#PySpark -  Tutorial - Part 1 - PySpark Installation and Dataset Creation and Reading\n",
        "## Sam Faraday\n",
        "June 2022\n",
        "\n",
        "## Sources: \n",
        "1. Free Code Camp: PySpark Tutorial at https://www.youtube.com/watch?v=_C8kWso4ne4\n",
        "2. Apache Spark API Refernce at  https://spark.apache.org/docs/latest/api/python/reference/index.html"
      ],
      "metadata": {
        "id": "JEzLPp5iz7uc"
      }
    },
    {
      "cell_type": "markdown",
      "source": [
        "# 1. Installing PySpark"
      ],
      "metadata": {
        "id": "NljFhL6IV06F"
      }
    },
    {
      "cell_type": "code",
      "source": [
        "#pip install pyspark"
      ],
      "metadata": {
        "id": "rSv5DJGYQkSE"
      },
      "execution_count": null,
      "outputs": []
    },
    {
      "cell_type": "code",
      "source": [
        "import pandas as pd"
      ],
      "metadata": {
        "id": "su82wiTVRIaY"
      },
      "execution_count": null,
      "outputs": []
    },
    {
      "cell_type": "markdown",
      "source": [
        "# 2. Creating the Test Dataset"
      ],
      "metadata": {
        "id": "MSk7Jf4E0EoD"
      }
    },
    {
      "cell_type": "code",
      "source": [
        "data = {'Name':['Tom', 'Nick', 'Krish', 'Jack'], 'Age':[20, 21, 19, 18]}"
      ],
      "metadata": {
        "id": "z4hQq2LURKfo"
      },
      "execution_count": null,
      "outputs": []
    },
    {
      "cell_type": "code",
      "source": [
        "# Create DataFrame\n",
        "df = pd.DataFrame(data)"
      ],
      "metadata": {
        "id": "KeQSca9dROxk"
      },
      "execution_count": null,
      "outputs": []
    },
    {
      "cell_type": "code",
      "source": [
        "df.to_csv('test1.csv', index=False)"
      ],
      "metadata": {
        "id": "WQjD5KiiRQ4N"
      },
      "execution_count": null,
      "outputs": []
    },
    {
      "cell_type": "markdown",
      "source": [
        "# 3. Initializing PySpark"
      ],
      "metadata": {
        "id": "SDEgXhT70K1M"
      }
    },
    {
      "cell_type": "code",
      "source": [
        "from pyspark.sql import SparkSession"
      ],
      "metadata": {
        "id": "7jo_VgKJRSWw"
      },
      "execution_count": null,
      "outputs": []
    },
    {
      "cell_type": "code",
      "source": [
        "spark = SparkSession.builder.appName(\"Practise\").getOrCreate()"
      ],
      "metadata": {
        "id": "53jFrCHKRTjI"
      },
      "execution_count": null,
      "outputs": []
    },
    {
      "cell_type": "code",
      "source": [
        "spark"
      ],
      "metadata": {
        "colab": {
          "base_uri": "https://localhost:8080/",
          "height": 219
        },
        "id": "uM1dB54MRdDQ",
        "outputId": "ea4738ad-8152-4d10-bf65-5e7569b9bbe0"
      },
      "execution_count": null,
      "outputs": [
        {
          "output_type": "execute_result",
          "data": {
            "text/plain": [
              "<pyspark.sql.session.SparkSession at 0x7fa4e5f50790>"
            ],
            "text/html": [
              "\n",
              "            <div>\n",
              "                <p><b>SparkSession - in-memory</b></p>\n",
              "                \n",
              "        <div>\n",
              "            <p><b>SparkContext</b></p>\n",
              "\n",
              "            <p><a href=\"http://302085e1fdb4:4040\">Spark UI</a></p>\n",
              "\n",
              "            <dl>\n",
              "              <dt>Version</dt>\n",
              "                <dd><code>v3.2.1</code></dd>\n",
              "              <dt>Master</dt>\n",
              "                <dd><code>local[*]</code></dd>\n",
              "              <dt>AppName</dt>\n",
              "                <dd><code>Practise</code></dd>\n",
              "            </dl>\n",
              "        </div>\n",
              "        \n",
              "            </div>\n",
              "        "
            ]
          },
          "metadata": {},
          "execution_count": 21
        }
      ]
    },
    {
      "cell_type": "markdown",
      "source": [
        "# 4. Reading the Dataset"
      ],
      "metadata": {
        "id": "mlxiZdG40UYK"
      }
    },
    {
      "cell_type": "code",
      "source": [
        "spark.read.option('header', 'true').csv('test1.csv').show()"
      ],
      "metadata": {
        "colab": {
          "base_uri": "https://localhost:8080/"
        },
        "id": "lUIRF7sARUqa",
        "outputId": "70a92740-5b71-4911-fdd7-85de52d60f98"
      },
      "execution_count": null,
      "outputs": [
        {
          "output_type": "stream",
          "name": "stdout",
          "text": [
            "+-----+---+\n",
            "| Name|Age|\n",
            "+-----+---+\n",
            "|  Tom| 20|\n",
            "| Nick| 21|\n",
            "|Krish| 19|\n",
            "| Jack| 18|\n",
            "+-----+---+\n",
            "\n"
          ]
        }
      ]
    },
    {
      "cell_type": "code",
      "source": [
        "df_spark = spark.read.option('header', 'true').csv('test1.csv')"
      ],
      "metadata": {
        "id": "yYttW1n6SF86"
      },
      "execution_count": null,
      "outputs": []
    },
    {
      "cell_type": "code",
      "source": [
        "df_spark.show()"
      ],
      "metadata": {
        "colab": {
          "base_uri": "https://localhost:8080/"
        },
        "id": "E4gT8-jzSJyo",
        "outputId": "18ddb034-d7b4-41b6-c9d5-89c0344ff286"
      },
      "execution_count": null,
      "outputs": [
        {
          "output_type": "stream",
          "name": "stdout",
          "text": [
            "+-----+---+\n",
            "| Name|Age|\n",
            "+-----+---+\n",
            "|  Tom| 20|\n",
            "| Nick| 21|\n",
            "|Krish| 19|\n",
            "| Jack| 18|\n",
            "+-----+---+\n",
            "\n"
          ]
        }
      ]
    },
    {
      "cell_type": "code",
      "source": [
        "type(df_spark)"
      ],
      "metadata": {
        "colab": {
          "base_uri": "https://localhost:8080/"
        },
        "id": "blQNQdd6UegB",
        "outputId": "52a9acf6-cffd-4e0e-d9fd-01cd00ad036a"
      },
      "execution_count": null,
      "outputs": [
        {
          "output_type": "execute_result",
          "data": {
            "text/plain": [
              "pyspark.sql.dataframe.DataFrame"
            ]
          },
          "metadata": {},
          "execution_count": 27
        }
      ]
    },
    {
      "cell_type": "code",
      "source": [
        "df_spark.head(2)"
      ],
      "metadata": {
        "colab": {
          "base_uri": "https://localhost:8080/"
        },
        "id": "4SlR_kXxVWzc",
        "outputId": "80e8e5cd-8caa-4ad9-e57f-5349cffffa2a"
      },
      "execution_count": null,
      "outputs": [
        {
          "output_type": "execute_result",
          "data": {
            "text/plain": [
              "[Row(Name='Tom', Age='20'), Row(Name='Nick', Age='21')]"
            ]
          },
          "metadata": {},
          "execution_count": 28
        }
      ]
    },
    {
      "cell_type": "markdown",
      "source": [
        "# 5. Checking the Schema"
      ],
      "metadata": {
        "id": "oy1F-yZH0eZq"
      }
    },
    {
      "cell_type": "code",
      "source": [
        "df_spark.printSchema()"
      ],
      "metadata": {
        "colab": {
          "base_uri": "https://localhost:8080/"
        },
        "id": "EexCrixOVg5E",
        "outputId": "c28ab2e2-557e-4b2c-9b1e-12b94c4418ef"
      },
      "execution_count": null,
      "outputs": [
        {
          "output_type": "stream",
          "name": "stdout",
          "text": [
            "root\n",
            " |-- Name: string (nullable = true)\n",
            " |-- Age: string (nullable = true)\n",
            "\n"
          ]
        }
      ]
    }
  ]
}