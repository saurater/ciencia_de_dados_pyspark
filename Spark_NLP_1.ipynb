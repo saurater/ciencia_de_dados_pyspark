{
  "nbformat": 4,
  "nbformat_minor": 0,
  "metadata": {
    "colab": {
      "name": "Spark_NLP_1.ipynb",
      "provenance": [],
      "authorship_tag": "ABX9TyP/E7Q/Ys2E1rpzYj4SMmn2",
      "include_colab_link": true
    },
    "kernelspec": {
      "name": "python3",
      "display_name": "Python 3"
    },
    "language_info": {
      "name": "python"
    }
  },
  "cells": [
    {
      "cell_type": "markdown",
      "metadata": {
        "id": "view-in-github",
        "colab_type": "text"
      },
      "source": [
        "<a href=\"https://colab.research.google.com/github/saurater/ciencia_de_dados_pyspark/blob/main/Spark_NLP_1.ipynb\" target=\"_parent\"><img src=\"https://colab.research.google.com/assets/colab-badge.svg\" alt=\"Open In Colab\"/></a>"
      ]
    },
    {
      "cell_type": "code",
      "execution_count": 1,
      "metadata": {
        "colab": {
          "base_uri": "https://localhost:8080/"
        },
        "id": "gSBK_dPkb7Tj",
        "outputId": "f954c180-3574-42c8-fcbe-4be8d7358a1d"
      },
      "outputs": [
        {
          "output_type": "stream",
          "name": "stdout",
          "text": [
            "Looking in indexes: https://pypi.org/simple, https://us-python.pkg.dev/colab-wheels/public/simple/\n",
            "Requirement already satisfied: pyspark in /usr/local/lib/python3.7/dist-packages (3.2.1)\n",
            "Requirement already satisfied: py4j==0.10.9.3 in /usr/local/lib/python3.7/dist-packages (from pyspark) (0.10.9.3)\n"
          ]
        }
      ],
      "source": [
        "pip install pyspark"
      ]
    },
    {
      "cell_type": "code",
      "source": [
        "from pyspark.sql import SparkSession"
      ],
      "metadata": {
        "id": "iatG14urb9iJ"
      },
      "execution_count": 2,
      "outputs": []
    },
    {
      "cell_type": "code",
      "source": [
        "from pyspark.ml.feature import HashingTF, IDF, Tokenizer"
      ],
      "metadata": {
        "id": "O_LzdFvWcHaB"
      },
      "execution_count": 3,
      "outputs": []
    },
    {
      "cell_type": "code",
      "source": [
        "# May take a little while on a local computer\n",
        "spark = SparkSession.builder.appName(\"NLP\").getOrCreate()"
      ],
      "metadata": {
        "id": "JPsTfA3QcAq4"
      },
      "execution_count": 4,
      "outputs": []
    },
    {
      "cell_type": "code",
      "source": [
        "sentenceData =  spark.createDataFrame([\n",
        "                                       (0.0, \"Hi, I heard about Spark\"),\n",
        "                                       (0.0 , \"I wish Java could use case classes\"),\n",
        "                                       (0.0, \"Logistic regression models are neat\" )                                 \n",
        "                                       ], [\"label\" , \"sentence\"])"
      ],
      "metadata": {
        "id": "YbAVDDrRcE8Y"
      },
      "execution_count": 5,
      "outputs": []
    },
    {
      "cell_type": "code",
      "source": [
        "sentenceData.show()"
      ],
      "metadata": {
        "colab": {
          "base_uri": "https://localhost:8080/"
        },
        "id": "7VT1OPg8dFIy",
        "outputId": "2fded7e5-ed59-402c-d3b0-7223c64639fa"
      },
      "execution_count": 6,
      "outputs": [
        {
          "output_type": "stream",
          "name": "stdout",
          "text": [
            "+-----+--------------------+\n",
            "|label|            sentence|\n",
            "+-----+--------------------+\n",
            "|  0.0|Hi, I heard about...|\n",
            "|  0.0|I wish Java could...|\n",
            "|  0.0|Logistic regressi...|\n",
            "+-----+--------------------+\n",
            "\n"
          ]
        }
      ]
    },
    {
      "cell_type": "code",
      "source": [
        "tokenziner = Tokenizer(inputCol=\"sentence\", outputCol='words')"
      ],
      "metadata": {
        "id": "4bo5MtGmdd6O"
      },
      "execution_count": 7,
      "outputs": []
    },
    {
      "cell_type": "code",
      "source": [
        "wordsData = tokenziner.transform(sentenceData)"
      ],
      "metadata": {
        "id": "zosseRlQdqPm"
      },
      "execution_count": 8,
      "outputs": []
    },
    {
      "cell_type": "code",
      "source": [
        "wordsData.show()"
      ],
      "metadata": {
        "colab": {
          "base_uri": "https://localhost:8080/"
        },
        "id": "ZWWBhdgSg77v",
        "outputId": "16f84822-c1ca-4373-ff8e-f8899e70b9d2"
      },
      "execution_count": 9,
      "outputs": [
        {
          "output_type": "stream",
          "name": "stdout",
          "text": [
            "+-----+--------------------+--------------------+\n",
            "|label|            sentence|               words|\n",
            "+-----+--------------------+--------------------+\n",
            "|  0.0|Hi, I heard about...|[hi,, i, heard, a...|\n",
            "|  0.0|I wish Java could...|[i, wish, java, c...|\n",
            "|  0.0|Logistic regressi...|[logistic, regres...|\n",
            "+-----+--------------------+--------------------+\n",
            "\n"
          ]
        }
      ]
    },
    {
      "cell_type": "code",
      "source": [
        "hashingTF = HashingTF(inputCol=\"words\", outputCol=\"rawFeatures\", numFeatures=20)"
      ],
      "metadata": {
        "id": "O9tnrOqJg-L8"
      },
      "execution_count": 10,
      "outputs": []
    },
    {
      "cell_type": "code",
      "source": [
        "featurizedData = hashingTF.transform(wordsData)"
      ],
      "metadata": {
        "id": "oE-NSD69hdJ0"
      },
      "execution_count": 11,
      "outputs": []
    },
    {
      "cell_type": "code",
      "source": [
        "featurizedData[\"rawFeatures\"]"
      ],
      "metadata": {
        "colab": {
          "base_uri": "https://localhost:8080/"
        },
        "id": "noxv7kuhhp_l",
        "outputId": "0f903ce1-b93d-40fe-a7dd-26475fc7a9e3"
      },
      "execution_count": 12,
      "outputs": [
        {
          "output_type": "execute_result",
          "data": {
            "text/plain": [
              "Column<'rawFeatures'>"
            ]
          },
          "metadata": {},
          "execution_count": 12
        }
      ]
    },
    {
      "cell_type": "code",
      "source": [
        "idf = IDF(inputCol=\"rawFeatures\", outputCol=\"features\")"
      ],
      "metadata": {
        "id": "Whij2M3YhwBA"
      },
      "execution_count": 13,
      "outputs": []
    },
    {
      "cell_type": "code",
      "source": [
        "idfModel = idf.fit(featurizedData)"
      ],
      "metadata": {
        "id": "X5hPlZVJh_do"
      },
      "execution_count": 14,
      "outputs": []
    },
    {
      "cell_type": "code",
      "source": [
        "rescaledData = idfModel.transform(featurizedData)"
      ],
      "metadata": {
        "id": "5jywbVsNiEtM"
      },
      "execution_count": 15,
      "outputs": []
    },
    {
      "cell_type": "code",
      "source": [
        "rescaledData.select('label', \"features\").show()"
      ],
      "metadata": {
        "colab": {
          "base_uri": "https://localhost:8080/"
        },
        "id": "TVWkqOttiZC-",
        "outputId": "7554982e-2439-42eb-e052-03e7ac2af668"
      },
      "execution_count": 16,
      "outputs": [
        {
          "output_type": "stream",
          "name": "stdout",
          "text": [
            "+-----+--------------------+\n",
            "|label|            features|\n",
            "+-----+--------------------+\n",
            "|  0.0|(20,[6,11,13,16],...|\n",
            "|  0.0|(20,[0,2,7,13,15,...|\n",
            "|  0.0|(20,[3,4,6,11,19]...|\n",
            "+-----+--------------------+\n",
            "\n"
          ]
        }
      ]
    },
    {
      "cell_type": "code",
      "source": [
        "spark.stop()"
      ],
      "metadata": {
        "id": "OiHxtqoqibz2"
      },
      "execution_count": 17,
      "outputs": []
    }
  ]
}