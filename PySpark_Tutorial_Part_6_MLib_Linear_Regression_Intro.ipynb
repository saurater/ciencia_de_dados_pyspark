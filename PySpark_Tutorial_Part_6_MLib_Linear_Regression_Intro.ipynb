{
  "nbformat": 4,
  "nbformat_minor": 0,
  "metadata": {
    "colab": {
      "name": "PySpark - Tutorial - Part 6 - MLib_Linear_Regression_Intro.ipynb",
      "provenance": [],
      "collapsed_sections": [],
      "authorship_tag": "ABX9TyNL7JA/+tENhp21QZRMI7oF",
      "include_colab_link": true
    },
    "kernelspec": {
      "name": "python3",
      "display_name": "Python 3"
    },
    "language_info": {
      "name": "python"
    }
  },
  "cells": [
    {
      "cell_type": "markdown",
      "metadata": {
        "id": "view-in-github",
        "colab_type": "text"
      },
      "source": [
        "<a href=\"https://colab.research.google.com/github/saurater/ciencia_de_dados_pyspark/blob/main/PySpark_Tutorial_Part_6_MLib_Linear_Regression_Intro.ipynb\" target=\"_parent\"><img src=\"https://colab.research.google.com/assets/colab-badge.svg\" alt=\"Open In Colab\"/></a>"
      ]
    },
    {
      "cell_type": "markdown",
      "source": [
        "# PySpark - Tutorial - Part 6 - MLib -Linear Regression - Intro\n",
        "Notebook by Sam Faraday\n",
        "June 2022\n",
        "\n",
        "\n",
        "\n",
        "## Sources:\n",
        "\n",
        "Free Code Camp: PySpark Tutorial at https://www.youtube.com/watch?v=_C8kWso4ne4\n",
        "\n",
        "Apache Spark API Refernce at https://spark.apache.org/docs/latest/api/python/reference/index.html"
      ],
      "metadata": {
        "id": "1gO40bI1jmDH"
      }
    },
    {
      "cell_type": "markdown",
      "source": [
        "# 1. Installing PySpark"
      ],
      "metadata": {
        "id": "V3nL9FJB31yo"
      }
    },
    {
      "cell_type": "code",
      "execution_count": 1,
      "metadata": {
        "id": "33ZSK1rk2y-O",
        "colab": {
          "base_uri": "https://localhost:8080/"
        },
        "outputId": "71d2610c-bb25-4b85-98de-da709731b5b4"
      },
      "outputs": [
        {
          "output_type": "stream",
          "name": "stdout",
          "text": [
            "Looking in indexes: https://pypi.org/simple, https://us-python.pkg.dev/colab-wheels/public/simple/\n",
            "Requirement already satisfied: pyspark in /usr/local/lib/python3.7/dist-packages (3.2.1)\n",
            "Requirement already satisfied: py4j==0.10.9.3 in /usr/local/lib/python3.7/dist-packages (from pyspark) (0.10.9.3)\n"
          ]
        }
      ],
      "source": [
        "pip install pyspark # run it every time you connect to Google Colab Notebook"
      ]
    },
    {
      "cell_type": "markdown",
      "source": [
        "# 2. Importing the required libraries"
      ],
      "metadata": {
        "id": "QQqTFXSuIHfd"
      }
    },
    {
      "cell_type": "code",
      "source": [
        "import pandas as pd"
      ],
      "metadata": {
        "id": "Une4AQbH5lcM"
      },
      "execution_count": 2,
      "outputs": []
    },
    {
      "cell_type": "markdown",
      "source": [
        "# 3. Creating the Test5 Dataset"
      ],
      "metadata": {
        "id": "XmtDyAUr3zfp"
      }
    },
    {
      "cell_type": "code",
      "source": [
        "data = {'Index':[1,2,3,4,5,6], 'Name':['Tom', 'Nick', 'Krish', 'Paul','Jack','Sam'], 'Age':[31, 30, 29, 24, 21,23],'Experience':[10, 8, 4, 3,1,2], 'Salary':[30000, 25000, 20000, 20000, 15000, 18000] }\n",
        "# Create DataFrame\n",
        "df = pd.DataFrame(data)\n",
        "df"
      ],
      "metadata": {
        "colab": {
          "base_uri": "https://localhost:8080/",
          "height": 238
        },
        "id": "TjaaUmhz4sOu",
        "outputId": "e99d87ee-8932-42f4-9451-8a6b68363bd0"
      },
      "execution_count": 3,
      "outputs": [
        {
          "output_type": "execute_result",
          "data": {
            "text/plain": [
              "   Index   Name  Age  Experience  Salary\n",
              "0      1    Tom   31          10   30000\n",
              "1      2   Nick   30           8   25000\n",
              "2      3  Krish   29           4   20000\n",
              "3      4   Paul   24           3   20000\n",
              "4      5   Jack   21           1   15000\n",
              "5      6    Sam   23           2   18000"
            ],
            "text/html": [
              "<div>\n",
              "<style scoped>\n",
              "    .dataframe tbody tr th:only-of-type {\n",
              "        vertical-align: middle;\n",
              "    }\n",
              "\n",
              "    .dataframe tbody tr th {\n",
              "        vertical-align: top;\n",
              "    }\n",
              "\n",
              "    .dataframe thead th {\n",
              "        text-align: right;\n",
              "    }\n",
              "</style>\n",
              "<table border=\"1\" class=\"dataframe\">\n",
              "  <thead>\n",
              "    <tr style=\"text-align: right;\">\n",
              "      <th></th>\n",
              "      <th>Index</th>\n",
              "      <th>Name</th>\n",
              "      <th>Age</th>\n",
              "      <th>Experience</th>\n",
              "      <th>Salary</th>\n",
              "    </tr>\n",
              "  </thead>\n",
              "  <tbody>\n",
              "    <tr>\n",
              "      <th>0</th>\n",
              "      <td>1</td>\n",
              "      <td>Tom</td>\n",
              "      <td>31</td>\n",
              "      <td>10</td>\n",
              "      <td>30000</td>\n",
              "    </tr>\n",
              "    <tr>\n",
              "      <th>1</th>\n",
              "      <td>2</td>\n",
              "      <td>Nick</td>\n",
              "      <td>30</td>\n",
              "      <td>8</td>\n",
              "      <td>25000</td>\n",
              "    </tr>\n",
              "    <tr>\n",
              "      <th>2</th>\n",
              "      <td>3</td>\n",
              "      <td>Krish</td>\n",
              "      <td>29</td>\n",
              "      <td>4</td>\n",
              "      <td>20000</td>\n",
              "    </tr>\n",
              "    <tr>\n",
              "      <th>3</th>\n",
              "      <td>4</td>\n",
              "      <td>Paul</td>\n",
              "      <td>24</td>\n",
              "      <td>3</td>\n",
              "      <td>20000</td>\n",
              "    </tr>\n",
              "    <tr>\n",
              "      <th>4</th>\n",
              "      <td>5</td>\n",
              "      <td>Jack</td>\n",
              "      <td>21</td>\n",
              "      <td>1</td>\n",
              "      <td>15000</td>\n",
              "    </tr>\n",
              "    <tr>\n",
              "      <th>5</th>\n",
              "      <td>6</td>\n",
              "      <td>Sam</td>\n",
              "      <td>23</td>\n",
              "      <td>2</td>\n",
              "      <td>18000</td>\n",
              "    </tr>\n",
              "  </tbody>\n",
              "</table>\n",
              "</div>"
            ]
          },
          "metadata": {},
          "execution_count": 3
        }
      ]
    },
    {
      "cell_type": "markdown",
      "source": [
        "# 4. Saving the Dataset\n",
        "to csv"
      ],
      "metadata": {
        "id": "kLXndUDU406k"
      }
    },
    {
      "cell_type": "code",
      "source": [
        "df.to_csv('test6.csv', index=False)"
      ],
      "metadata": {
        "id": "7lm1JqxW41pc"
      },
      "execution_count": 4,
      "outputs": []
    },
    {
      "cell_type": "markdown",
      "source": [
        "# 5. Initializing PySpark\n"
      ],
      "metadata": {
        "id": "gwoN6Ydi5D-U"
      }
    },
    {
      "cell_type": "code",
      "source": [
        "from pyspark.sql import SparkSession\n",
        "\n",
        "spark = SparkSession.builder.appName(\"MLIB\").getOrCreate()\n",
        "\n",
        "spark"
      ],
      "metadata": {
        "colab": {
          "base_uri": "https://localhost:8080/",
          "height": 219
        },
        "id": "T17DEL0w5Gvs",
        "outputId": "89df720b-73e3-45db-cccf-cab0f2370b7b"
      },
      "execution_count": 5,
      "outputs": [
        {
          "output_type": "execute_result",
          "data": {
            "text/plain": [
              "<pyspark.sql.session.SparkSession at 0x7f509acc1f10>"
            ],
            "text/html": [
              "\n",
              "            <div>\n",
              "                <p><b>SparkSession - in-memory</b></p>\n",
              "                \n",
              "        <div>\n",
              "            <p><b>SparkContext</b></p>\n",
              "\n",
              "            <p><a href=\"http://8e6a797c1c36:4040\">Spark UI</a></p>\n",
              "\n",
              "            <dl>\n",
              "              <dt>Version</dt>\n",
              "                <dd><code>v3.2.1</code></dd>\n",
              "              <dt>Master</dt>\n",
              "                <dd><code>local[*]</code></dd>\n",
              "              <dt>AppName</dt>\n",
              "                <dd><code>MLIB</code></dd>\n",
              "            </dl>\n",
              "        </div>\n",
              "        \n",
              "            </div>\n",
              "        "
            ]
          },
          "metadata": {},
          "execution_count": 5
        }
      ]
    },
    {
      "cell_type": "markdown",
      "source": [
        "# 6. Reading the Dataset"
      ],
      "metadata": {
        "id": "K11MnO9B9MFj"
      }
    },
    {
      "cell_type": "code",
      "source": [
        "df_training = spark.read.csv(\"test6.csv\", header =True, inferSchema =True)\n",
        "df_training.show()"
      ],
      "metadata": {
        "colab": {
          "base_uri": "https://localhost:8080/"
        },
        "id": "d5u5OdbD9Q_z",
        "outputId": "5c186b28-6519-4193-9f0c-974f638a112d"
      },
      "execution_count": 6,
      "outputs": [
        {
          "output_type": "stream",
          "name": "stdout",
          "text": [
            "+-----+-----+---+----------+------+\n",
            "|Index| Name|Age|Experience|Salary|\n",
            "+-----+-----+---+----------+------+\n",
            "|    1|  Tom| 31|        10| 30000|\n",
            "|    2| Nick| 30|         8| 25000|\n",
            "|    3|Krish| 29|         4| 20000|\n",
            "|    4| Paul| 24|         3| 20000|\n",
            "|    5| Jack| 21|         1| 15000|\n",
            "|    6|  Sam| 23|         2| 18000|\n",
            "+-----+-----+---+----------+------+\n",
            "\n"
          ]
        }
      ]
    },
    {
      "cell_type": "markdown",
      "source": [
        "# 7. Checking the Schema"
      ],
      "metadata": {
        "id": "f6pGwS2a-igW"
      }
    },
    {
      "cell_type": "code",
      "source": [
        "df_training.printSchema()"
      ],
      "metadata": {
        "colab": {
          "base_uri": "https://localhost:8080/"
        },
        "id": "ELuYNyLA-lzH",
        "outputId": "4ced7f51-8d01-463a-9dac-1a2ab2d0f2ef"
      },
      "execution_count": 7,
      "outputs": [
        {
          "output_type": "stream",
          "name": "stdout",
          "text": [
            "root\n",
            " |-- Index: integer (nullable = true)\n",
            " |-- Name: string (nullable = true)\n",
            " |-- Age: integer (nullable = true)\n",
            " |-- Experience: integer (nullable = true)\n",
            " |-- Salary: integer (nullable = true)\n",
            "\n"
          ]
        }
      ]
    },
    {
      "cell_type": "code",
      "source": [
        "df_training.summary().show()"
      ],
      "metadata": {
        "colab": {
          "base_uri": "https://localhost:8080/"
        },
        "id": "paB_yGbgcmY2",
        "outputId": "d0ce76b0-f55e-4f6d-ce32-b6cfa1c7f575"
      },
      "execution_count": 8,
      "outputs": [
        {
          "output_type": "stream",
          "name": "stdout",
          "text": [
            "+-------+------------------+----+------------------+-----------------+------------------+\n",
            "|summary|             Index|Name|               Age|       Experience|            Salary|\n",
            "+-------+------------------+----+------------------+-----------------+------------------+\n",
            "|  count|                 6|   6|                 6|                6|                 6|\n",
            "|   mean|               3.5|null|26.333333333333332|4.666666666666667|21333.333333333332|\n",
            "| stddev|1.8708286933869707|null| 4.179314138308661|3.559026084010437| 5354.126134736337|\n",
            "|    min|                 1|Jack|                21|                1|             15000|\n",
            "|    25%|                 2|null|                23|                2|             18000|\n",
            "|    50%|                 3|null|                24|                3|             20000|\n",
            "|    75%|                 5|null|                30|                8|             25000|\n",
            "|    max|                 6| Tom|                31|               10|             30000|\n",
            "+-------+------------------+----+------------------+-----------------+------------------+\n",
            "\n"
          ]
        }
      ]
    },
    {
      "cell_type": "markdown",
      "source": [
        "# 8. Creating Indepent Features Group\n",
        "\n",
        "Salary is our Dependent Feature, the one we want to predict\n",
        "\n",
        "Age and Expirience are our Independent Features. Let us group them"
      ],
      "metadata": {
        "id": "0y2sN33DETzv"
      }
    },
    {
      "cell_type": "code",
      "source": [
        "from pyspark.ml.feature import VectorAssembler"
      ],
      "metadata": {
        "id": "q-6WdHDBET8W"
      },
      "execution_count": 9,
      "outputs": []
    },
    {
      "cell_type": "code",
      "source": [
        "my_feature_assembler = VectorAssembler(inputCols =['Age', 'Experience'],outputCol=\"Independent Features\" )"
      ],
      "metadata": {
        "id": "SetEljmTEcJK"
      },
      "execution_count": 10,
      "outputs": []
    },
    {
      "cell_type": "code",
      "source": [
        "output = my_feature_assembler.transform(df_training)"
      ],
      "metadata": {
        "id": "bHf3d8yqFrHb"
      },
      "execution_count": 11,
      "outputs": []
    },
    {
      "cell_type": "code",
      "source": [
        "output.show()"
      ],
      "metadata": {
        "colab": {
          "base_uri": "https://localhost:8080/"
        },
        "id": "M8yvQaynGeCg",
        "outputId": "51513f2d-d1ff-49f4-dca7-d56f44a626ba"
      },
      "execution_count": 12,
      "outputs": [
        {
          "output_type": "stream",
          "name": "stdout",
          "text": [
            "+-----+-----+---+----------+------+--------------------+\n",
            "|Index| Name|Age|Experience|Salary|Independent Features|\n",
            "+-----+-----+---+----------+------+--------------------+\n",
            "|    1|  Tom| 31|        10| 30000|         [31.0,10.0]|\n",
            "|    2| Nick| 30|         8| 25000|          [30.0,8.0]|\n",
            "|    3|Krish| 29|         4| 20000|          [29.0,4.0]|\n",
            "|    4| Paul| 24|         3| 20000|          [24.0,3.0]|\n",
            "|    5| Jack| 21|         1| 15000|          [21.0,1.0]|\n",
            "|    6|  Sam| 23|         2| 18000|          [23.0,2.0]|\n",
            "+-----+-----+---+----------+------+--------------------+\n",
            "\n"
          ]
        }
      ]
    },
    {
      "cell_type": "code",
      "source": [
        "output.columns"
      ],
      "metadata": {
        "colab": {
          "base_uri": "https://localhost:8080/"
        },
        "id": "YOv5GafCG5j2",
        "outputId": "7bb8d91b-61b5-4861-ab14-b372350d96f7"
      },
      "execution_count": 13,
      "outputs": [
        {
          "output_type": "execute_result",
          "data": {
            "text/plain": [
              "['Index', 'Name', 'Age', 'Experience', 'Salary', 'Independent Features']"
            ]
          },
          "metadata": {},
          "execution_count": 13
        }
      ]
    },
    {
      "cell_type": "markdown",
      "source": [
        "# 9. Selecting only the Dependent Feature (Salary) and the Grouped Features"
      ],
      "metadata": {
        "id": "V0iQsaRfHLFC"
      }
    },
    {
      "cell_type": "code",
      "source": [
        "finalized_data =  output.select(\"Independent Features\", \"Salary\")\n",
        "finalized_data.show()"
      ],
      "metadata": {
        "colab": {
          "base_uri": "https://localhost:8080/"
        },
        "id": "RbiR8dRsHTkj",
        "outputId": "65944d78-03d9-47b8-aff9-88a14be3a25e"
      },
      "execution_count": 14,
      "outputs": [
        {
          "output_type": "stream",
          "name": "stdout",
          "text": [
            "+--------------------+------+\n",
            "|Independent Features|Salary|\n",
            "+--------------------+------+\n",
            "|         [31.0,10.0]| 30000|\n",
            "|          [30.0,8.0]| 25000|\n",
            "|          [29.0,4.0]| 20000|\n",
            "|          [24.0,3.0]| 20000|\n",
            "|          [21.0,1.0]| 15000|\n",
            "|          [23.0,2.0]| 18000|\n",
            "+--------------------+------+\n",
            "\n"
          ]
        }
      ]
    },
    {
      "cell_type": "markdown",
      "source": [
        "# 10. Importing the Regession Library"
      ],
      "metadata": {
        "id": "934sjIlhHuEe"
      }
    },
    {
      "cell_type": "code",
      "source": [
        "from pyspark.ml.regression import LinearRegression"
      ],
      "metadata": {
        "id": "xB2tfpIbHxHk"
      },
      "execution_count": 15,
      "outputs": []
    },
    {
      "cell_type": "markdown",
      "source": [
        "# 11. Split the Datasets into Training (75%) and Testing (25%)"
      ],
      "metadata": {
        "id": "kqSCoG7tH8TS"
      }
    },
    {
      "cell_type": "code",
      "source": [
        "training_data, testing_data = finalized_data.randomSplit([0.75,0.25])"
      ],
      "metadata": {
        "id": "T4jrjjCCIBgT"
      },
      "execution_count": 16,
      "outputs": []
    },
    {
      "cell_type": "code",
      "source": [
        "training_data.show()"
      ],
      "metadata": {
        "colab": {
          "base_uri": "https://localhost:8080/"
        },
        "id": "5MDRJmQQIPW0",
        "outputId": "aafce808-f71e-46bc-ce61-7b11ff415f69"
      },
      "execution_count": 17,
      "outputs": [
        {
          "output_type": "stream",
          "name": "stdout",
          "text": [
            "+--------------------+------+\n",
            "|Independent Features|Salary|\n",
            "+--------------------+------+\n",
            "|          [21.0,1.0]| 15000|\n",
            "|          [23.0,2.0]| 18000|\n",
            "|          [24.0,3.0]| 20000|\n",
            "|          [29.0,4.0]| 20000|\n",
            "|         [31.0,10.0]| 30000|\n",
            "+--------------------+------+\n",
            "\n"
          ]
        }
      ]
    },
    {
      "cell_type": "code",
      "source": [
        "testing_data.show()"
      ],
      "metadata": {
        "colab": {
          "base_uri": "https://localhost:8080/"
        },
        "id": "8JwQ4YVkISQJ",
        "outputId": "d83ec1e6-2e28-474e-cd38-826ca88c7f23"
      },
      "execution_count": 18,
      "outputs": [
        {
          "output_type": "stream",
          "name": "stdout",
          "text": [
            "+--------------------+------+\n",
            "|Independent Features|Salary|\n",
            "+--------------------+------+\n",
            "|          [30.0,8.0]| 25000|\n",
            "+--------------------+------+\n",
            "\n"
          ]
        }
      ]
    },
    {
      "cell_type": "markdown",
      "source": [
        "# 12. Fitting the model"
      ],
      "metadata": {
        "id": "2a5DVRYVIliN"
      }
    },
    {
      "cell_type": "code",
      "source": [
        "regressor = LinearRegression(featuresCol='Independent Features', labelCol='Salary')"
      ],
      "metadata": {
        "id": "wjzqtW1tIo66"
      },
      "execution_count": 19,
      "outputs": []
    },
    {
      "cell_type": "code",
      "source": [
        "regressor = regressor.fit(training_data)\n"
      ],
      "metadata": {
        "id": "BcCy42JvI6gx"
      },
      "execution_count": 20,
      "outputs": []
    },
    {
      "cell_type": "markdown",
      "source": [
        "# 13. Checking the Coefficients and Intercepts"
      ],
      "metadata": {
        "id": "rELd-GldJHng"
      }
    },
    {
      "cell_type": "code",
      "source": [
        "regressor.coefficients"
      ],
      "metadata": {
        "colab": {
          "base_uri": "https://localhost:8080/"
        },
        "id": "i4dErf1bJMIE",
        "outputId": "4d3ffd5e-2c7f-46c5-8a64-bf8044b8cf65"
      },
      "execution_count": 21,
      "outputs": [
        {
          "output_type": "execute_result",
          "data": {
            "text/plain": [
              "DenseVector([-102.53, 1688.6818])"
            ]
          },
          "metadata": {},
          "execution_count": 21
        }
      ]
    },
    {
      "cell_type": "code",
      "source": [
        "regressor.intercept"
      ],
      "metadata": {
        "colab": {
          "base_uri": "https://localhost:8080/"
        },
        "id": "8DOsi7jPKkVy",
        "outputId": "4cf9d9f3-2be2-4726-daac-f08e6af994a8"
      },
      "execution_count": 22,
      "outputs": [
        {
          "output_type": "execute_result",
          "data": {
            "text/plain": [
              "16470.039946737463"
            ]
          },
          "metadata": {},
          "execution_count": 22
        }
      ]
    },
    {
      "cell_type": "code",
      "source": [
        ""
      ],
      "metadata": {
        "id": "0OY3zvHiL99H"
      },
      "execution_count": 22,
      "outputs": []
    },
    {
      "cell_type": "markdown",
      "source": [
        "# 14. Predicting"
      ],
      "metadata": {
        "id": "VTcEVVivMHYs"
      }
    },
    {
      "cell_type": "code",
      "source": [
        "my_prediction =  regressor.evaluate(testing_data)"
      ],
      "metadata": {
        "id": "5HCqCjbVMJ8L"
      },
      "execution_count": 23,
      "outputs": []
    },
    {
      "cell_type": "code",
      "source": [
        "my_prediction.predictions.show()"
      ],
      "metadata": {
        "colab": {
          "base_uri": "https://localhost:8080/"
        },
        "id": "D6j6c2mWMV4q",
        "outputId": "ae9f4868-2b1e-4361-dead-5c04b08bc79a"
      },
      "execution_count": 24,
      "outputs": [
        {
          "output_type": "stream",
          "name": "stderr",
          "text": [
            "/usr/local/lib/python3.7/dist-packages/pyspark/sql/context.py:127: FutureWarning: Deprecated in 3.0.0. Use SparkSession.builder.getOrCreate() instead.\n",
            "  FutureWarning\n"
          ]
        },
        {
          "output_type": "stream",
          "name": "stdout",
          "text": [
            "+--------------------+------+------------------+\n",
            "|Independent Features|Salary|        prediction|\n",
            "+--------------------+------+------------------+\n",
            "|          [30.0,8.0]| 25000|26903.595206391477|\n",
            "+--------------------+------+------------------+\n",
            "\n"
          ]
        }
      ]
    },
    {
      "cell_type": "code",
      "source": [
        "# Print the coefficients and intercept for linear regression\n",
        "print(\"Coefficients: %s\" % str(regressor.coefficients))\n",
        "print(\"Intercept: %s\" % str(regressor.intercept))"
      ],
      "metadata": {
        "colab": {
          "base_uri": "https://localhost:8080/"
        },
        "id": "H2lopWIdOpuo",
        "outputId": "dfd205d3-cb9b-4e14-c4f9-bf4a7c95a292"
      },
      "execution_count": 25,
      "outputs": [
        {
          "output_type": "stream",
          "name": "stdout",
          "text": [
            "Coefficients: [-102.52996005325171,1688.6817576564458]\n",
            "Intercept: 16470.039946737463\n"
          ]
        }
      ]
    },
    {
      "cell_type": "code",
      "source": [
        "my_prediction.meanAbsoluteError"
      ],
      "metadata": {
        "colab": {
          "base_uri": "https://localhost:8080/"
        },
        "id": "xzI7j6tyUgDu",
        "outputId": "3cf9f8cd-ff2b-4a47-ba80-8591fdcf8279"
      },
      "execution_count": 26,
      "outputs": [
        {
          "output_type": "execute_result",
          "data": {
            "text/plain": [
              "1903.5952063914774"
            ]
          },
          "metadata": {},
          "execution_count": 26
        }
      ]
    },
    {
      "cell_type": "code",
      "source": [
        "my_prediction.meanSquaredError"
      ],
      "metadata": {
        "colab": {
          "base_uri": "https://localhost:8080/"
        },
        "id": "D9igsN0AViHo",
        "outputId": "0d0c1f9c-aa42-41e2-82ea-76fccbe673f4"
      },
      "execution_count": 27,
      "outputs": [
        {
          "output_type": "execute_result",
          "data": {
            "text/plain": [
              "3623674.7097966117"
            ]
          },
          "metadata": {},
          "execution_count": 27
        }
      ]
    }
  ]
}