{
  "nbformat": 4,
  "nbformat_minor": 0,
  "metadata": {
    "colab": {
      "name": "PySpark - Mapping Reduzido por Chave - Parte I.ipynb",
      "provenance": [],
      "authorship_tag": "ABX9TyOtAALgrOqTqnCoPaTox5PA",
      "include_colab_link": true
    },
    "kernelspec": {
      "name": "python3",
      "display_name": "Python 3"
    },
    "language_info": {
      "name": "python"
    }
  },
  "cells": [
    {
      "cell_type": "markdown",
      "metadata": {
        "id": "view-in-github",
        "colab_type": "text"
      },
      "source": [
        "<a href=\"https://colab.research.google.com/github/saurater/ciencia_de_dados_pyspark/blob/main/PySpark_Mapping_Reduzido_por_Chave_Parte_I.ipynb\" target=\"_parent\"><img src=\"https://colab.research.google.com/assets/colab-badge.svg\" alt=\"Open In Colab\"/></a>"
      ]
    },
    {
      "cell_type": "markdown",
      "source": [
        "# PySpark - Mapping Reduzido por Chave - Parte I\n",
        "\n",
        "## Adaptação do IGTI por Sam Faraday\n",
        "\n",
        "June 2022"
      ],
      "metadata": {
        "application/vnd.databricks.v1+cell": {
          "title": "",
          "showTitle": false,
          "inputWidgets": {},
          "nuid": "c233a29b-65a1-4708-b383-3e6398c2688d"
        },
        "id": "V7rpmWN2CMje"
      }
    },
    {
      "cell_type": "markdown",
      "source": [
        "# Instala o Pyspark"
      ],
      "metadata": {
        "id": "FGrhPD2kjG1A"
      }
    },
    {
      "cell_type": "code",
      "source": [
        "pip install pyspark"
      ],
      "metadata": {
        "id": "p-Lyy7XEC7VF",
        "colab": {
          "base_uri": "https://localhost:8080/"
        },
        "outputId": "4d16e540-7be2-4892-9844-7559a796c9ef"
      },
      "execution_count": 1,
      "outputs": [
        {
          "output_type": "stream",
          "name": "stdout",
          "text": [
            "Looking in indexes: https://pypi.org/simple, https://us-python.pkg.dev/colab-wheels/public/simple/\n",
            "Requirement already satisfied: pyspark in /usr/local/lib/python3.7/dist-packages (3.2.1)\n",
            "Requirement already satisfied: py4j==0.10.9.3 in /usr/local/lib/python3.7/dist-packages (from pyspark) (0.10.9.3)\n"
          ]
        }
      ]
    },
    {
      "cell_type": "markdown",
      "source": [
        "# Importa o SparkSession e cria a Sessão"
      ],
      "metadata": {
        "id": "-ojGe1jMjF7a"
      }
    },
    {
      "cell_type": "code",
      "source": [
        "from pyspark.sql import SparkSession\n",
        "spark  =  SparkSession.builder.appName(\"Mapeando_Reduzido_por_Chave\").getOrCreate()"
      ],
      "metadata": {
        "application/vnd.databricks.v1+cell": {
          "title": "Importa e Inicia uma Sessão",
          "showTitle": true,
          "inputWidgets": {},
          "nuid": "e3cbe37e-eb71-4154-9e36-b0da7be52ed5"
        },
        "id": "emDOhokjCMji"
      },
      "outputs": [],
      "execution_count": 2
    },
    {
      "cell_type": "markdown",
      "source": [
        "# Crio uma lista"
      ],
      "metadata": {
        "id": "I9TofM31jiap"
      }
    },
    {
      "cell_type": "code",
      "source": [
        "minha_lista = [\"um\", \"um\", \"dois\", \"dois\", \"tres\"]"
      ],
      "metadata": {
        "id": "raFE-AOvf0UV"
      },
      "execution_count": 3,
      "outputs": []
    },
    {
      "cell_type": "markdown",
      "source": [
        "# Transforme essa lista em um RDD com o parallelize"
      ],
      "metadata": {
        "id": "0RXPyNUpjlto"
      }
    },
    {
      "cell_type": "code",
      "source": [
        "minha_rdd = spark.sparkContext.parallelize(minha_lista)"
      ],
      "metadata": {
        "id": "9jqnPzobf9kd"
      },
      "execution_count": 4,
      "outputs": []
    },
    {
      "cell_type": "markdown",
      "source": [
        "# Aplico a redução por chave"
      ],
      "metadata": {
        "id": "AX-X-zlUjva4"
      }
    },
    {
      "cell_type": "code",
      "source": [
        "minha_rdd_contada = (minha_rdd.map(lambda w : (w , 1)).reduceByKey(lambda a , b : a+b))"
      ],
      "metadata": {
        "id": "Ho6WEcK0giJw"
      },
      "execution_count": 5,
      "outputs": []
    },
    {
      "cell_type": "markdown",
      "source": [
        "# Imprimindo nos Workers\n",
        "## Nada será impresso na tela aqui"
      ],
      "metadata": {
        "id": "lVqmI6bbO2Lp"
      }
    },
    {
      "cell_type": "code",
      "source": [
        "# Nada será impresso em tela. Apenas nos workers, por isso as duas linhas alternativas seguintes\n",
        "minha_rdd_contada.foreach(print)"
      ],
      "metadata": {
        "application/vnd.databricks.v1+cell": {
          "title": "Atenção: Não será impresso nenhum resultado em tela, apenas nos workers.  As 2 linhas seguintes são uma alternativa",
          "showTitle": true,
          "inputWidgets": {},
          "nuid": "756a1617-be8b-453d-84f2-6a8728b99ecf"
        },
        "id": "DiAQTtd7CMjk"
      },
      "outputs": [],
      "execution_count": 6
    },
    {
      "cell_type": "markdown",
      "source": [
        "# Alternativa de impressão em tela"
      ],
      "metadata": {
        "id": "H7DQswy_PDMR"
      }
    },
    {
      "cell_type": "code",
      "source": [
        "# Pegam-se os dados dos Workers e trazem-se para o Master com a função collect\n",
        "saida_mapeada = minha_rdd_contada.collect()"
      ],
      "metadata": {
        "application/vnd.databricks.v1+cell": {
          "title": "Trago os dados dos Workders para o Master, colocando na variável saida_mapeada",
          "showTitle": true,
          "inputWidgets": {},
          "nuid": "085cd7a7-384f-44a7-8a03-92532fdeef8b"
        },
        "id": "jcqp2ym4CMjl"
      },
      "outputs": [],
      "execution_count": 7
    },
    {
      "cell_type": "code",
      "source": [
        "#imprime linha a linha, mostrando o tamanho de cada uma\n",
        "for cada_linha  in saida_mapeada:\n",
        "        print(cada_linha)\n",
        "       "
      ],
      "metadata": {
        "application/vnd.databricks.v1+cell": {
          "title": "Imprimo linha a linha da variável saida_mapeada",
          "showTitle": true,
          "inputWidgets": {},
          "nuid": "789af03b-42bd-4d18-9089-f73d51f2e613"
        },
        "colab": {
          "base_uri": "https://localhost:8080/"
        },
        "id": "5I2PTKt-CMjl",
        "outputId": "2d2cd979-d9b1-47c1-95e4-b293d38c814f"
      },
      "outputs": [
        {
          "output_type": "stream",
          "name": "stdout",
          "text": [
            "('um', 2)\n",
            "('dois', 2)\n",
            "('tres', 1)\n"
          ]
        }
      ],
      "execution_count": 8
    }
  ]
}