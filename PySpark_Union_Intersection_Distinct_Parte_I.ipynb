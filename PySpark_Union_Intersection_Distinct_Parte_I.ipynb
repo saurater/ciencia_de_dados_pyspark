{
  "nbformat": 4,
  "nbformat_minor": 0,
  "metadata": {
    "colab": {
      "name": "PySpark - Union - Intersection - Distinct - Parte I.ipynb",
      "provenance": [],
      "authorship_tag": "ABX9TyN0ELAFtiFTCiw39l7rTgI0",
      "include_colab_link": true
    },
    "kernelspec": {
      "name": "python3",
      "display_name": "Python 3"
    },
    "language_info": {
      "name": "python"
    }
  },
  "cells": [
    {
      "cell_type": "markdown",
      "metadata": {
        "id": "view-in-github",
        "colab_type": "text"
      },
      "source": [
        "<a href=\"https://colab.research.google.com/github/saurater/ciencia_de_dados_pyspark/blob/main/PySpark_Union_Intersection_Distinct_Parte_I.ipynb\" target=\"_parent\"><img src=\"https://colab.research.google.com/assets/colab-badge.svg\" alt=\"Open In Colab\"/></a>"
      ]
    },
    {
      "cell_type": "markdown",
      "source": [
        "# PySpark - Union - Intersection - Distinct - Parte I\n",
        "\n",
        "## Adaptação do IGTI por Sam Faraday\n",
        "\n",
        "June 2022"
      ],
      "metadata": {
        "application/vnd.databricks.v1+cell": {
          "title": "",
          "showTitle": false,
          "inputWidgets": {},
          "nuid": "c233a29b-65a1-4708-b383-3e6398c2688d"
        },
        "id": "V7rpmWN2CMje"
      }
    },
    {
      "cell_type": "markdown",
      "source": [
        "# Instala o Pyspark"
      ],
      "metadata": {
        "id": "FGrhPD2kjG1A"
      }
    },
    {
      "cell_type": "code",
      "source": [
        "pip install pyspark"
      ],
      "metadata": {
        "id": "p-Lyy7XEC7VF",
        "colab": {
          "base_uri": "https://localhost:8080/"
        },
        "outputId": "99dfcb10-b41c-49c3-f03a-3c09ecf0b169"
      },
      "execution_count": 1,
      "outputs": [
        {
          "output_type": "stream",
          "name": "stdout",
          "text": [
            "Looking in indexes: https://pypi.org/simple, https://us-python.pkg.dev/colab-wheels/public/simple/\n",
            "Requirement already satisfied: pyspark in /usr/local/lib/python3.7/dist-packages (3.2.1)\n",
            "Requirement already satisfied: py4j==0.10.9.3 in /usr/local/lib/python3.7/dist-packages (from pyspark) (0.10.9.3)\n"
          ]
        }
      ]
    },
    {
      "cell_type": "markdown",
      "source": [
        "# Importa o SparkSession e cria a Sessão"
      ],
      "metadata": {
        "id": "-ojGe1jMjF7a"
      }
    },
    {
      "cell_type": "code",
      "source": [
        "from pyspark.sql import SparkSession\n",
        "spark  =  SparkSession.builder.appName(\"Mapeando_Reduzido_por_Chave\").getOrCreate()"
      ],
      "metadata": {
        "application/vnd.databricks.v1+cell": {
          "title": "Importa e Inicia uma Sessão",
          "showTitle": true,
          "inputWidgets": {},
          "nuid": "e3cbe37e-eb71-4154-9e36-b0da7be52ed5"
        },
        "id": "emDOhokjCMji"
      },
      "outputs": [],
      "execution_count": 2
    },
    {
      "cell_type": "markdown",
      "source": [
        "# Crio as listas"
      ],
      "metadata": {
        "id": "I9TofM31jiap"
      }
    },
    {
      "cell_type": "code",
      "source": [
        "minha_lista_1 = [\"um\", \"um\", \"dois\", \"dois\", \"tres\"]\n",
        "\n",
        "minha_lista_2 = [\"um\", \"quatro\", \"cinco\"]"
      ],
      "metadata": {
        "id": "raFE-AOvf0UV"
      },
      "execution_count": 3,
      "outputs": []
    },
    {
      "cell_type": "markdown",
      "source": [
        "# Transforme essas listas em um RDD com o parallelize"
      ],
      "metadata": {
        "id": "0RXPyNUpjlto"
      }
    },
    {
      "cell_type": "code",
      "source": [
        "minha_rdd_1 = spark.sparkContext.parallelize(minha_lista_1)\n",
        "\n",
        "minha_rdd_2 = spark.sparkContext.parallelize(minha_lista_2)"
      ],
      "metadata": {
        "id": "9jqnPzobf9kd"
      },
      "execution_count": 4,
      "outputs": []
    },
    {
      "cell_type": "markdown",
      "source": [
        "# Junto as 2 Listas com Union"
      ],
      "metadata": {
        "id": "PRucNyXkp1iO"
      }
    },
    {
      "cell_type": "code",
      "source": [
        "minhas_rdds_juntas = minha_rdd_1.union(minha_rdd_2)"
      ],
      "metadata": {
        "id": "dlRklgI-p-Wk"
      },
      "execution_count": 5,
      "outputs": []
    },
    {
      "cell_type": "markdown",
      "source": [
        "# Faço a Interseção das 2 Listas"
      ],
      "metadata": {
        "id": "-NkDsBDFyX_u"
      }
    },
    {
      "cell_type": "code",
      "source": [
        "minhas_rdds_intersecao = minha_rdd_1.intersection(minha_rdd_2)"
      ],
      "metadata": {
        "id": "hCYhjyOLyCKR"
      },
      "execution_count": 6,
      "outputs": []
    },
    {
      "cell_type": "code",
      "source": [
        "minhas_rdds_distinct = minha_rdd_1.distinct()"
      ],
      "metadata": {
        "id": "OmpkJ_yEzMc8"
      },
      "execution_count": 7,
      "outputs": []
    },
    {
      "cell_type": "markdown",
      "source": [
        "# Pego Valors Únicos - Distinct"
      ],
      "metadata": {
        "id": "pMCv8v_-zGvT"
      }
    },
    {
      "cell_type": "markdown",
      "source": [
        "# Imprimindo nos Workers\n",
        "## Nada será impresso na tela aqui"
      ],
      "metadata": {
        "id": "lVqmI6bbO2Lp"
      }
    },
    {
      "cell_type": "code",
      "source": [
        "# Nada será impresso em tela. Apenas nos workers, por isso as duas linhas alternativas seguintes\n",
        "minhas_rdds_juntas.foreach(print)\n",
        "\n",
        "minhas_rdds_intersecao.foreach(print)\n",
        "\n",
        "minhas_rdds_distinct.foreach(print)"
      ],
      "metadata": {
        "application/vnd.databricks.v1+cell": {
          "title": "Atenção: Não será impresso nenhum resultado em tela, apenas nos workers.  As 2 linhas seguintes são uma alternativa",
          "showTitle": true,
          "inputWidgets": {},
          "nuid": "756a1617-be8b-453d-84f2-6a8728b99ecf"
        },
        "id": "DiAQTtd7CMjk"
      },
      "outputs": [],
      "execution_count": 8
    },
    {
      "cell_type": "markdown",
      "source": [
        "# Alternativa de impressão em tela"
      ],
      "metadata": {
        "id": "H7DQswy_PDMR"
      }
    },
    {
      "cell_type": "code",
      "source": [
        "# Pegam-se os dados dos Workers e trazem-se para o Master com a função collect\n",
        "saida_mapeada_uniao = minhas_rdds_juntas.collect()\n",
        "\n",
        "saida_mapeada_intersecao = minhas_rdds_intersecao.collect()\n",
        "\n",
        "saida_mapeada_distinct = minhas_rdds_distinct.collect()"
      ],
      "metadata": {
        "application/vnd.databricks.v1+cell": {
          "title": "Trago os dados dos Workders para o Master, colocando na variável saida_mapeada",
          "showTitle": true,
          "inputWidgets": {},
          "nuid": "085cd7a7-384f-44a7-8a03-92532fdeef8b"
        },
        "id": "jcqp2ym4CMjl"
      },
      "outputs": [],
      "execution_count": 9
    },
    {
      "cell_type": "markdown",
      "source": [
        "# Imprimo a União"
      ],
      "metadata": {
        "id": "gqFq5T8EyhxF"
      }
    },
    {
      "cell_type": "code",
      "source": [
        "#imprime linha a linha\n",
        "for cada_linha  in saida_mapeada_uniao:\n",
        "        print(cada_linha)\n",
        "       "
      ],
      "metadata": {
        "application/vnd.databricks.v1+cell": {
          "title": "Imprimo linha a linha da variável saida_mapeada",
          "showTitle": true,
          "inputWidgets": {},
          "nuid": "789af03b-42bd-4d18-9089-f73d51f2e613"
        },
        "colab": {
          "base_uri": "https://localhost:8080/"
        },
        "id": "5I2PTKt-CMjl",
        "outputId": "c2343d41-fd95-4273-9dec-e14d7474eb37"
      },
      "outputs": [
        {
          "output_type": "stream",
          "name": "stdout",
          "text": [
            "um\n",
            "um\n",
            "dois\n",
            "dois\n",
            "tres\n",
            "um\n",
            "quatro\n",
            "cinco\n"
          ]
        }
      ],
      "execution_count": 10
    },
    {
      "cell_type": "markdown",
      "source": [
        "# Imprimo a Interseção"
      ],
      "metadata": {
        "id": "EqLgGOSwylfF"
      }
    },
    {
      "cell_type": "code",
      "source": [
        "#imprime linha a linha\n",
        "for cada_linha  in saida_mapeada_intersecao:\n",
        "        print(cada_linha)"
      ],
      "metadata": {
        "colab": {
          "base_uri": "https://localhost:8080/"
        },
        "id": "6XsxdoZzyo4l",
        "outputId": "94931627-ec17-4898-9b7f-143806f6eed9"
      },
      "execution_count": 11,
      "outputs": [
        {
          "output_type": "stream",
          "name": "stdout",
          "text": [
            "um\n"
          ]
        }
      ]
    },
    {
      "cell_type": "markdown",
      "source": [
        "# Imprimo valores Únicos - Distintos"
      ],
      "metadata": {
        "id": "14BSGoKezZMc"
      }
    },
    {
      "cell_type": "code",
      "source": [
        "#imprime linha a linha, mostrando o tamanho de cada uma\n",
        "for cada_linha  in saida_mapeada_distinct:\n",
        "        print(cada_linha)"
      ],
      "metadata": {
        "colab": {
          "base_uri": "https://localhost:8080/"
        },
        "id": "S9kBq-72zdZN",
        "outputId": "24d87446-4e10-4135-e30d-2a0f1153b4c1"
      },
      "execution_count": 12,
      "outputs": [
        {
          "output_type": "stream",
          "name": "stdout",
          "text": [
            "um\n",
            "dois\n",
            "tres\n"
          ]
        }
      ]
    }
  ]
}