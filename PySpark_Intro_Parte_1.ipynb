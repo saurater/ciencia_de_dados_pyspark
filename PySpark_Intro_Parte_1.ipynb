{
  "nbformat": 4,
  "nbformat_minor": 0,
  "metadata": {
    "colab": {
      "name": "PySpark_Intro_Parte_1.ipynb",
      "provenance": [],
      "collapsed_sections": [],
      "authorship_tag": "ABX9TyPLzT6oPrjJ0wjH24N8fgGm",
      "include_colab_link": true
    },
    "kernelspec": {
      "name": "python3",
      "display_name": "Python 3"
    },
    "language_info": {
      "name": "python"
    }
  },
  "cells": [
    {
      "cell_type": "markdown",
      "metadata": {
        "id": "view-in-github",
        "colab_type": "text"
      },
      "source": [
        "<a href=\"https://colab.research.google.com/github/saurater/ciencia_de_dados_pyspark/blob/main/PySpark_Intro_Parte_1.ipynb\" target=\"_parent\"><img src=\"https://colab.research.google.com/assets/colab-badge.svg\" alt=\"Open In Colab\"/></a>"
      ]
    },
    {
      "cell_type": "markdown",
      "source": [
        "# PySpark - Tutorial - Part 1 - MLib -Linear Regression - Intro\n",
        "Notebook by Sam Faraday June 2022\n",
        "\n",
        "Sources:\n",
        "Free Code Camp: PySpark Tutorial at https://www.youtube.com/watch?v=_C8kWso4ne4\n",
        "\n",
        "Apache Spark API Refernce at https://spark.apache.org/docs/latest/api/python/reference/index.html"
      ],
      "metadata": {
        "id": "-n5zT6DKYTgO"
      }
    },
    {
      "cell_type": "markdown",
      "source": [
        "# 1. Installing PySpark"
      ],
      "metadata": {
        "id": "fp7LyWOxYb33"
      }
    },
    {
      "cell_type": "code",
      "source": [
        "pip install pyspark"
      ],
      "metadata": {
        "id": "yQ80libmYmca"
      },
      "execution_count": null,
      "outputs": []
    },
    {
      "cell_type": "markdown",
      "source": [
        "# 2. Initializing PySpark"
      ],
      "metadata": {
        "id": "zLFrKGA_ZY1s"
      }
    },
    {
      "cell_type": "code",
      "source": [
        "from pyspark.sql import SparkSession\n"
      ],
      "metadata": {
        "id": "pacmQYQpYota"
      },
      "execution_count": null,
      "outputs": []
    },
    {
      "cell_type": "code",
      "source": [
        "spark = SparkSession.builder.appName(\"MLIB_Regressao\").getOrCreate()"
      ],
      "metadata": {
        "id": "v0cTevQOchdm"
      },
      "execution_count": null,
      "outputs": []
    },
    {
      "cell_type": "code",
      "source": [
        "spark"
      ],
      "metadata": {
        "colab": {
          "base_uri": "https://localhost:8080/",
          "height": 219
        },
        "id": "lXchNWhHokmw",
        "outputId": "d4cfa785-f9c3-4b2b-ed6f-398f04a1b2e7"
      },
      "execution_count": null,
      "outputs": [
        {
          "output_type": "execute_result",
          "data": {
            "text/plain": [
              "<pyspark.sql.session.SparkSession at 0x7f3ce6e163d0>"
            ],
            "text/html": [
              "\n",
              "            <div>\n",
              "                <p><b>SparkSession - in-memory</b></p>\n",
              "                \n",
              "        <div>\n",
              "            <p><b>SparkContext</b></p>\n",
              "\n",
              "            <p><a href=\"http://e043256bf498:4040\">Spark UI</a></p>\n",
              "\n",
              "            <dl>\n",
              "              <dt>Version</dt>\n",
              "                <dd><code>v3.2.1</code></dd>\n",
              "              <dt>Master</dt>\n",
              "                <dd><code>local[*]</code></dd>\n",
              "              <dt>AppName</dt>\n",
              "                <dd><code>MLIB_Regressao</code></dd>\n",
              "            </dl>\n",
              "        </div>\n",
              "        \n",
              "            </div>\n",
              "        "
            ]
          },
          "metadata": {},
          "execution_count": 4
        }
      ]
    },
    {
      "cell_type": "code",
      "source": [
        ""
      ],
      "metadata": {
        "id": "JdgN5uHNo62f"
      },
      "execution_count": null,
      "outputs": []
    },
    {
      "cell_type": "markdown",
      "source": [
        "# 3. Reading the Dataset"
      ],
      "metadata": {
        "id": "ijKu4tnQpCnw"
      }
    },
    {
      "cell_type": "code",
      "source": [
        "df_training = spark.read.csv(\"vendas_de_cafe.csv\", header = True, inferSchema=True)"
      ],
      "metadata": {
        "id": "vdp2pPoErPHV"
      },
      "execution_count": null,
      "outputs": []
    },
    {
      "cell_type": "code",
      "source": [
        "df_training.show()"
      ],
      "metadata": {
        "colab": {
          "base_uri": "https://localhost:8080/"
        },
        "id": "0m0CxSTmsmBn",
        "outputId": "41393ae5-d82b-4218-ee54-f7fd88a43310"
      },
      "execution_count": null,
      "outputs": [
        {
          "output_type": "stream",
          "name": "stdout",
          "text": [
            "+--------+-----------+----------+--------+-----------+\n",
            "|  Regiao|Vendas Cafe|Preco Cafe|Promoção|Preco Leite|\n",
            "+--------+-----------+----------+--------+-----------+\n",
            "|   Norte|         18|      4.77|     Nao|       4.74|\n",
            "|   Norte|         20|      4.67|     Nao|       4.81|\n",
            "|   Norte|         23|      4.75|     Nao|       4.36|\n",
            "|   Norte|         23|      4.74|     Nao|       4.29|\n",
            "|   Norte|         23|      4.63|     Nao|       4.17|\n",
            "|   Norte|         23|      4.56|     Nao|       4.66|\n",
            "|   Norte|         24|      4.59|     Nao|       4.73|\n",
            "|   Norte|         25|      4.75|     Nao|       4.11|\n",
            "|     Sul|         26|      4.75|     Sim|       4.21|\n",
            "|     Sul|         26|      4.49|     Nao|       4.25|\n",
            "|     Sul|         26|      4.41|     Sim|       4.62|\n",
            "|     Sul|         26|      4.32|     Nao|       4.53|\n",
            "|     Sul|         27|      4.68|     Nao|       4.44|\n",
            "|     Sul|         28|      4.66|     Sim|       4.19|\n",
            "|     Sul|         28|      4.42|     Sim|       4.37|\n",
            "|Nordeste|         29|      4.71|     Nao|       4.29|\n",
            "|Nordeste|         29|      4.66|     Sim|       4.57|\n",
            "|Nordeste|         30|      4.46|     Sim|       4.21|\n",
            "|Nordeste|         30|      4.36|     Sim|       4.77|\n",
            "|Nordeste|         31|      4.47|     Nao|        4.0|\n",
            "+--------+-----------+----------+--------+-----------+\n",
            "only showing top 20 rows\n",
            "\n"
          ]
        }
      ]
    },
    {
      "cell_type": "markdown",
      "source": [
        "# 4. Checking the Schema"
      ],
      "metadata": {
        "id": "yf2wjdkPul_A"
      }
    },
    {
      "cell_type": "code",
      "source": [
        "df_training.printSchema()"
      ],
      "metadata": {
        "colab": {
          "base_uri": "https://localhost:8080/"
        },
        "id": "Fu9fKFf_ss47",
        "outputId": "141a9de8-4afb-4fd4-c18e-a2250bad5927"
      },
      "execution_count": null,
      "outputs": [
        {
          "output_type": "stream",
          "name": "stdout",
          "text": [
            "root\n",
            " |-- Regiao: string (nullable = true)\n",
            " |-- Vendas Cafe: integer (nullable = true)\n",
            " |-- Preco Cafe: double (nullable = true)\n",
            " |-- Promoção: string (nullable = true)\n",
            " |-- Preco Leite: double (nullable = true)\n",
            "\n"
          ]
        }
      ]
    },
    {
      "cell_type": "markdown",
      "source": [
        "# 5. Análise Inicial dos Dados"
      ],
      "metadata": {
        "id": "71wpu7SVwEag"
      }
    },
    {
      "cell_type": "code",
      "source": [
        "df_training.summary().show()"
      ],
      "metadata": {
        "colab": {
          "base_uri": "https://localhost:8080/"
        },
        "id": "A2Nb-jLdwKdG",
        "outputId": "6c60d077-2313-4ade-beb9-5148c3368038"
      },
      "execution_count": null,
      "outputs": [
        {
          "output_type": "stream",
          "name": "stdout",
          "text": [
            "+-------+--------+-----------------+-------------------+--------+------------------+\n",
            "|summary|  Regiao|      Vendas Cafe|         Preco Cafe|Promoção|       Preco Leite|\n",
            "+-------+--------+-----------------+-------------------+--------+------------------+\n",
            "|  count|      30|               30|                 30|      30|                30|\n",
            "|   mean|    null|             30.0|  4.426333333333332|    null| 4.373666666666667|\n",
            "| stddev|    null|7.310832774866962|0.32205678802447824|    null|0.2558081626765535|\n",
            "|    min|Nordeste|               18|               3.73|     Nao|               4.0|\n",
            "|    25%|    null|               25|               4.35|    null|              4.17|\n",
            "|    50%|    null|               28|               4.47|    null|              4.31|\n",
            "|    75%|    null|               34|               4.67|    null|              4.62|\n",
            "|    max|     Sul|               46|               4.77|     Sim|              4.81|\n",
            "+-------+--------+-----------------+-------------------+--------+------------------+\n",
            "\n"
          ]
        }
      ]
    },
    {
      "cell_type": "markdown",
      "source": [
        "# 6. Checando o tipo do no dataframe"
      ],
      "metadata": {
        "id": "O5SxZXJC8GQD"
      }
    },
    {
      "cell_type": "code",
      "source": [
        "type(df_training)"
      ],
      "metadata": {
        "id": "qriG5xTIwX8v",
        "colab": {
          "base_uri": "https://localhost:8080/"
        },
        "outputId": "94002628-75f5-414a-80da-3e1ec359dcb0"
      },
      "execution_count": null,
      "outputs": [
        {
          "output_type": "execute_result",
          "data": {
            "text/plain": [
              "pyspark.sql.dataframe.DataFrame"
            ]
          },
          "metadata": {},
          "execution_count": 12
        }
      ]
    },
    {
      "cell_type": "markdown",
      "source": [
        "# 7. Verificando as Colunas"
      ],
      "metadata": {
        "id": "EgV82yai9RfB"
      }
    },
    {
      "cell_type": "code",
      "source": [
        "df_training.columns"
      ],
      "metadata": {
        "colab": {
          "base_uri": "https://localhost:8080/"
        },
        "id": "IBeROUWR8l02",
        "outputId": "06786470-9b8c-4d94-9f7e-be407507f12d"
      },
      "execution_count": null,
      "outputs": [
        {
          "output_type": "execute_result",
          "data": {
            "text/plain": [
              "['Regiao', 'Vendas Cafe', 'Preco Cafe', 'Promoção', 'Preco Leite']"
            ]
          },
          "metadata": {},
          "execution_count": 13
        }
      ]
    },
    {
      "cell_type": "markdown",
      "source": [
        "# 8. Alterando os nomes de Colunas / Features"
      ],
      "metadata": {
        "id": "WQRHsxzL9pWY"
      }
    },
    {
      "cell_type": "code",
      "source": [
        "df_training.withColumnRenamed(\"Vendas Cafe\", \"Vendas_Cafe\").show()"
      ],
      "metadata": {
        "colab": {
          "base_uri": "https://localhost:8080/"
        },
        "id": "zx65pmSV9hBP",
        "outputId": "5562a124-9486-427a-f501-c660550ba2fc"
      },
      "execution_count": null,
      "outputs": [
        {
          "output_type": "stream",
          "name": "stdout",
          "text": [
            "+--------+-----------+----------+--------+-----------+\n",
            "|  Regiao|Vendas_Cafe|Preco Cafe|Promoção|Preco Leite|\n",
            "+--------+-----------+----------+--------+-----------+\n",
            "|   Norte|         18|      4.77|     Nao|       4.74|\n",
            "|   Norte|         20|      4.67|     Nao|       4.81|\n",
            "|   Norte|         23|      4.75|     Nao|       4.36|\n",
            "|   Norte|         23|      4.74|     Nao|       4.29|\n",
            "|   Norte|         23|      4.63|     Nao|       4.17|\n",
            "|   Norte|         23|      4.56|     Nao|       4.66|\n",
            "|   Norte|         24|      4.59|     Nao|       4.73|\n",
            "|   Norte|         25|      4.75|     Nao|       4.11|\n",
            "|     Sul|         26|      4.75|     Sim|       4.21|\n",
            "|     Sul|         26|      4.49|     Nao|       4.25|\n",
            "|     Sul|         26|      4.41|     Sim|       4.62|\n",
            "|     Sul|         26|      4.32|     Nao|       4.53|\n",
            "|     Sul|         27|      4.68|     Nao|       4.44|\n",
            "|     Sul|         28|      4.66|     Sim|       4.19|\n",
            "|     Sul|         28|      4.42|     Sim|       4.37|\n",
            "|Nordeste|         29|      4.71|     Nao|       4.29|\n",
            "|Nordeste|         29|      4.66|     Sim|       4.57|\n",
            "|Nordeste|         30|      4.46|     Sim|       4.21|\n",
            "|Nordeste|         30|      4.36|     Sim|       4.77|\n",
            "|Nordeste|         31|      4.47|     Nao|        4.0|\n",
            "+--------+-----------+----------+--------+-----------+\n",
            "only showing top 20 rows\n",
            "\n"
          ]
        }
      ]
    },
    {
      "cell_type": "code",
      "source": [
        "\n",
        "df_training  = df_training.withColumnRenamed(\"Preco Leite\", \"Preco_Leite\")"
      ],
      "metadata": {
        "id": "hvCXg-Bh-ZkN"
      },
      "execution_count": null,
      "outputs": []
    },
    {
      "cell_type": "code",
      "source": [
        "df_training.show()"
      ],
      "metadata": {
        "colab": {
          "base_uri": "https://localhost:8080/"
        },
        "id": "HQpIHw_3-g0V",
        "outputId": "8bb0368f-bbb2-4c2e-bfe3-017838ae8828"
      },
      "execution_count": null,
      "outputs": [
        {
          "output_type": "stream",
          "name": "stdout",
          "text": [
            "+--------+-----------+----------+--------+-----------+\n",
            "|  Regiao|Vendas_Cafe|Preco_Cafe|Promocao|Preco_Leite|\n",
            "+--------+-----------+----------+--------+-----------+\n",
            "|   Norte|         18|      4.77|     Nao|       4.74|\n",
            "|   Norte|         20|      4.67|     Nao|       4.81|\n",
            "|   Norte|         23|      4.75|     Nao|       4.36|\n",
            "|   Norte|         23|      4.74|     Nao|       4.29|\n",
            "|   Norte|         23|      4.63|     Nao|       4.17|\n",
            "|   Norte|         23|      4.56|     Nao|       4.66|\n",
            "|   Norte|         24|      4.59|     Nao|       4.73|\n",
            "|   Norte|         25|      4.75|     Nao|       4.11|\n",
            "|     Sul|         26|      4.75|     Sim|       4.21|\n",
            "|     Sul|         26|      4.49|     Nao|       4.25|\n",
            "|     Sul|         26|      4.41|     Sim|       4.62|\n",
            "|     Sul|         26|      4.32|     Nao|       4.53|\n",
            "|     Sul|         27|      4.68|     Nao|       4.44|\n",
            "|     Sul|         28|      4.66|     Sim|       4.19|\n",
            "|     Sul|         28|      4.42|     Sim|       4.37|\n",
            "|Nordeste|         29|      4.71|     Nao|       4.29|\n",
            "|Nordeste|         29|      4.66|     Sim|       4.57|\n",
            "|Nordeste|         30|      4.46|     Sim|       4.21|\n",
            "|Nordeste|         30|      4.36|     Sim|       4.77|\n",
            "|Nordeste|         31|      4.47|     Nao|        4.0|\n",
            "+--------+-----------+----------+--------+-----------+\n",
            "only showing top 20 rows\n",
            "\n"
          ]
        }
      ]
    },
    {
      "cell_type": "markdown",
      "source": [
        "# 9. Adicionando Colunas"
      ],
      "metadata": {
        "id": "ucrnK74yA9B-"
      }
    },
    {
      "cell_type": "code",
      "source": [
        ""
      ],
      "metadata": {
        "id": "EY9z1VYIBgQR"
      },
      "execution_count": null,
      "outputs": []
    },
    {
      "cell_type": "code",
      "source": [
        "df_training = df_training.withColumn(\"Preco_Leite_ 10_porcent\", df_training['Preco_Leite'] * 1.1)"
      ],
      "metadata": {
        "id": "YypPUe8tBC_y"
      },
      "execution_count": null,
      "outputs": []
    },
    {
      "cell_type": "code",
      "source": [
        "df_training.show()"
      ],
      "metadata": {
        "colab": {
          "base_uri": "https://localhost:8080/"
        },
        "id": "yv_MA2wsBtYB",
        "outputId": "d6138afa-b351-4fbc-f652-70bf4a9ac2b8"
      },
      "execution_count": null,
      "outputs": [
        {
          "output_type": "stream",
          "name": "stdout",
          "text": [
            "+--------+-----------+----------+--------+-----------+-----------------------+\n",
            "|  Regiao|Vendas_Cafe|Preco_Cafe|Promocao|Preco_Leite|Preco_Leite_ 10_porcent|\n",
            "+--------+-----------+----------+--------+-----------+-----------------------+\n",
            "|   Norte|         18|      4.77|     Nao|       4.74|                  5.214|\n",
            "|   Norte|         20|      4.67|     Nao|       4.81|                  5.291|\n",
            "|   Norte|         23|      4.75|     Nao|       4.36|      4.796000000000001|\n",
            "|   Norte|         23|      4.74|     Nao|       4.29|                  4.719|\n",
            "|   Norte|         23|      4.63|     Nao|       4.17|      4.587000000000001|\n",
            "|   Norte|         23|      4.56|     Nao|       4.66|                  5.126|\n",
            "|   Norte|         24|      4.59|     Nao|       4.73|      5.203000000000001|\n",
            "|   Norte|         25|      4.75|     Nao|       4.11|      4.521000000000001|\n",
            "|     Sul|         26|      4.75|     Sim|       4.21|                  4.631|\n",
            "|     Sul|         26|      4.49|     Nao|       4.25|      4.675000000000001|\n",
            "|     Sul|         26|      4.41|     Sim|       4.62|      5.082000000000001|\n",
            "|     Sul|         26|      4.32|     Nao|       4.53|     4.9830000000000005|\n",
            "|     Sul|         27|      4.68|     Nao|       4.44|      4.884000000000001|\n",
            "|     Sul|         28|      4.66|     Sim|       4.19|      4.609000000000001|\n",
            "|     Sul|         28|      4.42|     Sim|       4.37|                  4.807|\n",
            "|Nordeste|         29|      4.71|     Nao|       4.29|                  4.719|\n",
            "|Nordeste|         29|      4.66|     Sim|       4.57|      5.027000000000001|\n",
            "|Nordeste|         30|      4.46|     Sim|       4.21|                  4.631|\n",
            "|Nordeste|         30|      4.36|     Sim|       4.77|                  5.247|\n",
            "|Nordeste|         31|      4.47|     Nao|        4.0|                    4.4|\n",
            "+--------+-----------+----------+--------+-----------+-----------------------+\n",
            "only showing top 20 rows\n",
            "\n"
          ]
        }
      ]
    },
    {
      "cell_type": "code",
      "source": [
        ""
      ],
      "metadata": {
        "id": "ozFQzo2jBvs4"
      },
      "execution_count": null,
      "outputs": []
    },
    {
      "cell_type": "markdown",
      "source": [
        "# 10. Removendo uma Coluna"
      ],
      "metadata": {
        "id": "T6FIIy69C2Fz"
      }
    },
    {
      "cell_type": "code",
      "source": [
        "df_training = df_training.drop('Preco_Leite_ 10_porcent')"
      ],
      "metadata": {
        "id": "B7lm67TRDBpH"
      },
      "execution_count": null,
      "outputs": []
    },
    {
      "cell_type": "code",
      "source": [
        "df_training.show()"
      ],
      "metadata": {
        "colab": {
          "base_uri": "https://localhost:8080/"
        },
        "id": "PBlW0m6uDM11",
        "outputId": "0f22c7c3-042e-4173-862a-48b2b6c07e8c"
      },
      "execution_count": null,
      "outputs": [
        {
          "output_type": "stream",
          "name": "stdout",
          "text": [
            "+--------+-----------+----------+--------+-----------+\n",
            "|  Regiao|Vendas_Cafe|Preco_Cafe|Promocao|Preco_Leite|\n",
            "+--------+-----------+----------+--------+-----------+\n",
            "|   Norte|         18|      4.77|     Nao|       4.74|\n",
            "|   Norte|         20|      4.67|     Nao|       4.81|\n",
            "|   Norte|         23|      4.75|     Nao|       4.36|\n",
            "|   Norte|         23|      4.74|     Nao|       4.29|\n",
            "|   Norte|         23|      4.63|     Nao|       4.17|\n",
            "|   Norte|         23|      4.56|     Nao|       4.66|\n",
            "|   Norte|         24|      4.59|     Nao|       4.73|\n",
            "|   Norte|         25|      4.75|     Nao|       4.11|\n",
            "|     Sul|         26|      4.75|     Sim|       4.21|\n",
            "|     Sul|         26|      4.49|     Nao|       4.25|\n",
            "|     Sul|         26|      4.41|     Sim|       4.62|\n",
            "|     Sul|         26|      4.32|     Nao|       4.53|\n",
            "|     Sul|         27|      4.68|     Nao|       4.44|\n",
            "|     Sul|         28|      4.66|     Sim|       4.19|\n",
            "|     Sul|         28|      4.42|     Sim|       4.37|\n",
            "|Nordeste|         29|      4.71|     Nao|       4.29|\n",
            "|Nordeste|         29|      4.66|     Sim|       4.57|\n",
            "|Nordeste|         30|      4.46|     Sim|       4.21|\n",
            "|Nordeste|         30|      4.36|     Sim|       4.77|\n",
            "|Nordeste|         31|      4.47|     Nao|        4.0|\n",
            "+--------+-----------+----------+--------+-----------+\n",
            "only showing top 20 rows\n",
            "\n"
          ]
        }
      ]
    },
    {
      "cell_type": "code",
      "source": [
        ""
      ],
      "metadata": {
        "id": "X_0PjVD_DPcJ"
      },
      "execution_count": null,
      "outputs": []
    },
    {
      "cell_type": "markdown",
      "source": [
        "# 11. Selecionando Colunas"
      ],
      "metadata": {
        "id": "tzLfLjUqD2UV"
      }
    },
    {
      "cell_type": "code",
      "source": [
        "df_training.columns"
      ],
      "metadata": {
        "colab": {
          "base_uri": "https://localhost:8080/"
        },
        "id": "z5erUnDVD7EH",
        "outputId": "21780e4e-9b3e-4389-c452-a3140b495a55"
      },
      "execution_count": null,
      "outputs": [
        {
          "output_type": "execute_result",
          "data": {
            "text/plain": [
              "['Regiao', 'Vendas_Cafe', 'Preco_Cafe', 'Promocao', 'Preco_Leite']"
            ]
          },
          "metadata": {},
          "execution_count": 30
        }
      ]
    },
    {
      "cell_type": "code",
      "source": [
        "df_training.select('Vendas_Cafe','Preco_Cafe').show()"
      ],
      "metadata": {
        "colab": {
          "base_uri": "https://localhost:8080/"
        },
        "id": "UHYFHv-6EYCW",
        "outputId": "cb155aad-5be2-4ad0-da85-ba1db10f3d57"
      },
      "execution_count": null,
      "outputs": [
        {
          "output_type": "stream",
          "name": "stdout",
          "text": [
            "+-----------+----------+\n",
            "|Vendas_Cafe|Preco_Cafe|\n",
            "+-----------+----------+\n",
            "|         18|      4.77|\n",
            "|         20|      4.67|\n",
            "|         23|      4.75|\n",
            "|         23|      4.74|\n",
            "|         23|      4.63|\n",
            "|         23|      4.56|\n",
            "|         24|      4.59|\n",
            "|         25|      4.75|\n",
            "|         26|      4.75|\n",
            "|         26|      4.49|\n",
            "|         26|      4.41|\n",
            "|         26|      4.32|\n",
            "|         27|      4.68|\n",
            "|         28|      4.66|\n",
            "|         28|      4.42|\n",
            "|         29|      4.71|\n",
            "|         29|      4.66|\n",
            "|         30|      4.46|\n",
            "|         30|      4.36|\n",
            "|         31|      4.47|\n",
            "+-----------+----------+\n",
            "only showing top 20 rows\n",
            "\n"
          ]
        }
      ]
    }
  ]
}