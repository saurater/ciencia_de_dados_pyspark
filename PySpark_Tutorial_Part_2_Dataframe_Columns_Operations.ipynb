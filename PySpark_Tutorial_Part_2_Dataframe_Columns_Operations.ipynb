{
  "nbformat": 4,
  "nbformat_minor": 0,
  "metadata": {
    "colab": {
      "name": "PySpark_Tutorial - Part 2 - Dataframe Columns Operations.ipynb",
      "provenance": [],
      "authorship_tag": "ABX9TyM7kVm0uRSDH27gFOBK/rbl",
      "include_colab_link": true
    },
    "kernelspec": {
      "name": "python3",
      "display_name": "Python 3"
    },
    "language_info": {
      "name": "python"
    }
  },
  "cells": [
    {
      "cell_type": "markdown",
      "metadata": {
        "id": "view-in-github",
        "colab_type": "text"
      },
      "source": [
        "<a href=\"https://colab.research.google.com/github/saurater/ciencia_de_dados_pyspark/blob/main/PySpark_Tutorial_Part_2_Dataframe_Columns_Operations.ipynb\" target=\"_parent\"><img src=\"https://colab.research.google.com/assets/colab-badge.svg\" alt=\"Open In Colab\"/></a>"
      ]
    },
    {
      "cell_type": "markdown",
      "source": [
        "#PySpark - Tutorial - Part II - Dataframe Columns Operations\n",
        "## Sam Faraday\n",
        "June 2022\n",
        "\n",
        "## Index\n",
        "\n",
        "1. PySpark Dataframe\n",
        "2. Reading the Dataset\n",
        "3. Checking the Datatypes of the Columns(Schema)\n",
        "4. Check Describe option similar to Pandas\n",
        "5. Adding Columns\n",
        "6. Dropping Columns\n",
        "7. Renaming Coluns\n"
      ],
      "metadata": {
        "id": "C_LEjztuYSXV"
      }
    },
    {
      "cell_type": "markdown",
      "source": [
        "# 1. Installing PySpark"
      ],
      "metadata": {
        "id": "NljFhL6IV06F"
      }
    },
    {
      "cell_type": "code",
      "source": [
        "pip install pyspark"
      ],
      "metadata": {
        "id": "rSv5DJGYQkSE"
      },
      "execution_count": null,
      "outputs": []
    },
    {
      "cell_type": "markdown",
      "source": [
        "# 2. Creating the Test2 Dataset"
      ],
      "metadata": {
        "id": "t4pkEIElzEML"
      }
    },
    {
      "cell_type": "code",
      "source": [
        "import pandas as pd"
      ],
      "metadata": {
        "id": "su82wiTVRIaY"
      },
      "execution_count": 3,
      "outputs": []
    },
    {
      "cell_type": "code",
      "source": [
        "data = {'Name':['Tom', 'Nick', 'Krish', 'Jack'], 'Age':[20, 21, 19, 18], 'Experience': [12,10,8,4]}"
      ],
      "metadata": {
        "id": "z4hQq2LURKfo"
      },
      "execution_count": 4,
      "outputs": []
    },
    {
      "cell_type": "code",
      "source": [
        "# Create DataFrame\n",
        "df = pd.DataFrame(data)"
      ],
      "metadata": {
        "id": "KeQSca9dROxk"
      },
      "execution_count": 5,
      "outputs": []
    },
    {
      "cell_type": "code",
      "source": [
        "df.to_csv('test2.csv', index=False)"
      ],
      "metadata": {
        "id": "WQjD5KiiRQ4N"
      },
      "execution_count": 6,
      "outputs": []
    },
    {
      "cell_type": "markdown",
      "source": [
        "# 3. Initializing PySpark"
      ],
      "metadata": {
        "id": "VwEKRDLyZnmW"
      }
    },
    {
      "cell_type": "code",
      "source": [
        "from pyspark.sql import SparkSession"
      ],
      "metadata": {
        "id": "7jo_VgKJRSWw"
      },
      "execution_count": 7,
      "outputs": []
    },
    {
      "cell_type": "code",
      "source": [
        "spark = SparkSession.builder.appName(\"Dataframe\").getOrCreate()"
      ],
      "metadata": {
        "id": "53jFrCHKRTjI"
      },
      "execution_count": 8,
      "outputs": []
    },
    {
      "cell_type": "code",
      "source": [
        "spark"
      ],
      "metadata": {
        "colab": {
          "base_uri": "https://localhost:8080/",
          "height": 219
        },
        "id": "uM1dB54MRdDQ",
        "outputId": "2c9c56fe-ece2-4710-ed41-4a2f1d4359a2"
      },
      "execution_count": 9,
      "outputs": [
        {
          "output_type": "execute_result",
          "data": {
            "text/plain": [
              "<pyspark.sql.session.SparkSession at 0x7f0b20740390>"
            ],
            "text/html": [
              "\n",
              "            <div>\n",
              "                <p><b>SparkSession - in-memory</b></p>\n",
              "                \n",
              "        <div>\n",
              "            <p><b>SparkContext</b></p>\n",
              "\n",
              "            <p><a href=\"http://01c9bad89d4c:4040\">Spark UI</a></p>\n",
              "\n",
              "            <dl>\n",
              "              <dt>Version</dt>\n",
              "                <dd><code>v3.2.1</code></dd>\n",
              "              <dt>Master</dt>\n",
              "                <dd><code>local[*]</code></dd>\n",
              "              <dt>AppName</dt>\n",
              "                <dd><code>Dataframe</code></dd>\n",
              "            </dl>\n",
              "        </div>\n",
              "        \n",
              "            </div>\n",
              "        "
            ]
          },
          "metadata": {},
          "execution_count": 9
        }
      ]
    },
    {
      "cell_type": "markdown",
      "source": [
        "# 4. Reading the Dataset"
      ],
      "metadata": {
        "id": "OlaCvj-aaaAp"
      }
    },
    {
      "cell_type": "code",
      "source": [
        "df_spark = spark.read.option('header', 'true').csv('test2.csv')\n",
        "df_spark"
      ],
      "metadata": {
        "colab": {
          "base_uri": "https://localhost:8080/"
        },
        "id": "IUPskHGAadVH",
        "outputId": "78a88580-a9c2-4d8c-8c81-7e4d4c18614c"
      },
      "execution_count": 10,
      "outputs": [
        {
          "output_type": "execute_result",
          "data": {
            "text/plain": [
              "DataFrame[Name: string, Age: string, Experience: string]"
            ]
          },
          "metadata": {},
          "execution_count": 10
        }
      ]
    },
    {
      "cell_type": "code",
      "source": [
        "type(df_spark)"
      ],
      "metadata": {
        "colab": {
          "base_uri": "https://localhost:8080/"
        },
        "id": "oQbtU3UtbFtS",
        "outputId": "89d57022-11a8-4dd6-d3fa-83cae6165bd6"
      },
      "execution_count": 11,
      "outputs": [
        {
          "output_type": "execute_result",
          "data": {
            "text/plain": [
              "pyspark.sql.dataframe.DataFrame"
            ]
          },
          "metadata": {},
          "execution_count": 11
        }
      ]
    },
    {
      "cell_type": "code",
      "source": [
        "df_spark.show()"
      ],
      "metadata": {
        "colab": {
          "base_uri": "https://localhost:8080/"
        },
        "id": "TvFLj-4taCLa",
        "outputId": "bcaecb07-5c90-4344-ab0a-ab61ca734854"
      },
      "execution_count": 12,
      "outputs": [
        {
          "output_type": "stream",
          "name": "stdout",
          "text": [
            "+-----+---+----------+\n",
            "| Name|Age|Experience|\n",
            "+-----+---+----------+\n",
            "|  Tom| 20|        12|\n",
            "| Nick| 21|        10|\n",
            "|Krish| 19|         8|\n",
            "| Jack| 18|         4|\n",
            "+-----+---+----------+\n",
            "\n"
          ]
        }
      ]
    },
    {
      "cell_type": "markdown",
      "source": [
        "# 5. Checking the Schema"
      ],
      "metadata": {
        "id": "US5cKoXYbH--"
      }
    },
    {
      "cell_type": "code",
      "source": [
        "df_spark.printSchema()"
      ],
      "metadata": {
        "colab": {
          "base_uri": "https://localhost:8080/"
        },
        "id": "591ronLrbHnf",
        "outputId": "3393c6b7-0587-466d-ae8c-fe483b14155b"
      },
      "execution_count": 13,
      "outputs": [
        {
          "output_type": "stream",
          "name": "stdout",
          "text": [
            "root\n",
            " |-- Name: string (nullable = true)\n",
            " |-- Age: string (nullable = true)\n",
            " |-- Experience: string (nullable = true)\n",
            "\n"
          ]
        }
      ]
    },
    {
      "cell_type": "markdown",
      "source": [
        "# 6. Infering the Schema"
      ],
      "metadata": {
        "id": "rNSx0iPnbkhG"
      }
    },
    {
      "cell_type": "code",
      "source": [
        "df_spark = spark.read.option('header', 'true').csv('test2.csv', inferSchema=True)"
      ],
      "metadata": {
        "id": "kWEb6nWLa1NS"
      },
      "execution_count": 14,
      "outputs": []
    },
    {
      "cell_type": "code",
      "source": [
        "df_spark.printSchema()"
      ],
      "metadata": {
        "colab": {
          "base_uri": "https://localhost:8080/"
        },
        "id": "2mxgYY5VbxtQ",
        "outputId": "d57bacd8-5a5a-4107-da7a-e661dd125b6c"
      },
      "execution_count": 15,
      "outputs": [
        {
          "output_type": "stream",
          "name": "stdout",
          "text": [
            "root\n",
            " |-- Name: string (nullable = true)\n",
            " |-- Age: integer (nullable = true)\n",
            " |-- Experience: integer (nullable = true)\n",
            "\n"
          ]
        }
      ]
    },
    {
      "cell_type": "code",
      "source": [
        "type(df_spark)"
      ],
      "metadata": {
        "colab": {
          "base_uri": "https://localhost:8080/"
        },
        "id": "Fp4duTAxcQbI",
        "outputId": "f4b67435-d536-424f-ef35-afa665bc7dc5"
      },
      "execution_count": 16,
      "outputs": [
        {
          "output_type": "execute_result",
          "data": {
            "text/plain": [
              "pyspark.sql.dataframe.DataFrame"
            ]
          },
          "metadata": {},
          "execution_count": 16
        }
      ]
    },
    {
      "cell_type": "markdown",
      "source": [
        "# 7. Selecting and Showing Columns"
      ],
      "metadata": {
        "id": "e_-mUzU-cfBf"
      }
    },
    {
      "cell_type": "code",
      "source": [
        "df_spark.columns"
      ],
      "metadata": {
        "colab": {
          "base_uri": "https://localhost:8080/"
        },
        "id": "LgJFYg77ceph",
        "outputId": "55efaa6e-27e1-4d5e-b46f-f06aef9f2fff"
      },
      "execution_count": 17,
      "outputs": [
        {
          "output_type": "execute_result",
          "data": {
            "text/plain": [
              "['Name', 'Age', 'Experience']"
            ]
          },
          "metadata": {},
          "execution_count": 17
        }
      ]
    },
    {
      "cell_type": "code",
      "source": [
        "df_spark.head(2)"
      ],
      "metadata": {
        "colab": {
          "base_uri": "https://localhost:8080/"
        },
        "id": "NexHepg8cqX2",
        "outputId": "b8ce2433-1f18-4b95-e6f5-535eb7a5390e"
      },
      "execution_count": 18,
      "outputs": [
        {
          "output_type": "execute_result",
          "data": {
            "text/plain": [
              "[Row(Name='Tom', Age=20, Experience=12),\n",
              " Row(Name='Nick', Age=21, Experience=10)]"
            ]
          },
          "metadata": {},
          "execution_count": 18
        }
      ]
    },
    {
      "cell_type": "code",
      "source": [
        "df_spark.show()"
      ],
      "metadata": {
        "colab": {
          "base_uri": "https://localhost:8080/"
        },
        "id": "x4XI_rqfc3uH",
        "outputId": "f7fe59e5-ccb4-4f1a-ac4f-18d9a5491306"
      },
      "execution_count": 19,
      "outputs": [
        {
          "output_type": "stream",
          "name": "stdout",
          "text": [
            "+-----+---+----------+\n",
            "| Name|Age|Experience|\n",
            "+-----+---+----------+\n",
            "|  Tom| 20|        12|\n",
            "| Nick| 21|        10|\n",
            "|Krish| 19|         8|\n",
            "| Jack| 18|         4|\n",
            "+-----+---+----------+\n",
            "\n"
          ]
        }
      ]
    },
    {
      "cell_type": "code",
      "source": [
        "df_spark.select(\"Name\").show()"
      ],
      "metadata": {
        "colab": {
          "base_uri": "https://localhost:8080/"
        },
        "id": "g8dUT2_cdEBM",
        "outputId": "f2cfe068-85c0-4c21-8b9f-d85f2feb8626"
      },
      "execution_count": 20,
      "outputs": [
        {
          "output_type": "stream",
          "name": "stdout",
          "text": [
            "+-----+\n",
            "| Name|\n",
            "+-----+\n",
            "|  Tom|\n",
            "| Nick|\n",
            "|Krish|\n",
            "| Jack|\n",
            "+-----+\n",
            "\n"
          ]
        }
      ]
    },
    {
      "cell_type": "code",
      "source": [
        "df_spark.select(\"Name\", \"Age\").show()"
      ],
      "metadata": {
        "colab": {
          "base_uri": "https://localhost:8080/"
        },
        "id": "_NpTxksDdrjs",
        "outputId": "dd366c22-dbb3-4aec-f569-f7174ed89b31"
      },
      "execution_count": 21,
      "outputs": [
        {
          "output_type": "stream",
          "name": "stdout",
          "text": [
            "+-----+---+\n",
            "| Name|Age|\n",
            "+-----+---+\n",
            "|  Tom| 20|\n",
            "| Nick| 21|\n",
            "|Krish| 19|\n",
            "| Jack| 18|\n",
            "+-----+---+\n",
            "\n"
          ]
        }
      ]
    },
    {
      "cell_type": "code",
      "source": [
        "df_spark.dtypes"
      ],
      "metadata": {
        "colab": {
          "base_uri": "https://localhost:8080/"
        },
        "id": "MkHDebq8dvP3",
        "outputId": "6fe38d2a-84b6-4cde-97e4-771acc60531d"
      },
      "execution_count": 22,
      "outputs": [
        {
          "output_type": "execute_result",
          "data": {
            "text/plain": [
              "[('Name', 'string'), ('Age', 'int'), ('Experience', 'int')]"
            ]
          },
          "metadata": {},
          "execution_count": 22
        }
      ]
    },
    {
      "cell_type": "markdown",
      "source": [
        "# 8. Describing the dataframe"
      ],
      "metadata": {
        "id": "fWzzJO6tespc"
      }
    },
    {
      "cell_type": "code",
      "source": [
        "df_spark.describe().show()"
      ],
      "metadata": {
        "colab": {
          "base_uri": "https://localhost:8080/"
        },
        "id": "ZHiyKOTidS09",
        "outputId": "caa393af-25f6-4aa5-e0ae-2d1b5f469ddd"
      },
      "execution_count": 23,
      "outputs": [
        {
          "output_type": "stream",
          "name": "stdout",
          "text": [
            "+-------+----+------------------+-----------------+\n",
            "|summary|Name|               Age|       Experience|\n",
            "+-------+----+------------------+-----------------+\n",
            "|  count|   4|                 4|                4|\n",
            "|   mean|null|              19.5|              8.5|\n",
            "| stddev|null|1.2909944487358056|3.415650255319866|\n",
            "|    min|Jack|                18|                4|\n",
            "|    max| Tom|                21|               12|\n",
            "+-------+----+------------------+-----------------+\n",
            "\n"
          ]
        }
      ]
    },
    {
      "cell_type": "markdown",
      "source": [
        "# 8. Adding Columns"
      ],
      "metadata": {
        "id": "XT1jxQlygHX8"
      }
    },
    {
      "cell_type": "code",
      "source": [
        "df_spark= df_spark.withColumn('Experience after 2 years', df_spark['Experience'] +2 )"
      ],
      "metadata": {
        "id": "1PEDDHjdeY_H"
      },
      "execution_count": 24,
      "outputs": []
    },
    {
      "cell_type": "code",
      "source": [
        "df_spark.show()"
      ],
      "metadata": {
        "colab": {
          "base_uri": "https://localhost:8080/"
        },
        "id": "KOEh8xPRhYoX",
        "outputId": "bcf05ac1-ae58-41d8-e7bd-10feacedc4da"
      },
      "execution_count": 32,
      "outputs": [
        {
          "output_type": "stream",
          "name": "stdout",
          "text": [
            "+--------+---+----------+\n",
            "|New Name|Age|Experience|\n",
            "+--------+---+----------+\n",
            "|     Tom| 20|        12|\n",
            "|    Nick| 21|        10|\n",
            "|   Krish| 19|         8|\n",
            "|    Jack| 18|         4|\n",
            "+--------+---+----------+\n",
            "\n"
          ]
        }
      ]
    },
    {
      "cell_type": "markdown",
      "source": [
        "# 9.Removing Columns"
      ],
      "metadata": {
        "id": "fZKAzPdIuk_a"
      }
    },
    {
      "cell_type": "code",
      "source": [
        "df_spark=df_spark.drop('Experience after 2 years')\n"
      ],
      "metadata": {
        "id": "dihwI5slhnG_"
      },
      "execution_count": 26,
      "outputs": []
    },
    {
      "cell_type": "markdown",
      "source": [
        "# 10. Renaming Columns"
      ],
      "metadata": {
        "id": "74K8BsQMvWxd"
      }
    },
    {
      "cell_type": "code",
      "source": [
        "df_spark = df_spark.withColumnRenamed('Name', 'New Name')\n",
        "df_spark.show()"
      ],
      "metadata": {
        "colab": {
          "base_uri": "https://localhost:8080/"
        },
        "id": "8yWZM_GNvga7",
        "outputId": "9cff67fd-a9bc-4e6e-b965-7e081fce6eff"
      },
      "execution_count": 37,
      "outputs": [
        {
          "output_type": "stream",
          "name": "stdout",
          "text": [
            "+--------+---+----------+\n",
            "|New Name|Age|Experience|\n",
            "+--------+---+----------+\n",
            "|     Tom| 20|        12|\n",
            "|    Nick| 21|        10|\n",
            "|   Krish| 19|         8|\n",
            "|    Jack| 18|         4|\n",
            "+--------+---+----------+\n",
            "\n"
          ]
        }
      ]
    }
  ]
}