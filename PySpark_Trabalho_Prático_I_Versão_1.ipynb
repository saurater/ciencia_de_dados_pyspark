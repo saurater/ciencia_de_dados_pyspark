{
  "nbformat": 4,
  "nbformat_minor": 0,
  "metadata": {
    "colab": {
      "name": "PySpark - Trabalho Prático I Versão 1.ipynb",
      "provenance": [],
      "collapsed_sections": [],
      "authorship_tag": "ABX9TyPl+x+b048R6TxiyatPN3RT",
      "include_colab_link": true
    },
    "kernelspec": {
      "name": "python3",
      "display_name": "Python 3"
    },
    "language_info": {
      "name": "python"
    }
  },
  "cells": [
    {
      "cell_type": "markdown",
      "metadata": {
        "id": "view-in-github",
        "colab_type": "text"
      },
      "source": [
        "<a href=\"https://colab.research.google.com/github/saurater/ciencia_de_dados_pyspark/blob/main/PySpark_Trabalho_Pr%C3%A1tico_I_Vers%C3%A3o_1.ipynb\" target=\"_parent\"><img src=\"https://colab.research.google.com/assets/colab-badge.svg\" alt=\"Open In Colab\"/></a>"
      ]
    },
    {
      "cell_type": "markdown",
      "source": [
        "# PySpark - Trabalho Prático I\n",
        "\n",
        "## Adaptação do IGTI por Sam Faraday\n",
        "\n",
        "June 2022"
      ],
      "metadata": {
        "application/vnd.databricks.v1+cell": {
          "title": "",
          "showTitle": false,
          "inputWidgets": {},
          "nuid": "c233a29b-65a1-4708-b383-3e6398c2688d"
        },
        "id": "V7rpmWN2CMje"
      }
    },
    {
      "cell_type": "markdown",
      "source": [
        "# Instala o Pyspark"
      ],
      "metadata": {
        "id": "FGrhPD2kjG1A"
      }
    },
    {
      "cell_type": "code",
      "source": [
        "pip install pyspark"
      ],
      "metadata": {
        "id": "p-Lyy7XEC7VF",
        "colab": {
          "base_uri": "https://localhost:8080/"
        },
        "outputId": "833c12b9-8bd0-42b1-869c-56a2bc6ef7e4"
      },
      "execution_count": 1,
      "outputs": [
        {
          "output_type": "stream",
          "name": "stdout",
          "text": [
            "Looking in indexes: https://pypi.org/simple, https://us-python.pkg.dev/colab-wheels/public/simple/\n",
            "Requirement already satisfied: pyspark in /usr/local/lib/python3.7/dist-packages (3.2.1)\n",
            "Requirement already satisfied: py4j==0.10.9.3 in /usr/local/lib/python3.7/dist-packages (from pyspark) (0.10.9.3)\n"
          ]
        }
      ]
    },
    {
      "cell_type": "markdown",
      "source": [
        "# Importa o SparkSession e Cria a Sessão"
      ],
      "metadata": {
        "id": "-ojGe1jMjF7a"
      }
    },
    {
      "cell_type": "code",
      "source": [
        "from pyspark.sql import SparkSession\n",
        "spark  =  SparkSession.builder.appName(\"Trabalho_Pratico\").getOrCreate()"
      ],
      "metadata": {
        "application/vnd.databricks.v1+cell": {
          "title": "Importa e Inicia uma Sessão",
          "showTitle": true,
          "inputWidgets": {},
          "nuid": "e3cbe37e-eb71-4154-9e36-b0da7be52ed5"
        },
        "id": "emDOhokjCMji"
      },
      "outputs": [],
      "execution_count": 2
    },
    {
      "cell_type": "markdown",
      "source": [
        "# Lendo o Dataframe com Spark"
      ],
      "metadata": {
        "id": "630mBbgsBQpN"
      }
    },
    {
      "cell_type": "code",
      "source": [
        "df = spark.read.csv(\"all_stocks_5yr.csv\", inferSchema=True, header=True)"
      ],
      "metadata": {
        "id": "IvF8Fc9vBK7A"
      },
      "execution_count": 3,
      "outputs": []
    },
    {
      "cell_type": "markdown",
      "source": [
        "# Verificando o tipo do Dataframe\n",
        "Note que não se trata de um Dataframe Pandas, mas de um PySpark"
      ],
      "metadata": {
        "id": "crA0EeGNBYtM"
      }
    },
    {
      "cell_type": "code",
      "source": [
        "type(df)"
      ],
      "metadata": {
        "colab": {
          "base_uri": "https://localhost:8080/"
        },
        "id": "fQcZgSuRBVE0",
        "outputId": "b4f458e2-2504-43e0-987d-914859c7c60a"
      },
      "execution_count": 4,
      "outputs": [
        {
          "output_type": "execute_result",
          "data": {
            "text/plain": [
              "pyspark.sql.dataframe.DataFrame"
            ]
          },
          "metadata": {},
          "execution_count": 4
        }
      ]
    },
    {
      "cell_type": "markdown",
      "source": [
        "#Descrevendo o Dataframe"
      ],
      "metadata": {
        "id": "c1z_JJf4BjXM"
      }
    },
    {
      "cell_type": "markdown",
      "source": [
        "## Verificando os Tipos de Dados (das Features)"
      ],
      "metadata": {
        "id": "sTwdrz4BCSGt"
      }
    },
    {
      "cell_type": "code",
      "source": [
        "df.printSchema()"
      ],
      "metadata": {
        "colab": {
          "base_uri": "https://localhost:8080/"
        },
        "id": "3GHR7K5LCGxW",
        "outputId": "6900d1a3-b26b-4ed5-ee3e-b8c22c7ea482"
      },
      "execution_count": 5,
      "outputs": [
        {
          "output_type": "stream",
          "name": "stdout",
          "text": [
            "root\n",
            " |-- date: string (nullable = true)\n",
            " |-- open: double (nullable = true)\n",
            " |-- high: double (nullable = true)\n",
            " |-- low: double (nullable = true)\n",
            " |-- close: double (nullable = true)\n",
            " |-- volume: integer (nullable = true)\n",
            " |-- Name: string (nullable = true)\n",
            "\n"
          ]
        }
      ]
    },
    {
      "cell_type": "markdown",
      "source": [
        "## Análise Estatística"
      ],
      "metadata": {
        "id": "nP7-3aqWCN88"
      }
    },
    {
      "cell_type": "code",
      "source": [
        "df.describe().show()"
      ],
      "metadata": {
        "colab": {
          "base_uri": "https://localhost:8080/"
        },
        "id": "Y5ty86SjBWHW",
        "outputId": "28889bdd-7b08-401d-9d70-23b2d8c25fb7"
      },
      "execution_count": 6,
      "outputs": [
        {
          "output_type": "stream",
          "name": "stdout",
          "text": [
            "+-------+----------+-----------------+-----------------+-----------------+-----------------+-----------------+------+\n",
            "|summary|      date|             open|             high|              low|            close|           volume|  Name|\n",
            "+-------+----------+-----------------+-----------------+-----------------+-----------------+-----------------+------+\n",
            "|  count|    619040|           619029|           619032|           619032|           619040|           619040|619040|\n",
            "|   mean|      null|83.02333431454696|83.77831069346465|82.25609641375786|83.04376276476573|4321823.395568945|  null|\n",
            "| stddev|      null| 97.3787690433231|  98.207518904464| 96.5074210580914|97.38974800165752|8693609.511967659|  null|\n",
            "|    min|2013-02-08|             1.62|             1.69|              1.5|             1.59|                0|     A|\n",
            "|    max|2018-02-07|           2044.0|          2067.99|          2035.11|           2049.0|        618237630|   ZTS|\n",
            "+-------+----------+-----------------+-----------------+-----------------+-----------------+-----------------+------+\n",
            "\n"
          ]
        }
      ]
    },
    {
      "cell_type": "markdown",
      "source": [
        "# Visualizando os Dados"
      ],
      "metadata": {
        "id": "BuQAhXkcG11Y"
      }
    },
    {
      "cell_type": "code",
      "source": [
        "df.show()"
      ],
      "metadata": {
        "colab": {
          "base_uri": "https://localhost:8080/"
        },
        "id": "_H7sHhreG1-I",
        "outputId": "62f551ae-7309-46fe-e45a-96462e011a76"
      },
      "execution_count": 7,
      "outputs": [
        {
          "output_type": "stream",
          "name": "stdout",
          "text": [
            "+----------+-----+-----+-----+-----+--------+----+\n",
            "|      date| open| high|  low|close|  volume|Name|\n",
            "+----------+-----+-----+-----+-----+--------+----+\n",
            "|2013-02-08|15.07|15.12|14.63|14.75| 8407500| AAL|\n",
            "|2013-02-11|14.89|15.01|14.26|14.46| 8882000| AAL|\n",
            "|2013-02-12|14.45|14.51| 14.1|14.27| 8126000| AAL|\n",
            "|2013-02-13| 14.3|14.94|14.25|14.66|10259500| AAL|\n",
            "|2013-02-14|14.94|14.96|13.16|13.99|31879900| AAL|\n",
            "|2013-02-15|13.93|14.61|13.93| 14.5|15628000| AAL|\n",
            "|2013-02-19|14.33|14.56|14.08|14.26|11354400| AAL|\n",
            "|2013-02-20|14.17|14.26|13.15|13.33|14725200| AAL|\n",
            "|2013-02-21|13.62|13.95| 12.9|13.37|11922100| AAL|\n",
            "|2013-02-22|13.57| 13.6|13.21|13.57| 6071400| AAL|\n",
            "|2013-02-25| 13.6|13.76| 13.0|13.02| 7186400| AAL|\n",
            "|2013-02-26|13.14|13.42| 12.7|13.26| 9419000| AAL|\n",
            "|2013-02-27|13.28|13.62|13.18|13.41| 7390500| AAL|\n",
            "|2013-02-28|13.49|13.63|13.39|13.43| 6143600| AAL|\n",
            "|2013-03-01|13.37|13.95|13.32|13.61| 7376800| AAL|\n",
            "|2013-03-04| 13.5|14.07|13.47| 13.9| 8174800| AAL|\n",
            "|2013-03-05|14.01|14.05|13.71|14.05| 7676100| AAL|\n",
            "|2013-03-06|14.52|14.68|14.25|14.57|13243200| AAL|\n",
            "|2013-03-07| 14.7|14.93| 14.5|14.82| 9125300| AAL|\n",
            "|2013-03-08|14.99| 15.2|14.84|14.92|10593700| AAL|\n",
            "+----------+-----+-----+-----+-----+--------+----+\n",
            "only showing top 20 rows\n",
            "\n"
          ]
        }
      ]
    },
    {
      "cell_type": "markdown",
      "source": [
        "# Pergunta 1\n",
        "\n",
        "**Quantos registros há na planilha?**\n",
        "\n",
        "1. **619.040** - Basta ver o count do df.describe()\n",
        "\n",
        "2. 619.042\n",
        "\n",
        "3. 619.039\n",
        "\n",
        "4. 619.041"
      ],
      "metadata": {
        "id": "dMuldz07F82S"
      }
    },
    {
      "cell_type": "code",
      "source": [
        "df.describe().show()"
      ],
      "metadata": {
        "colab": {
          "base_uri": "https://localhost:8080/"
        },
        "id": "n87nGD8CIf9g",
        "outputId": "f118f0e7-22fe-4304-aee2-448abc06fd26"
      },
      "execution_count": 8,
      "outputs": [
        {
          "output_type": "stream",
          "name": "stdout",
          "text": [
            "+-------+----------+-----------------+-----------------+-----------------+-----------------+-----------------+------+\n",
            "|summary|      date|             open|             high|              low|            close|           volume|  Name|\n",
            "+-------+----------+-----------------+-----------------+-----------------+-----------------+-----------------+------+\n",
            "|  count|    619040|           619029|           619032|           619032|           619040|           619040|619040|\n",
            "|   mean|      null|83.02333431454696|83.77831069346465|82.25609641375786|83.04376276476573|4321823.395568945|  null|\n",
            "| stddev|      null| 97.3787690433231|  98.207518904464| 96.5074210580914|97.38974800165752|8693609.511967659|  null|\n",
            "|    min|2013-02-08|             1.62|             1.69|              1.5|             1.59|                0|     A|\n",
            "|    max|2018-02-07|           2044.0|          2067.99|          2035.11|           2049.0|        618237630|   ZTS|\n",
            "+-------+----------+-----------------+-----------------+-----------------+-----------------+-----------------+------+\n",
            "\n"
          ]
        }
      ]
    },
    {
      "cell_type": "markdown",
      "source": [
        "# Pergunta 2\n",
        "**Quantos registros há na planilha para a ação da Apple (AAPL)?**\n",
        "\n",
        "1. 5.901\n",
        "\n",
        "2. 30.131\n",
        "\n",
        "3. **1.259**\n",
        "\n",
        "4. 931"
      ],
      "metadata": {
        "id": "L9cB9ELVGR8C"
      }
    },
    {
      "cell_type": "code",
      "source": [
        "df.filter( df.Name  == \"AAPL\").count()\n"
      ],
      "metadata": {
        "colab": {
          "base_uri": "https://localhost:8080/"
        },
        "id": "mO7TO_ruGogo",
        "outputId": "3801c4de-2a75-4e31-c61a-7b6525db300d"
      },
      "execution_count": 9,
      "outputs": [
        {
          "output_type": "execute_result",
          "data": {
            "text/plain": [
              "1259"
            ]
          },
          "metadata": {},
          "execution_count": 9
        }
      ]
    },
    {
      "cell_type": "markdown",
      "source": [
        "# Pergunta 3\n",
        "**Quantas empresas distintas têm registros nessa planilha?**\n",
        "1. 305\n",
        "\n",
        "2. 300\n",
        "\n",
        "3. **505**\n",
        "\n",
        "4. 605"
      ],
      "metadata": {
        "id": "QnXt9t1rJxtZ"
      }
    },
    {
      "cell_type": "code",
      "source": [
        "from pyspark.sql.functions import countDistinct\n",
        "df3 = df.select(countDistinct(\"Name\")).show()"
      ],
      "metadata": {
        "colab": {
          "base_uri": "https://localhost:8080/"
        },
        "id": "wCFlygdqJZCg",
        "outputId": "285cb25d-c9fc-4015-a7d8-0f2cccd1a469"
      },
      "execution_count": 10,
      "outputs": [
        {
          "output_type": "stream",
          "name": "stdout",
          "text": [
            "+--------------------+\n",
            "|count(DISTINCT Name)|\n",
            "+--------------------+\n",
            "|                 505|\n",
            "+--------------------+\n",
            "\n"
          ]
        }
      ]
    },
    {
      "cell_type": "markdown",
      "source": [
        "# Pergunta 4\n",
        "**Com qual frequência o preço de uma ação no fechamento é maior do que o preço na abertura?**\n",
        "\n",
        "\n",
        "1. 50,5%\n",
        "\n",
        "2. **51,5%**\n",
        "\n",
        "3. 52,5%\n",
        "\n",
        "4. 52,0%"
      ],
      "metadata": {
        "id": "BNTvnU0WJ_tS"
      }
    },
    {
      "cell_type": "code",
      "source": [
        "df.createOrReplaceTempView(\"acoes\")\n",
        "df3 = spark.sql(\" select open, close, case when close > open then 'close' else 'open'end fechar_abrir from acoes \")\n",
        "df3.createOrReplaceTempView(\"acoes2\")\n",
        "\n",
        "spark.sql(\" select fechar_abrir, count(fechar_abrir) total  from acoes2 group by fechar_abrir \").show()"
      ],
      "metadata": {
        "colab": {
          "base_uri": "https://localhost:8080/"
        },
        "id": "CrWsJQMTMDjz",
        "outputId": "5305a55d-c7ca-4041-e4e6-d32205172125"
      },
      "execution_count": 11,
      "outputs": [
        {
          "output_type": "stream",
          "name": "stdout",
          "text": [
            "+------------+------+\n",
            "|fechar_abrir| total|\n",
            "+------------+------+\n",
            "|       close|318970|\n",
            "|        open|300070|\n",
            "+------------+------+\n",
            "\n"
          ]
        }
      ]
    },
    {
      "cell_type": "code",
      "source": [
        "spark.sql(\"select round(318970 / (318970 + 300070) * 100, 2) Frequencia_de_Close_Maior_que_Open from acoes2\").show(1)"
      ],
      "metadata": {
        "colab": {
          "base_uri": "https://localhost:8080/"
        },
        "id": "JBDcrjJo5l4p",
        "outputId": "bc6f4918-bcdd-4e5d-e484-d9f7ca8784f8"
      },
      "execution_count": 12,
      "outputs": [
        {
          "output_type": "stream",
          "name": "stdout",
          "text": [
            "+----------------------------------+\n",
            "|Frequencia_de_Close_Maior_que_Open|\n",
            "+----------------------------------+\n",
            "|                             51.53|\n",
            "+----------------------------------+\n",
            "only showing top 1 row\n",
            "\n"
          ]
        }
      ]
    },
    {
      "cell_type": "markdown",
      "source": [
        "# Pergunta  -   5\n",
        "**Qual o maior valor das ações da Apple (AAPL) na história?**\n",
        "\n",
        "1. 57.08\n",
        "\n",
        "2. **180.1**\n",
        "\n",
        "3. 109.95\n",
        "\n",
        "4. 99.99"
      ],
      "metadata": {
        "id": "k_HmNsXhMDEF"
      }
    },
    {
      "cell_type": "code",
      "source": [
        "df.filter(df.Name  == \"AAPL\").groupBy('Name').max('high').show()"
      ],
      "metadata": {
        "colab": {
          "base_uri": "https://localhost:8080/"
        },
        "id": "I3F5E9_iMamf",
        "outputId": "fce18194-fb9b-4d1d-d203-36b67ccd380e"
      },
      "execution_count": 13,
      "outputs": [
        {
          "output_type": "stream",
          "name": "stdout",
          "text": [
            "+----+---------+\n",
            "|Name|max(high)|\n",
            "+----+---------+\n",
            "|AAPL|    180.1|\n",
            "+----+---------+\n",
            "\n"
          ]
        }
      ]
    },
    {
      "cell_type": "markdown",
      "source": [
        "# Pergunta 6\n",
        "**Qual ação tem a maior volatilidade?** \n",
        "\n",
        "Uma forma é medir o desvio-padrão do preço de fechamento de cada ação e considerar a ação de maior desvio-padrão.\n",
        "\n",
        "\n",
        "1. AES.\n",
        "\n",
        "2. **PCLN.**\n",
        "\n",
        "3. GOOGL.\n",
        "\n",
        "4. AMZN."
      ],
      "metadata": {
        "id": "B2OWRDB6Nlrx"
      }
    },
    {
      "cell_type": "code",
      "source": [
        "df.createOrReplaceTempView(\"acoes\")\n",
        "spark.sql(\"select Name, stddev(close) as stddev from acoes group by Name order \\\n",
        "by  stddev(close) desc\").show(5)\n"
      ],
      "metadata": {
        "colab": {
          "base_uri": "https://localhost:8080/"
        },
        "id": "0DRkZmawav2c",
        "outputId": "954a6c38-22a1-4764-a65e-61ac8f79111f"
      },
      "execution_count": 14,
      "outputs": [
        {
          "output_type": "stream",
          "name": "stdout",
          "text": [
            "+-----+------------------+\n",
            "| Name|            stddev|\n",
            "+-----+------------------+\n",
            "| PCLN|  320.533473018748|\n",
            "| AMZN|  282.500395033522|\n",
            "|GOOGL|187.57389185479704|\n",
            "| GOOG|166.42052902768182|\n",
            "|  MTD|131.39721989584996|\n",
            "+-----+------------------+\n",
            "only showing top 5 rows\n",
            "\n"
          ]
        }
      ]
    },
    {
      "cell_type": "markdown",
      "source": [
        "# Pergunta 7\n",
        "**Qual o dia com maior volume total de negociação da bolsa?**\n",
        "\n",
        "1. 20/01/2016\n",
        "\n",
        "2. 18/12/2015\n",
        "\n",
        "3. **24/08/2015**\n",
        "\n",
        "4. 24/06/2016"
      ],
      "metadata": {
        "id": "pbGGU7kieM47"
      }
    },
    {
      "cell_type": "code",
      "source": [
        "spark.sql(\"select date, round(sum(volume)) as total from acoes group by date \\\n",
        "order by  sum(volume) desc\").show(5)"
      ],
      "metadata": {
        "colab": {
          "base_uri": "https://localhost:8080/"
        },
        "id": "6dHDSGEybOK-",
        "outputId": "f7d98dd3-f7ea-45c7-d166-f4bb2406646a"
      },
      "execution_count": 15,
      "outputs": [
        {
          "output_type": "stream",
          "name": "stdout",
          "text": [
            "+----------+----------+\n",
            "|      date|     total|\n",
            "+----------+----------+\n",
            "|2015-08-24|4607945196|\n",
            "|2016-06-24|4367393052|\n",
            "|2015-12-18|4124454411|\n",
            "|2016-01-20|4087629753|\n",
            "|2018-02-06|4072080890|\n",
            "+----------+----------+\n",
            "only showing top 5 rows\n",
            "\n"
          ]
        }
      ]
    },
    {
      "cell_type": "markdown",
      "source": [
        "# Pergunta 8\n",
        "**Qual a ação mais negociada da bolsa, em volume de transações?**\n",
        "\n",
        "\n",
        "1. F\n",
        "\n",
        "2. **BAC**\n",
        "\n",
        "3. GE\n",
        "\n",
        "4. AAPL"
      ],
      "metadata": {
        "id": "YnXPtqPlg29S"
      }
    },
    {
      "cell_type": "code",
      "source": [
        "spark.sql(\"select Name, round(sum(volume)) as total \\\n",
        "from acoes group by Name \\\n",
        "order by  sum(volume) desc\").show(5)"
      ],
      "metadata": {
        "colab": {
          "base_uri": "https://localhost:8080/"
        },
        "id": "Ak6esYelet56",
        "outputId": "60597ed8-c3d7-4d86-c227-cf49d507adcb"
      },
      "execution_count": 16,
      "outputs": [
        {
          "output_type": "stream",
          "name": "stdout",
          "text": [
            "+----+------------+\n",
            "|Name|       total|\n",
            "+----+------------+\n",
            "| BAC|117884953591|\n",
            "|AAPL| 68046305767|\n",
            "|  GE| 53023644686|\n",
            "|   F| 43388129992|\n",
            "|  FB| 43258314899|\n",
            "+----+------------+\n",
            "only showing top 5 rows\n",
            "\n"
          ]
        }
      ]
    },
    {
      "cell_type": "markdown",
      "source": [
        "# Pergunta 9\n",
        "**Quantas ações começam com a letra “A”?**\n",
        "\n",
        "\n",
        "1. 29\n",
        "\n",
        "2. 72870.\n",
        "\n",
        "3. 19\n",
        "\n",
        "4. **59**"
      ],
      "metadata": {
        "id": "Hv-laUyQhaID"
      }
    },
    {
      "cell_type": "code",
      "source": [
        "spark.sql(\"select count(distinct(Name)) from acoes where Name like 'A%' \").show(5)"
      ],
      "metadata": {
        "colab": {
          "base_uri": "https://localhost:8080/"
        },
        "id": "lffvYjBWhI5j",
        "outputId": "460fcbb7-30db-4378-be5f-5bea48c42b12"
      },
      "execution_count": 27,
      "outputs": [
        {
          "output_type": "stream",
          "name": "stdout",
          "text": [
            "+--------------------+\n",
            "|count(DISTINCT Name)|\n",
            "+--------------------+\n",
            "|                  59|\n",
            "+--------------------+\n",
            "\n"
          ]
        }
      ]
    },
    {
      "cell_type": "markdown",
      "source": [
        "# Pergunta 10\n",
        "**Com qual frequência o preço mais alto do dia da ação também é o preço de fechamento?**\n",
        "\n",
        "\n",
        "1. 21%\n",
        "\n",
        "2. **1,2%**\n",
        "\n",
        "3. 12%\n",
        "\n",
        "4. 2,1%"
      ],
      "metadata": {
        "id": "329aBdBmhXad"
      }
    },
    {
      "cell_type": "code",
      "source": [
        "spark.sql(\" select count(*)  total_transacoes from acoes   \").show(1)\n",
        "df3 = spark.sql(\" select count(*) total_close_igual_high from acoes where close = high \")\n",
        "df3.createOrReplaceTempView(\"acoes4\")\n",
        "df3.show(1)\n",
        "\n",
        "spark.sql(\" select round((7420 / 619040) * 100, 2) freq_high_igual_close from acoes \").show(1)"
      ],
      "metadata": {
        "colab": {
          "base_uri": "https://localhost:8080/"
        },
        "id": "WChdqjLn7gJ6",
        "outputId": "472292d9-2bd8-409e-d727-c5be28fb78d0"
      },
      "execution_count": 18,
      "outputs": [
        {
          "output_type": "stream",
          "name": "stdout",
          "text": [
            "+----------------+\n",
            "|total_transacoes|\n",
            "+----------------+\n",
            "|          619040|\n",
            "+----------------+\n",
            "\n",
            "+----------------------+\n",
            "|total_close_igual_high|\n",
            "+----------------------+\n",
            "|                  7420|\n",
            "+----------------------+\n",
            "\n",
            "+---------------------+\n",
            "|freq_high_igual_close|\n",
            "+---------------------+\n",
            "|                  1.2|\n",
            "+---------------------+\n",
            "only showing top 1 row\n",
            "\n"
          ]
        }
      ]
    },
    {
      "cell_type": "markdown",
      "source": [
        "# Pergunta 11\n",
        "**Em qual dia a ação da Apple mais subiu entre a abertura e o fechamento, de forma absoluta?**\n",
        "\n",
        "\n",
        "1. 08/05/2017\n",
        "\n",
        "2. **24/08/2015**\n",
        "\n",
        "3. 09/12/2014\n",
        "\n",
        "4. 06/02/2018"
      ],
      "metadata": {
        "id": "W6WNLRfAj_bx"
      }
    },
    {
      "cell_type": "code",
      "source": [
        "spark.sql(\"select Name, date ,  open, close ,round(abs(open - close),2) Variacao \\\n",
        "from acoes where Name= 'AAPL' order by abs(open - close)  desc\").show(5)"
      ],
      "metadata": {
        "colab": {
          "base_uri": "https://localhost:8080/"
        },
        "id": "xQ9cZWG3j_MB",
        "outputId": "b590edf0-1a1a-489e-e833-6610ca5f7e9c"
      },
      "execution_count": 19,
      "outputs": [
        {
          "output_type": "stream",
          "name": "stdout",
          "text": [
            "+----+----------+------+------+--------+\n",
            "|Name|      date|  open| close|Variacao|\n",
            "+----+----------+------+------+--------+\n",
            "|AAPL|2015-08-24| 94.87|103.12|    8.25|\n",
            "|AAPL|2018-02-06|154.83|163.03|     8.2|\n",
            "|AAPL|2015-08-25|111.11|103.74|    7.37|\n",
            "|AAPL|2017-06-09|155.19|148.98|    6.21|\n",
            "|AAPL|2018-02-02| 166.0| 160.5|     5.5|\n",
            "+----+----------+------+------+--------+\n",
            "only showing top 5 rows\n",
            "\n"
          ]
        }
      ]
    },
    {
      "cell_type": "markdown",
      "source": [
        "# Pergunta 12\n",
        "**Em média, qual o volume diário de transações das ações da AAPL?**\n",
        "\n",
        "\n",
        "1. **~54 milhões (Em revisão - Notaçao Científica)**\n",
        "\n",
        "2. ~9 milhões\n",
        "\n",
        "3. ~100 milhões\n",
        "\n",
        "4. ~10 milhões"
      ],
      "metadata": {
        "id": "FklogZ4JlzbA"
      }
    },
    {
      "cell_type": "code",
      "source": [
        "spark.sql(\"select  avg(volume) from acoes where Name= 'AAPL' \").show(5)"
      ],
      "metadata": {
        "colab": {
          "base_uri": "https://localhost:8080/"
        },
        "id": "rzjZDQSakajM",
        "outputId": "ddb98295-7113-4b67-8e41-3852ad8c9e58"
      },
      "execution_count": 30,
      "outputs": [
        {
          "output_type": "stream",
          "name": "stdout",
          "text": [
            "+-------------------+\n",
            "|        avg(volume)|\n",
            "+-------------------+\n",
            "|5.404789973550437E7|\n",
            "+-------------------+\n",
            "\n"
          ]
        }
      ]
    },
    {
      "cell_type": "markdown",
      "source": [
        "# Pergunta 13\n",
        "**Quantas ações tem 1, 2, 3, 4 e 5 caracteres em seu nome, respectivamente?**\n",
        "\n",
        "\n",
        "1. 10, 5, 323, 50, 117.\n",
        "\n",
        "2. 10, 323, 50, 5, 117.\n",
        "\n",
        "3. **10, 50, 323, 117, 5.**\n",
        "\n",
        "4. 10, 117, 50, 323, 50, 5."
      ],
      "metadata": {
        "id": "vv4qbkLcmyqd"
      }
    },
    {
      "cell_type": "code",
      "source": [
        "spark.sql(\"select count(distinct(Name))  tamanho from acoes \\\n",
        "where length(Name) = 1  \\\n",
        "union all \\\n",
        "select count(distinct(Name))  tamanho from acoes \\\n",
        "where length(Name) = 2 \\\n",
        "union all \\\n",
        "select count(distinct(Name))  tamanho from acoes \\\n",
        "where length(Name) = 3 \\\n",
        "union all \\\n",
        "select count(distinct(Name))  tamanho from acoes \\\n",
        "where length(Name) = 4 \\\n",
        "union all \\\n",
        "select count(distinct(Name))  tamanho from acoes \\\n",
        "where length(Name) = 5 \\\n",
        "\"  ).show()"
      ],
      "metadata": {
        "colab": {
          "base_uri": "https://localhost:8080/"
        },
        "id": "57X06ppWmH8G",
        "outputId": "1df305ac-5d16-451b-e64a-0986571503c1"
      },
      "execution_count": 21,
      "outputs": [
        {
          "output_type": "stream",
          "name": "stdout",
          "text": [
            "+-------+\n",
            "|tamanho|\n",
            "+-------+\n",
            "|     10|\n",
            "|     50|\n",
            "|    323|\n",
            "|    117|\n",
            "|      5|\n",
            "+-------+\n",
            "\n"
          ]
        }
      ]
    },
    {
      "cell_type": "markdown",
      "source": [
        "# Pergunta 14\n",
        "**Qual a ação menos negociada da bolsa, em volume de transações?**\n",
        "\n",
        "\n",
        "1. MTD\n",
        "\n",
        "2. **APTV**\n",
        "\n",
        "3. AZO\n",
        "\n",
        "4. BHF"
      ],
      "metadata": {
        "id": "k2XQRMcTrR0_"
      }
    },
    {
      "cell_type": "code",
      "source": [
        "spark.sql(\"select  Name, sum(volume) from acoes group by Name order by sum(volume) asc \").show(5)"
      ],
      "metadata": {
        "colab": {
          "base_uri": "https://localhost:8080/"
        },
        "id": "G1lhTwrNnWZn",
        "outputId": "805f3a8a-2f42-4c57-b38e-650daa9674b3"
      },
      "execution_count": 22,
      "outputs": [
        {
          "output_type": "stream",
          "name": "stdout",
          "text": [
            "+----+-----------+\n",
            "|Name|sum(volume)|\n",
            "+----+-----------+\n",
            "|APTV|   92947779|\n",
            "| BHF|  144878392|\n",
            "| MTD|  214489754|\n",
            "| AZO|  397585127|\n",
            "|WLTW|  414734590|\n",
            "+----+-----------+\n",
            "only showing top 5 rows\n",
            "\n"
          ]
        }
      ]
    },
    {
      "cell_type": "markdown",
      "source": [
        "# Pergunta 15\n",
        "**Com qual frequência o preço de fechamento é também o mais alto do dia?**\n",
        "\n",
        "1. 3,6%.\n",
        "\n",
        "2. **0% em Revisão**\n",
        "\n",
        "3. 9,5%\n",
        "\n",
        "4. 1,2%."
      ],
      "metadata": {
        "id": "1uq_-PiasoWn"
      }
    },
    {
      "cell_type": "code",
      "source": [
        "spark.sql(\" select count(*)  total_transacoes from acoes   \").show(1)\n",
        "df3 = spark.sql(\" select count(*) total_close_maior_do_dia from acoes where close > open  and close > low and  close > high\")\n",
        "df3.createOrReplaceTempView(\"acoes4\")\n",
        "df3.show(1)\n",
        "\n",
        "spark.sql(\" select (round( (1 / 619040) * 100)) close_mais_alto_do_dia from acoes \").show(1)"
      ],
      "metadata": {
        "colab": {
          "base_uri": "https://localhost:8080/"
        },
        "id": "RA9kuSpi-Pdl",
        "outputId": "f07da644-5f33-4d30-e6f9-e20277380cf6"
      },
      "execution_count": 23,
      "outputs": [
        {
          "output_type": "stream",
          "name": "stdout",
          "text": [
            "+----------------+\n",
            "|total_transacoes|\n",
            "+----------------+\n",
            "|          619040|\n",
            "+----------------+\n",
            "\n",
            "+------------------------+\n",
            "|total_close_maior_do_dia|\n",
            "+------------------------+\n",
            "|                       1|\n",
            "+------------------------+\n",
            "\n",
            "+----------------------+\n",
            "|close_mais_alto_do_dia|\n",
            "+----------------------+\n",
            "|                   0.0|\n",
            "+----------------------+\n",
            "only showing top 1 row\n",
            "\n"
          ]
        }
      ]
    },
    {
      "cell_type": "code",
      "source": [
        ""
      ],
      "metadata": {
        "id": "6iv-lQfP-jIQ"
      },
      "execution_count": 23,
      "outputs": []
    }
  ]
}