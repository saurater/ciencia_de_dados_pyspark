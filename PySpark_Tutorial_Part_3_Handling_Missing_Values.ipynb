{
  "nbformat": 4,
  "nbformat_minor": 0,
  "metadata": {
    "colab": {
      "name": "PySpark - Tutorial - Part 3 - Handling Missing Values.ipynb",
      "provenance": [],
      "collapsed_sections": [],
      "authorship_tag": "ABX9TyM6pWPNFe7Fy5cPwo3PiqgT",
      "include_colab_link": true
    },
    "kernelspec": {
      "name": "python3",
      "display_name": "Python 3"
    },
    "language_info": {
      "name": "python"
    }
  },
  "cells": [
    {
      "cell_type": "markdown",
      "metadata": {
        "id": "view-in-github",
        "colab_type": "text"
      },
      "source": [
        "<a href=\"https://colab.research.google.com/github/saurater/ciencia_de_dados_pyspark/blob/main/PySpark_Tutorial_Part_3_Handling_Missing_Values.ipynb\" target=\"_parent\"><img src=\"https://colab.research.google.com/assets/colab-badge.svg\" alt=\"Open In Colab\"/></a>"
      ]
    },
    {
      "cell_type": "markdown",
      "source": [
        "# PySpark - Tutorial - Part 3 - Handling Missing Values\n",
        "## Notebook by Sam Faraday\n",
        "June 2022\n",
        "\n",
        "1. Dropping Columns\n",
        "2. Dropping Rows\n",
        "3. Dropping Parameters (how, threshold, subset)\n",
        "4. Handling Missingg Values by Mean, Median, Mode\n",
        "\n",
        "## Sources: \n",
        "1. Free Code Camp: PySpark Tutorial at https://www.youtube.com/watch?v=_C8kWso4ne4\n",
        "2. Apache Spark API Refernce at  https://spark.apache.org/docs/latest/api/python/reference/index.html"
      ],
      "metadata": {
        "id": "zz2_79rb29zb"
      }
    },
    {
      "cell_type": "markdown",
      "source": [
        "# 1. Installing PySpark"
      ],
      "metadata": {
        "id": "V3nL9FJB31yo"
      }
    },
    {
      "cell_type": "code",
      "execution_count": null,
      "metadata": {
        "id": "33ZSK1rk2y-O"
      },
      "outputs": [],
      "source": [
        "pip install pyspark # run it every time you connect you Google Colab Notebook"
      ]
    },
    {
      "cell_type": "markdown",
      "source": [
        "# 2. Importing the required libraries"
      ],
      "metadata": {
        "id": "QQqTFXSuIHfd"
      }
    },
    {
      "cell_type": "code",
      "source": [
        "from pyspark.sql.functions import col,isnan,when,count"
      ],
      "metadata": {
        "id": "xotHREFzGRjZ"
      },
      "execution_count": null,
      "outputs": []
    },
    {
      "cell_type": "code",
      "source": [
        "import pandas as pd\n",
        "import numpy as np"
      ],
      "metadata": {
        "id": "Une4AQbH5lcM"
      },
      "execution_count": null,
      "outputs": []
    },
    {
      "cell_type": "markdown",
      "source": [
        "# 3. Creating the Test3 Dataset"
      ],
      "metadata": {
        "id": "XmtDyAUr3zfp"
      }
    },
    {
      "cell_type": "code",
      "source": [
        "data = {'Index':[1,2,3,4,5,6,np.NaN], 'Name':['Tom', 'Nick', 'Krish', '','Jack',  '',''], 'Age':[20, np.NaN, np.NaN, 19, 18,19, np.NaN], 'Salary':[2000, 3000, np.NaN, 4000, 3000, 3500, np.NaN] ,'Drop Me':[np.NaN, np.NaN, np.NaN, np.NaN, np.NaN, np.NaN, np.NaN]}\n",
        "# Create DataFrame\n",
        "df = pd.DataFrame(data)\n",
        "df"
      ],
      "metadata": {
        "colab": {
          "base_uri": "https://localhost:8080/",
          "height": 269
        },
        "id": "TjaaUmhz4sOu",
        "outputId": "b3e82a35-6e82-4025-9c9d-7e9899b73f0a"
      },
      "execution_count": null,
      "outputs": [
        {
          "output_type": "execute_result",
          "data": {
            "text/plain": [
              "   Index   Name   Age  Salary  Drop Me\n",
              "0    1.0    Tom  20.0  2000.0      NaN\n",
              "1    2.0   Nick   NaN  3000.0      NaN\n",
              "2    3.0  Krish   NaN     NaN      NaN\n",
              "3    4.0         19.0  4000.0      NaN\n",
              "4    5.0   Jack  18.0  3000.0      NaN\n",
              "5    6.0         19.0  3500.0      NaN\n",
              "6    NaN          NaN     NaN      NaN"
            ],
            "text/html": [
              "\n",
              "  <div id=\"df-a6264d12-ba1c-4718-8aa7-2de0d9dd0f18\">\n",
              "    <div class=\"colab-df-container\">\n",
              "      <div>\n",
              "<style scoped>\n",
              "    .dataframe tbody tr th:only-of-type {\n",
              "        vertical-align: middle;\n",
              "    }\n",
              "\n",
              "    .dataframe tbody tr th {\n",
              "        vertical-align: top;\n",
              "    }\n",
              "\n",
              "    .dataframe thead th {\n",
              "        text-align: right;\n",
              "    }\n",
              "</style>\n",
              "<table border=\"1\" class=\"dataframe\">\n",
              "  <thead>\n",
              "    <tr style=\"text-align: right;\">\n",
              "      <th></th>\n",
              "      <th>Index</th>\n",
              "      <th>Name</th>\n",
              "      <th>Age</th>\n",
              "      <th>Salary</th>\n",
              "      <th>Drop Me</th>\n",
              "    </tr>\n",
              "  </thead>\n",
              "  <tbody>\n",
              "    <tr>\n",
              "      <th>0</th>\n",
              "      <td>1.0</td>\n",
              "      <td>Tom</td>\n",
              "      <td>20.0</td>\n",
              "      <td>2000.0</td>\n",
              "      <td>NaN</td>\n",
              "    </tr>\n",
              "    <tr>\n",
              "      <th>1</th>\n",
              "      <td>2.0</td>\n",
              "      <td>Nick</td>\n",
              "      <td>NaN</td>\n",
              "      <td>3000.0</td>\n",
              "      <td>NaN</td>\n",
              "    </tr>\n",
              "    <tr>\n",
              "      <th>2</th>\n",
              "      <td>3.0</td>\n",
              "      <td>Krish</td>\n",
              "      <td>NaN</td>\n",
              "      <td>NaN</td>\n",
              "      <td>NaN</td>\n",
              "    </tr>\n",
              "    <tr>\n",
              "      <th>3</th>\n",
              "      <td>4.0</td>\n",
              "      <td></td>\n",
              "      <td>19.0</td>\n",
              "      <td>4000.0</td>\n",
              "      <td>NaN</td>\n",
              "    </tr>\n",
              "    <tr>\n",
              "      <th>4</th>\n",
              "      <td>5.0</td>\n",
              "      <td>Jack</td>\n",
              "      <td>18.0</td>\n",
              "      <td>3000.0</td>\n",
              "      <td>NaN</td>\n",
              "    </tr>\n",
              "    <tr>\n",
              "      <th>5</th>\n",
              "      <td>6.0</td>\n",
              "      <td></td>\n",
              "      <td>19.0</td>\n",
              "      <td>3500.0</td>\n",
              "      <td>NaN</td>\n",
              "    </tr>\n",
              "    <tr>\n",
              "      <th>6</th>\n",
              "      <td>NaN</td>\n",
              "      <td></td>\n",
              "      <td>NaN</td>\n",
              "      <td>NaN</td>\n",
              "      <td>NaN</td>\n",
              "    </tr>\n",
              "  </tbody>\n",
              "</table>\n",
              "</div>\n",
              "      <button class=\"colab-df-convert\" onclick=\"convertToInteractive('df-a6264d12-ba1c-4718-8aa7-2de0d9dd0f18')\"\n",
              "              title=\"Convert this dataframe to an interactive table.\"\n",
              "              style=\"display:none;\">\n",
              "        \n",
              "  <svg xmlns=\"http://www.w3.org/2000/svg\" height=\"24px\"viewBox=\"0 0 24 24\"\n",
              "       width=\"24px\">\n",
              "    <path d=\"M0 0h24v24H0V0z\" fill=\"none\"/>\n",
              "    <path d=\"M18.56 5.44l.94 2.06.94-2.06 2.06-.94-2.06-.94-.94-2.06-.94 2.06-2.06.94zm-11 1L8.5 8.5l.94-2.06 2.06-.94-2.06-.94L8.5 2.5l-.94 2.06-2.06.94zm10 10l.94 2.06.94-2.06 2.06-.94-2.06-.94-.94-2.06-.94 2.06-2.06.94z\"/><path d=\"M17.41 7.96l-1.37-1.37c-.4-.4-.92-.59-1.43-.59-.52 0-1.04.2-1.43.59L10.3 9.45l-7.72 7.72c-.78.78-.78 2.05 0 2.83L4 21.41c.39.39.9.59 1.41.59.51 0 1.02-.2 1.41-.59l7.78-7.78 2.81-2.81c.8-.78.8-2.07 0-2.86zM5.41 20L4 18.59l7.72-7.72 1.47 1.35L5.41 20z\"/>\n",
              "  </svg>\n",
              "      </button>\n",
              "      \n",
              "  <style>\n",
              "    .colab-df-container {\n",
              "      display:flex;\n",
              "      flex-wrap:wrap;\n",
              "      gap: 12px;\n",
              "    }\n",
              "\n",
              "    .colab-df-convert {\n",
              "      background-color: #E8F0FE;\n",
              "      border: none;\n",
              "      border-radius: 50%;\n",
              "      cursor: pointer;\n",
              "      display: none;\n",
              "      fill: #1967D2;\n",
              "      height: 32px;\n",
              "      padding: 0 0 0 0;\n",
              "      width: 32px;\n",
              "    }\n",
              "\n",
              "    .colab-df-convert:hover {\n",
              "      background-color: #E2EBFA;\n",
              "      box-shadow: 0px 1px 2px rgba(60, 64, 67, 0.3), 0px 1px 3px 1px rgba(60, 64, 67, 0.15);\n",
              "      fill: #174EA6;\n",
              "    }\n",
              "\n",
              "    [theme=dark] .colab-df-convert {\n",
              "      background-color: #3B4455;\n",
              "      fill: #D2E3FC;\n",
              "    }\n",
              "\n",
              "    [theme=dark] .colab-df-convert:hover {\n",
              "      background-color: #434B5C;\n",
              "      box-shadow: 0px 1px 3px 1px rgba(0, 0, 0, 0.15);\n",
              "      filter: drop-shadow(0px 1px 2px rgba(0, 0, 0, 0.3));\n",
              "      fill: #FFFFFF;\n",
              "    }\n",
              "  </style>\n",
              "\n",
              "      <script>\n",
              "        const buttonEl =\n",
              "          document.querySelector('#df-a6264d12-ba1c-4718-8aa7-2de0d9dd0f18 button.colab-df-convert');\n",
              "        buttonEl.style.display =\n",
              "          google.colab.kernel.accessAllowed ? 'block' : 'none';\n",
              "\n",
              "        async function convertToInteractive(key) {\n",
              "          const element = document.querySelector('#df-a6264d12-ba1c-4718-8aa7-2de0d9dd0f18');\n",
              "          const dataTable =\n",
              "            await google.colab.kernel.invokeFunction('convertToInteractive',\n",
              "                                                     [key], {});\n",
              "          if (!dataTable) return;\n",
              "\n",
              "          const docLinkHtml = 'Like what you see? Visit the ' +\n",
              "            '<a target=\"_blank\" href=https://colab.research.google.com/notebooks/data_table.ipynb>data table notebook</a>'\n",
              "            + ' to learn more about interactive tables.';\n",
              "          element.innerHTML = '';\n",
              "          dataTable['output_type'] = 'display_data';\n",
              "          await google.colab.output.renderOutput(dataTable, element);\n",
              "          const docLink = document.createElement('div');\n",
              "          docLink.innerHTML = docLinkHtml;\n",
              "          element.appendChild(docLink);\n",
              "        }\n",
              "      </script>\n",
              "    </div>\n",
              "  </div>\n",
              "  "
            ]
          },
          "metadata": {},
          "execution_count": 183
        }
      ]
    },
    {
      "cell_type": "markdown",
      "source": [
        "# 4. Saving the Dataset"
      ],
      "metadata": {
        "id": "kLXndUDU406k"
      }
    },
    {
      "cell_type": "code",
      "source": [
        "df.to_csv('test3.csv', index=False)"
      ],
      "metadata": {
        "id": "7lm1JqxW41pc"
      },
      "execution_count": null,
      "outputs": []
    },
    {
      "cell_type": "markdown",
      "source": [
        "# 5. Initializing PySpark\n"
      ],
      "metadata": {
        "id": "gwoN6Ydi5D-U"
      }
    },
    {
      "cell_type": "code",
      "source": [
        "from pyspark.sql import SparkSession\n",
        "\n",
        "spark = SparkSession.builder.appName(\"Practise\").getOrCreate()\n",
        "\n",
        "spark"
      ],
      "metadata": {
        "colab": {
          "base_uri": "https://localhost:8080/",
          "height": 219
        },
        "id": "T17DEL0w5Gvs",
        "outputId": "b71df33d-d84f-4d3d-fc1d-0710d46ee0c3"
      },
      "execution_count": null,
      "outputs": [
        {
          "output_type": "execute_result",
          "data": {
            "text/plain": [
              "<pyspark.sql.session.SparkSession at 0x7f0eae7a3f10>"
            ],
            "text/html": [
              "\n",
              "            <div>\n",
              "                <p><b>SparkSession - in-memory</b></p>\n",
              "                \n",
              "        <div>\n",
              "            <p><b>SparkContext</b></p>\n",
              "\n",
              "            <p><a href=\"http://2ec254b7d220:4040\">Spark UI</a></p>\n",
              "\n",
              "            <dl>\n",
              "              <dt>Version</dt>\n",
              "                <dd><code>v3.2.1</code></dd>\n",
              "              <dt>Master</dt>\n",
              "                <dd><code>local[*]</code></dd>\n",
              "              <dt>AppName</dt>\n",
              "                <dd><code>Practise</code></dd>\n",
              "            </dl>\n",
              "        </div>\n",
              "        \n",
              "            </div>\n",
              "        "
            ]
          },
          "metadata": {},
          "execution_count": 185
        }
      ]
    },
    {
      "cell_type": "markdown",
      "source": [
        "# 6. Reading the Dataset"
      ],
      "metadata": {
        "id": "K11MnO9B9MFj"
      }
    },
    {
      "cell_type": "code",
      "source": [
        "df_spark = spark.read.csv(\"test3.csv\", header =True, inferSchema =True)\n",
        "df_spark.show()"
      ],
      "metadata": {
        "colab": {
          "base_uri": "https://localhost:8080/"
        },
        "id": "d5u5OdbD9Q_z",
        "outputId": "c19bd9a8-057f-4099-e964-fe2d645ed6f6"
      },
      "execution_count": null,
      "outputs": [
        {
          "output_type": "stream",
          "name": "stdout",
          "text": [
            "+-----+-----+----+------+-------+\n",
            "|Index| Name| Age|Salary|Drop Me|\n",
            "+-----+-----+----+------+-------+\n",
            "|  1.0|  Tom|20.0|2000.0|   null|\n",
            "|  2.0| Nick|null|3000.0|   null|\n",
            "|  3.0|Krish|null|  null|   null|\n",
            "|  4.0| null|19.0|4000.0|   null|\n",
            "|  5.0| Jack|18.0|3000.0|   null|\n",
            "|  6.0| null|19.0|3500.0|   null|\n",
            "| null| null|null|  null|   null|\n",
            "+-----+-----+----+------+-------+\n",
            "\n"
          ]
        }
      ]
    },
    {
      "cell_type": "markdown",
      "source": [
        "# 7. Checking the Schema"
      ],
      "metadata": {
        "id": "f6pGwS2a-igW"
      }
    },
    {
      "cell_type": "code",
      "source": [
        "df_spark.printSchema()"
      ],
      "metadata": {
        "colab": {
          "base_uri": "https://localhost:8080/"
        },
        "id": "ELuYNyLA-lzH",
        "outputId": "4af95bdf-577f-479c-8a62-ba8607f226f1"
      },
      "execution_count": null,
      "outputs": [
        {
          "output_type": "stream",
          "name": "stdout",
          "text": [
            "root\n",
            " |-- Index: double (nullable = true)\n",
            " |-- Name: string (nullable = true)\n",
            " |-- Age: double (nullable = true)\n",
            " |-- Salary: double (nullable = true)\n",
            " |-- Drop Me: string (nullable = true)\n",
            "\n"
          ]
        }
      ]
    },
    {
      "cell_type": "markdown",
      "source": [
        "# 8. Find count for empty, None, Null, Nan with string literals.\n",
        "\n",
        "df2 = df.select([count(when(col(c).contains('None') | \\\n",
        "                            col(c).contains('NULL') | \\\n",
        "                            (col(c) == '' ) | \\\n",
        "                            col(c).isNull() | \\\n",
        "                            isnan(c), c \n",
        "                           )).alias(c)\n",
        "                    for c in df.columns])\n",
        "df2.show()"
      ],
      "metadata": {
        "id": "B61Rgn0ZGPBO"
      }
    },
    {
      "cell_type": "code",
      "source": [
        "df_spark2 = df_spark.select([count(when(col(c).contains('None') |\n",
        "col(c).contains('NULL') |\n",
        "(col(c) == '' ) |\n",
        "col(c).isNull() |\n",
        "isnan(c), c )).alias(c) for c in df_spark.columns]) \n",
        "\n",
        "df_spark2.show()"
      ],
      "metadata": {
        "colab": {
          "base_uri": "https://localhost:8080/"
        },
        "id": "EAGyLTVnGVSf",
        "outputId": "d7db804b-3d99-47c5-e6a4-2fa38422e6fa"
      },
      "execution_count": null,
      "outputs": [
        {
          "output_type": "stream",
          "name": "stdout",
          "text": [
            "+-----+----+---+------+-------+\n",
            "|Index|Name|Age|Salary|Drop Me|\n",
            "+-----+----+---+------+-------+\n",
            "|    1|   3|  3|     2|      7|\n",
            "+-----+----+---+------+-------+\n",
            "\n"
          ]
        }
      ]
    },
    {
      "cell_type": "markdown",
      "source": [
        "# 9. Dropping Columns"
      ],
      "metadata": {
        "id": "Xx98xOrc_stn"
      }
    },
    {
      "cell_type": "code",
      "source": [
        "df_spark = df_spark.drop(\"Drop me\")\n",
        "df_spark.show()"
      ],
      "metadata": {
        "colab": {
          "base_uri": "https://localhost:8080/"
        },
        "id": "4MmO3kOsAHSU",
        "outputId": "a93d14ee-4425-4ed0-dbf4-c00996f0b657"
      },
      "execution_count": null,
      "outputs": [
        {
          "output_type": "stream",
          "name": "stdout",
          "text": [
            "+-----+-----+----+------+\n",
            "|Index| Name| Age|Salary|\n",
            "+-----+-----+----+------+\n",
            "|  1.0|  Tom|20.0|2000.0|\n",
            "|  2.0| Nick|null|3000.0|\n",
            "|  3.0|Krish|null|  null|\n",
            "|  4.0| null|19.0|4000.0|\n",
            "|  5.0| Jack|18.0|3000.0|\n",
            "|  6.0| null|19.0|3500.0|\n",
            "| null| null|null|  null|\n",
            "+-----+-----+----+------+\n",
            "\n"
          ]
        }
      ]
    },
    {
      "cell_type": "markdown",
      "source": [
        "# 10. Dropping All Rows with Null Values\n",
        "Note we have not saved the dataset (not in place)"
      ],
      "metadata": {
        "id": "3-lKUPR4_U5h"
      }
    },
    {
      "cell_type": "code",
      "source": [
        "df_spark.na.drop().show()"
      ],
      "metadata": {
        "colab": {
          "base_uri": "https://localhost:8080/"
        },
        "id": "dkmMwHnA_cYy",
        "outputId": "4711ed73-36f6-4a39-e178-11e69c191372"
      },
      "execution_count": null,
      "outputs": [
        {
          "output_type": "stream",
          "name": "stdout",
          "text": [
            "+-----+----+----+------+\n",
            "|Index|Name| Age|Salary|\n",
            "+-----+----+----+------+\n",
            "|  1.0| Tom|20.0|2000.0|\n",
            "|  5.0|Jack|18.0|3000.0|\n",
            "+-----+----+----+------+\n",
            "\n"
          ]
        }
      ]
    },
    {
      "cell_type": "markdown",
      "source": [
        "# 11. Dropping Rows with ANY Null Values"
      ],
      "metadata": {
        "id": "B2q978XJKK1l"
      }
    },
    {
      "cell_type": "code",
      "source": [
        "df_spark.na.drop(how='any').show()"
      ],
      "metadata": {
        "colab": {
          "base_uri": "https://localhost:8080/"
        },
        "outputId": "7ffd2306-ab12-48a2-bf6d-d1347646423b",
        "id": "V8MaCWCvKaRJ"
      },
      "execution_count": null,
      "outputs": [
        {
          "output_type": "stream",
          "name": "stdout",
          "text": [
            "+-----+----+----+------+\n",
            "|Index|Name| Age|Salary|\n",
            "+-----+----+----+------+\n",
            "|  1.0| Tom|20.0|2000.0|\n",
            "|  5.0|Jack|18.0|3000.0|\n",
            "+-----+----+----+------+\n",
            "\n"
          ]
        }
      ]
    },
    {
      "cell_type": "markdown",
      "source": [
        "# 12. Dropping Rows with ALL Null Values"
      ],
      "metadata": {
        "id": "GsW89wpHKaRJ"
      }
    },
    {
      "cell_type": "code",
      "source": [
        "df_spark.show()"
      ],
      "metadata": {
        "colab": {
          "base_uri": "https://localhost:8080/"
        },
        "id": "nqtTQhqHME3d",
        "outputId": "b147080d-e582-43bb-9b84-7c8c56e94314"
      },
      "execution_count": null,
      "outputs": [
        {
          "output_type": "stream",
          "name": "stdout",
          "text": [
            "+-----+-----+----+------+\n",
            "|Index| Name| Age|Salary|\n",
            "+-----+-----+----+------+\n",
            "|  1.0|  Tom|20.0|2000.0|\n",
            "|  2.0| Nick|null|3000.0|\n",
            "|  3.0|Krish|null|  null|\n",
            "|  4.0| null|19.0|4000.0|\n",
            "|  5.0| Jack|18.0|3000.0|\n",
            "|  6.0| null|19.0|3500.0|\n",
            "| null| null|null|  null|\n",
            "+-----+-----+----+------+\n",
            "\n"
          ]
        }
      ]
    },
    {
      "cell_type": "code",
      "source": [
        "df_spark.na.drop(how='all').show() # row 7 has been deleted, the only one with all null values"
      ],
      "metadata": {
        "colab": {
          "base_uri": "https://localhost:8080/"
        },
        "id": "WESo8NyLKTcn",
        "outputId": "2853955f-82da-4331-d22b-a00f9d251e4d"
      },
      "execution_count": null,
      "outputs": [
        {
          "output_type": "stream",
          "name": "stdout",
          "text": [
            "+-----+-----+----+------+\n",
            "|Index| Name| Age|Salary|\n",
            "+-----+-----+----+------+\n",
            "|  1.0|  Tom|20.0|2000.0|\n",
            "|  2.0| Nick|null|3000.0|\n",
            "|  3.0|Krish|null|  null|\n",
            "|  4.0| null|19.0|4000.0|\n",
            "|  5.0| Jack|18.0|3000.0|\n",
            "|  6.0| null|19.0|3500.0|\n",
            "+-----+-----+----+------+\n",
            "\n"
          ]
        }
      ]
    },
    {
      "cell_type": "markdown",
      "source": [
        "# 13. Dropping Rows with ANY Null Values AND THRESHOLD = Some number\n",
        "Please note if there are 2 null values, you have threshold = 3 (n =1)\n",
        "In htis case, row 3 has been deleted"
      ],
      "metadata": {
        "id": "b4wkPwDUNHt-"
      }
    },
    {
      "cell_type": "code",
      "source": [
        "df_spark.na.drop(how='any', thresh=3).show()"
      ],
      "metadata": {
        "colab": {
          "base_uri": "https://localhost:8080/"
        },
        "id": "04Aou8yYNUwD",
        "outputId": "6b65a3c5-70a8-4c96-dfcd-181dafd68918"
      },
      "execution_count": null,
      "outputs": [
        {
          "output_type": "stream",
          "name": "stdout",
          "text": [
            "+-----+----+----+------+\n",
            "|Index|Name| Age|Salary|\n",
            "+-----+----+----+------+\n",
            "|  1.0| Tom|20.0|2000.0|\n",
            "|  2.0|Nick|null|3000.0|\n",
            "|  4.0|null|19.0|4000.0|\n",
            "|  5.0|Jack|18.0|3000.0|\n",
            "|  6.0|null|19.0|3500.0|\n",
            "+-----+----+----+------+\n",
            "\n"
          ]
        }
      ]
    },
    {
      "cell_type": "markdown",
      "source": [
        "# 14. Dropping Rows with Subset\n",
        "Specific Columns"
      ],
      "metadata": {
        "id": "JA4YdCQqPQ4P"
      }
    },
    {
      "cell_type": "code",
      "source": [
        "df_spark.show()"
      ],
      "metadata": {
        "colab": {
          "base_uri": "https://localhost:8080/"
        },
        "id": "fFsIz83LPxh0",
        "outputId": "1b2810c4-d18d-4885-aac2-1aab0bd28dde"
      },
      "execution_count": null,
      "outputs": [
        {
          "output_type": "stream",
          "name": "stdout",
          "text": [
            "+-----+-----+----+------+\n",
            "|Index| Name| Age|Salary|\n",
            "+-----+-----+----+------+\n",
            "|  1.0|  Tom|20.0|2000.0|\n",
            "|  2.0| Nick|null|3000.0|\n",
            "|  3.0|Krish|null|  null|\n",
            "|  4.0| null|19.0|4000.0|\n",
            "|  5.0| Jack|18.0|3000.0|\n",
            "|  6.0| null|19.0|3500.0|\n",
            "| null| null|null|  null|\n",
            "+-----+-----+----+------+\n",
            "\n"
          ]
        }
      ]
    },
    {
      "cell_type": "code",
      "source": [
        "df_spark.na.drop(how='any', subset=['Name']).show()"
      ],
      "metadata": {
        "colab": {
          "base_uri": "https://localhost:8080/"
        },
        "id": "U4a01KJoPU4n",
        "outputId": "b56e1f30-600c-40ae-f545-ce8323b43d71"
      },
      "execution_count": null,
      "outputs": [
        {
          "output_type": "stream",
          "name": "stdout",
          "text": [
            "+-----+-----+----+------+\n",
            "|Index| Name| Age|Salary|\n",
            "+-----+-----+----+------+\n",
            "|  1.0|  Tom|20.0|2000.0|\n",
            "|  2.0| Nick|null|3000.0|\n",
            "|  3.0|Krish|null|  null|\n",
            "|  5.0| Jack|18.0|3000.0|\n",
            "+-----+-----+----+------+\n",
            "\n"
          ]
        }
      ]
    },
    {
      "cell_type": "markdown",
      "source": [
        "# 15. Filling All Missing Values\n",
        "In case you do not specifiy a subset(column), it will fill all columns with missing value with the same data type"
      ],
      "metadata": {
        "id": "wl9I-ryYTnjg"
      }
    },
    {
      "cell_type": "code",
      "source": [
        "df_spark.na.fill(0).show() # Numbers  only"
      ],
      "metadata": {
        "colab": {
          "base_uri": "https://localhost:8080/"
        },
        "id": "5EH4st4jT57n",
        "outputId": "dcda8eef-6024-4d26-840c-dadaa595df66"
      },
      "execution_count": null,
      "outputs": [
        {
          "output_type": "stream",
          "name": "stdout",
          "text": [
            "+-----+-----+----+------+\n",
            "|Index| Name| Age|Salary|\n",
            "+-----+-----+----+------+\n",
            "|  1.0|  Tom|20.0|2000.0|\n",
            "|  2.0| Nick| 0.0|3000.0|\n",
            "|  3.0|Krish| 0.0|   0.0|\n",
            "|  4.0| null|19.0|4000.0|\n",
            "|  5.0| Jack|18.0|3000.0|\n",
            "|  6.0| null|19.0|3500.0|\n",
            "|  0.0| null| 0.0|   0.0|\n",
            "+-----+-----+----+------+\n",
            "\n"
          ]
        }
      ]
    },
    {
      "cell_type": "code",
      "source": [
        "df_spark.na.fill(\"Missing Values\").show() # Strings only"
      ],
      "metadata": {
        "colab": {
          "base_uri": "https://localhost:8080/"
        },
        "id": "NHA-4gkeUia7",
        "outputId": "2e1ac4fa-d6fe-498c-eb52-5e3a3eefa5ab"
      },
      "execution_count": null,
      "outputs": [
        {
          "output_type": "stream",
          "name": "stdout",
          "text": [
            "+-----+--------------+----+------+\n",
            "|Index|          Name| Age|Salary|\n",
            "+-----+--------------+----+------+\n",
            "|  1.0|           Tom|20.0|2000.0|\n",
            "|  2.0|          Nick|null|3000.0|\n",
            "|  3.0|         Krish|null|  null|\n",
            "|  4.0|Missing Values|19.0|4000.0|\n",
            "|  5.0|          Jack|18.0|3000.0|\n",
            "|  6.0|Missing Values|19.0|3500.0|\n",
            "| null|Missing Values|null|  null|\n",
            "+-----+--------------+----+------+\n",
            "\n"
          ]
        }
      ]
    },
    {
      "cell_type": "markdown",
      "source": [
        "# 16. Filling Missing Values by Columns Names"
      ],
      "metadata": {
        "id": "dULfETsuUtt0"
      }
    },
    {
      "cell_type": "code",
      "source": [
        "df_spark.na.fill(0, \"Age\").show() # Age Column only"
      ],
      "metadata": {
        "colab": {
          "base_uri": "https://localhost:8080/"
        },
        "id": "0H0xxOb6U28t",
        "outputId": "d3999a29-668b-4b8a-d981-475a559a4b71"
      },
      "execution_count": null,
      "outputs": [
        {
          "output_type": "stream",
          "name": "stdout",
          "text": [
            "+-----+-----+----+------+\n",
            "|Index| Name| Age|Salary|\n",
            "+-----+-----+----+------+\n",
            "|  1.0|  Tom|20.0|2000.0|\n",
            "|  2.0| Nick| 0.0|3000.0|\n",
            "|  3.0|Krish| 0.0|  null|\n",
            "|  4.0| null|19.0|4000.0|\n",
            "|  5.0| Jack|18.0|3000.0|\n",
            "|  6.0| null|19.0|3500.0|\n",
            "| null| null| 0.0|  null|\n",
            "+-----+-----+----+------+\n",
            "\n"
          ]
        }
      ]
    },
    {
      "cell_type": "code",
      "source": [
        "df_spark.na.fill(0, [\"Age\",\"Salary\"]).show() # Age and Salary Columns only"
      ],
      "metadata": {
        "colab": {
          "base_uri": "https://localhost:8080/"
        },
        "id": "PXafQoWdVSbp",
        "outputId": "87388587-fb55-466c-bad1-e9aea51812ae"
      },
      "execution_count": null,
      "outputs": [
        {
          "output_type": "stream",
          "name": "stdout",
          "text": [
            "+-----+-----+----+------+\n",
            "|Index| Name| Age|Salary|\n",
            "+-----+-----+----+------+\n",
            "|  1.0|  Tom|20.0|2000.0|\n",
            "|  2.0| Nick| 0.0|3000.0|\n",
            "|  3.0|Krish| 0.0|   0.0|\n",
            "|  4.0| null|19.0|4000.0|\n",
            "|  5.0| Jack|18.0|3000.0|\n",
            "|  6.0| null|19.0|3500.0|\n",
            "| null| null| 0.0|   0.0|\n",
            "+-----+-----+----+------+\n",
            "\n"
          ]
        }
      ]
    },
    {
      "cell_type": "markdown",
      "source": [
        "# 17. Imputing Missing Values Strategies"
      ],
      "metadata": {
        "id": "uwLGsjewZ7ID"
      }
    },
    {
      "cell_type": "code",
      "source": [
        "from pyspark.ml.feature import Imputer"
      ],
      "metadata": {
        "id": "48ZwO99yTrTG"
      },
      "execution_count": null,
      "outputs": []
    },
    {
      "cell_type": "markdown",
      "source": [
        "## Please note that for learning only, we have created 2 new columns: Age_Imputed and Salary_Imputed.\n",
        "\n",
        "In real life, after analysing the result you could remore the _Imputed from the outputCols like this:\n",
        "\n",
        "my_imputer = Imputer(\n",
        "    inputCols = ['Age', 'Salary'],\n",
        "    outputCols =  [\"{}\".format(c) for c in ['Age',  'Salary']]).setStrategy('mean')\n",
        "\n",
        "## Imputation Startegies\n",
        "Mean, Median, Mode    "
      ],
      "metadata": {
        "id": "-b-Q39cFdsCJ"
      }
    },
    {
      "cell_type": "code",
      "source": [
        "my_imputer = Imputer(\n",
        "    inputCols = ['Age', 'Salary'],\n",
        "    outputCols =  [\"{}_Imputed\".format(c) for c in ['Age',  'Salary']]).setStrategy('mean')"
      ],
      "metadata": {
        "id": "Ni6G0Srxaj7e"
      },
      "execution_count": null,
      "outputs": []
    },
    {
      "cell_type": "markdown",
      "source": [
        "# 18. Add imputation to df_spark"
      ],
      "metadata": {
        "id": "l7Gk_1-7cBUo"
      }
    },
    {
      "cell_type": "code",
      "source": [
        "my_imputer.fit(df_spark).transform(df_spark).show()"
      ],
      "metadata": {
        "colab": {
          "base_uri": "https://localhost:8080/"
        },
        "id": "IuhBl9lZbyhx",
        "outputId": "7aa10522-cbda-421c-9864-34f3343b6a92"
      },
      "execution_count": null,
      "outputs": [
        {
          "output_type": "stream",
          "name": "stdout",
          "text": [
            "+-----+-----+----+------+-----------+--------------+\n",
            "|Index| Name| Age|Salary|Age_Imputed|Salary_Imputed|\n",
            "+-----+-----+----+------+-----------+--------------+\n",
            "|  1.0|  Tom|20.0|2000.0|       20.0|        2000.0|\n",
            "|  2.0| Nick|null|3000.0|       19.0|        3000.0|\n",
            "|  3.0|Krish|null|  null|       19.0|        3100.0|\n",
            "|  4.0| null|19.0|4000.0|       19.0|        4000.0|\n",
            "|  5.0| Jack|18.0|3000.0|       18.0|        3000.0|\n",
            "|  6.0| null|19.0|3500.0|       19.0|        3500.0|\n",
            "| null| null|null|  null|       19.0|        3100.0|\n",
            "+-----+-----+----+------+-----------+--------------+\n",
            "\n"
          ]
        }
      ]
    }
  ]
}