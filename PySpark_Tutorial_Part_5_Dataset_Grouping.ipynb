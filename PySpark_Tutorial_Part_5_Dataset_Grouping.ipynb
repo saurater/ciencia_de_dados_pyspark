{
  "nbformat": 4,
  "nbformat_minor": 0,
  "metadata": {
    "colab": {
      "name": "PySpark - Tutorial - Part 5 - Dataset Grouping.ipynb",
      "provenance": [],
      "collapsed_sections": [],
      "authorship_tag": "ABX9TyOBTLk5pzfLlTCtvx4aCYWb",
      "include_colab_link": true
    },
    "kernelspec": {
      "name": "python3",
      "display_name": "Python 3"
    },
    "language_info": {
      "name": "python"
    }
  },
  "cells": [
    {
      "cell_type": "markdown",
      "metadata": {
        "id": "view-in-github",
        "colab_type": "text"
      },
      "source": [
        "<a href=\"https://colab.research.google.com/github/saurater/ciencia_de_dados_pyspark/blob/main/PySpark_Tutorial_Part_5_Dataset_Grouping.ipynb\" target=\"_parent\"><img src=\"https://colab.research.google.com/assets/colab-badge.svg\" alt=\"Open In Colab\"/></a>"
      ]
    },
    {
      "cell_type": "markdown",
      "source": [
        "# PySpark - Tutorial - Part 5 - Dataset Aggregations and Grouping\n",
        "Notebook by Sam Faraday\n",
        "June 2022\n",
        "\n",
        "1.Sum\n",
        "2.Min\n",
        "3.Max\n",
        "4.Count\n",
        "\n",
        "## Sources:\n",
        "\n",
        "Free Code Camp: PySpark Tutorial at https://www.youtube.com/watch?v=_C8kWso4ne4\n",
        "\n",
        "Apache Spark API Refernce at https://spark.apache.org/docs/latest/api/python/reference/index.html"
      ],
      "metadata": {
        "id": "1gO40bI1jmDH"
      }
    },
    {
      "cell_type": "markdown",
      "source": [
        "# 1. Installing PySpark"
      ],
      "metadata": {
        "id": "V3nL9FJB31yo"
      }
    },
    {
      "cell_type": "code",
      "execution_count": 61,
      "metadata": {
        "id": "33ZSK1rk2y-O",
        "colab": {
          "base_uri": "https://localhost:8080/"
        },
        "outputId": "66333323-f3ee-4a2f-e36c-04bbba1ae86e"
      },
      "outputs": [
        {
          "output_type": "stream",
          "name": "stdout",
          "text": [
            "Looking in indexes: https://pypi.org/simple, https://us-python.pkg.dev/colab-wheels/public/simple/\n",
            "Requirement already satisfied: pyspark in /usr/local/lib/python3.7/dist-packages (3.2.1)\n",
            "Requirement already satisfied: py4j==0.10.9.3 in /usr/local/lib/python3.7/dist-packages (from pyspark) (0.10.9.3)\n"
          ]
        }
      ],
      "source": [
        "pip install pyspark # run it every time you connect to Google Colab Notebook"
      ]
    },
    {
      "cell_type": "markdown",
      "source": [
        "# 2. Importing the required libraries"
      ],
      "metadata": {
        "id": "QQqTFXSuIHfd"
      }
    },
    {
      "cell_type": "code",
      "source": [
        "import pandas as pd"
      ],
      "metadata": {
        "id": "Une4AQbH5lcM"
      },
      "execution_count": 62,
      "outputs": []
    },
    {
      "cell_type": "markdown",
      "source": [
        "# 3. Creating the Test5 Dataset"
      ],
      "metadata": {
        "id": "XmtDyAUr3zfp"
      }
    },
    {
      "cell_type": "code",
      "source": [
        "data = {'Index':[1,2,3,4,5,6,7], 'Name':['Tom', 'Nick', 'Krish', 'Paul','Jack',  'John','Sam'], 'Department':['IOT','Big Data', 'IOT', 'Big Data', 'Big Data', 'Data Science', 'Data Science'],'Age':[20, 21, 20, 19, 18,19, 25], 'Salary':[2000, 3000, 3500, 4000, 3000, 3500, 2800] }\n",
        "# Create DataFrame\n",
        "df = pd.DataFrame(data)\n",
        "df"
      ],
      "metadata": {
        "colab": {
          "base_uri": "https://localhost:8080/",
          "height": 269
        },
        "id": "TjaaUmhz4sOu",
        "outputId": "bb9d6900-6ccb-483f-854b-00af01bf091a"
      },
      "execution_count": 63,
      "outputs": [
        {
          "output_type": "execute_result",
          "data": {
            "text/plain": [
              "   Index   Name    Department  Age  Salary\n",
              "0      1    Tom           IOT   20    2000\n",
              "1      2   Nick      Big Data   21    3000\n",
              "2      3  Krish           IOT   20    3500\n",
              "3      4   Paul      Big Data   19    4000\n",
              "4      5   Jack      Big Data   18    3000\n",
              "5      6   John  Data Science   19    3500\n",
              "6      7    Sam  Data Science   25    2800"
            ],
            "text/html": [
              "\n",
              "  <div id=\"df-0e8b42e6-47a8-4347-95ad-f19b4ceff1ce\">\n",
              "    <div class=\"colab-df-container\">\n",
              "      <div>\n",
              "<style scoped>\n",
              "    .dataframe tbody tr th:only-of-type {\n",
              "        vertical-align: middle;\n",
              "    }\n",
              "\n",
              "    .dataframe tbody tr th {\n",
              "        vertical-align: top;\n",
              "    }\n",
              "\n",
              "    .dataframe thead th {\n",
              "        text-align: right;\n",
              "    }\n",
              "</style>\n",
              "<table border=\"1\" class=\"dataframe\">\n",
              "  <thead>\n",
              "    <tr style=\"text-align: right;\">\n",
              "      <th></th>\n",
              "      <th>Index</th>\n",
              "      <th>Name</th>\n",
              "      <th>Department</th>\n",
              "      <th>Age</th>\n",
              "      <th>Salary</th>\n",
              "    </tr>\n",
              "  </thead>\n",
              "  <tbody>\n",
              "    <tr>\n",
              "      <th>0</th>\n",
              "      <td>1</td>\n",
              "      <td>Tom</td>\n",
              "      <td>IOT</td>\n",
              "      <td>20</td>\n",
              "      <td>2000</td>\n",
              "    </tr>\n",
              "    <tr>\n",
              "      <th>1</th>\n",
              "      <td>2</td>\n",
              "      <td>Nick</td>\n",
              "      <td>Big Data</td>\n",
              "      <td>21</td>\n",
              "      <td>3000</td>\n",
              "    </tr>\n",
              "    <tr>\n",
              "      <th>2</th>\n",
              "      <td>3</td>\n",
              "      <td>Krish</td>\n",
              "      <td>IOT</td>\n",
              "      <td>20</td>\n",
              "      <td>3500</td>\n",
              "    </tr>\n",
              "    <tr>\n",
              "      <th>3</th>\n",
              "      <td>4</td>\n",
              "      <td>Paul</td>\n",
              "      <td>Big Data</td>\n",
              "      <td>19</td>\n",
              "      <td>4000</td>\n",
              "    </tr>\n",
              "    <tr>\n",
              "      <th>4</th>\n",
              "      <td>5</td>\n",
              "      <td>Jack</td>\n",
              "      <td>Big Data</td>\n",
              "      <td>18</td>\n",
              "      <td>3000</td>\n",
              "    </tr>\n",
              "    <tr>\n",
              "      <th>5</th>\n",
              "      <td>6</td>\n",
              "      <td>John</td>\n",
              "      <td>Data Science</td>\n",
              "      <td>19</td>\n",
              "      <td>3500</td>\n",
              "    </tr>\n",
              "    <tr>\n",
              "      <th>6</th>\n",
              "      <td>7</td>\n",
              "      <td>Sam</td>\n",
              "      <td>Data Science</td>\n",
              "      <td>25</td>\n",
              "      <td>2800</td>\n",
              "    </tr>\n",
              "  </tbody>\n",
              "</table>\n",
              "</div>\n",
              "      <button class=\"colab-df-convert\" onclick=\"convertToInteractive('df-0e8b42e6-47a8-4347-95ad-f19b4ceff1ce')\"\n",
              "              title=\"Convert this dataframe to an interactive table.\"\n",
              "              style=\"display:none;\">\n",
              "        \n",
              "  <svg xmlns=\"http://www.w3.org/2000/svg\" height=\"24px\"viewBox=\"0 0 24 24\"\n",
              "       width=\"24px\">\n",
              "    <path d=\"M0 0h24v24H0V0z\" fill=\"none\"/>\n",
              "    <path d=\"M18.56 5.44l.94 2.06.94-2.06 2.06-.94-2.06-.94-.94-2.06-.94 2.06-2.06.94zm-11 1L8.5 8.5l.94-2.06 2.06-.94-2.06-.94L8.5 2.5l-.94 2.06-2.06.94zm10 10l.94 2.06.94-2.06 2.06-.94-2.06-.94-.94-2.06-.94 2.06-2.06.94z\"/><path d=\"M17.41 7.96l-1.37-1.37c-.4-.4-.92-.59-1.43-.59-.52 0-1.04.2-1.43.59L10.3 9.45l-7.72 7.72c-.78.78-.78 2.05 0 2.83L4 21.41c.39.39.9.59 1.41.59.51 0 1.02-.2 1.41-.59l7.78-7.78 2.81-2.81c.8-.78.8-2.07 0-2.86zM5.41 20L4 18.59l7.72-7.72 1.47 1.35L5.41 20z\"/>\n",
              "  </svg>\n",
              "      </button>\n",
              "      \n",
              "  <style>\n",
              "    .colab-df-container {\n",
              "      display:flex;\n",
              "      flex-wrap:wrap;\n",
              "      gap: 12px;\n",
              "    }\n",
              "\n",
              "    .colab-df-convert {\n",
              "      background-color: #E8F0FE;\n",
              "      border: none;\n",
              "      border-radius: 50%;\n",
              "      cursor: pointer;\n",
              "      display: none;\n",
              "      fill: #1967D2;\n",
              "      height: 32px;\n",
              "      padding: 0 0 0 0;\n",
              "      width: 32px;\n",
              "    }\n",
              "\n",
              "    .colab-df-convert:hover {\n",
              "      background-color: #E2EBFA;\n",
              "      box-shadow: 0px 1px 2px rgba(60, 64, 67, 0.3), 0px 1px 3px 1px rgba(60, 64, 67, 0.15);\n",
              "      fill: #174EA6;\n",
              "    }\n",
              "\n",
              "    [theme=dark] .colab-df-convert {\n",
              "      background-color: #3B4455;\n",
              "      fill: #D2E3FC;\n",
              "    }\n",
              "\n",
              "    [theme=dark] .colab-df-convert:hover {\n",
              "      background-color: #434B5C;\n",
              "      box-shadow: 0px 1px 3px 1px rgba(0, 0, 0, 0.15);\n",
              "      filter: drop-shadow(0px 1px 2px rgba(0, 0, 0, 0.3));\n",
              "      fill: #FFFFFF;\n",
              "    }\n",
              "  </style>\n",
              "\n",
              "      <script>\n",
              "        const buttonEl =\n",
              "          document.querySelector('#df-0e8b42e6-47a8-4347-95ad-f19b4ceff1ce button.colab-df-convert');\n",
              "        buttonEl.style.display =\n",
              "          google.colab.kernel.accessAllowed ? 'block' : 'none';\n",
              "\n",
              "        async function convertToInteractive(key) {\n",
              "          const element = document.querySelector('#df-0e8b42e6-47a8-4347-95ad-f19b4ceff1ce');\n",
              "          const dataTable =\n",
              "            await google.colab.kernel.invokeFunction('convertToInteractive',\n",
              "                                                     [key], {});\n",
              "          if (!dataTable) return;\n",
              "\n",
              "          const docLinkHtml = 'Like what you see? Visit the ' +\n",
              "            '<a target=\"_blank\" href=https://colab.research.google.com/notebooks/data_table.ipynb>data table notebook</a>'\n",
              "            + ' to learn more about interactive tables.';\n",
              "          element.innerHTML = '';\n",
              "          dataTable['output_type'] = 'display_data';\n",
              "          await google.colab.output.renderOutput(dataTable, element);\n",
              "          const docLink = document.createElement('div');\n",
              "          docLink.innerHTML = docLinkHtml;\n",
              "          element.appendChild(docLink);\n",
              "        }\n",
              "      </script>\n",
              "    </div>\n",
              "  </div>\n",
              "  "
            ]
          },
          "metadata": {},
          "execution_count": 63
        }
      ]
    },
    {
      "cell_type": "markdown",
      "source": [
        "# 4. Saving the Dataset"
      ],
      "metadata": {
        "id": "kLXndUDU406k"
      }
    },
    {
      "cell_type": "code",
      "source": [
        "df.to_csv('test5.csv', index=False)"
      ],
      "metadata": {
        "id": "7lm1JqxW41pc"
      },
      "execution_count": 64,
      "outputs": []
    },
    {
      "cell_type": "markdown",
      "source": [
        "# 5. Initializing PySpark\n"
      ],
      "metadata": {
        "id": "gwoN6Ydi5D-U"
      }
    },
    {
      "cell_type": "code",
      "source": [
        "from pyspark.sql import SparkSession\n",
        "\n",
        "spark = SparkSession.builder.appName(\"Agg\").getOrCreate()\n",
        "\n",
        "spark"
      ],
      "metadata": {
        "colab": {
          "base_uri": "https://localhost:8080/",
          "height": 219
        },
        "id": "T17DEL0w5Gvs",
        "outputId": "59de87cc-0e21-4a84-89d9-43a32fadf898"
      },
      "execution_count": 65,
      "outputs": [
        {
          "output_type": "execute_result",
          "data": {
            "text/plain": [
              "<pyspark.sql.session.SparkSession at 0x7feff6e30710>"
            ],
            "text/html": [
              "\n",
              "            <div>\n",
              "                <p><b>SparkSession - in-memory</b></p>\n",
              "                \n",
              "        <div>\n",
              "            <p><b>SparkContext</b></p>\n",
              "\n",
              "            <p><a href=\"http://2f0447e61903:4040\">Spark UI</a></p>\n",
              "\n",
              "            <dl>\n",
              "              <dt>Version</dt>\n",
              "                <dd><code>v3.2.1</code></dd>\n",
              "              <dt>Master</dt>\n",
              "                <dd><code>local[*]</code></dd>\n",
              "              <dt>AppName</dt>\n",
              "                <dd><code>Dataframe</code></dd>\n",
              "            </dl>\n",
              "        </div>\n",
              "        \n",
              "            </div>\n",
              "        "
            ]
          },
          "metadata": {},
          "execution_count": 65
        }
      ]
    },
    {
      "cell_type": "markdown",
      "source": [
        "# 6. Reading the Dataset"
      ],
      "metadata": {
        "id": "K11MnO9B9MFj"
      }
    },
    {
      "cell_type": "code",
      "source": [
        "df_spark = spark.read.csv(\"test5.csv\", header =True, inferSchema =True)\n",
        "df_spark.show()"
      ],
      "metadata": {
        "colab": {
          "base_uri": "https://localhost:8080/"
        },
        "id": "d5u5OdbD9Q_z",
        "outputId": "586b50ee-bbc4-44dc-d5b4-b67eb680f959"
      },
      "execution_count": 66,
      "outputs": [
        {
          "output_type": "stream",
          "name": "stdout",
          "text": [
            "+-----+-----+------------+---+------+\n",
            "|Index| Name|  Department|Age|Salary|\n",
            "+-----+-----+------------+---+------+\n",
            "|    1|  Tom|         IOT| 20|  2000|\n",
            "|    2| Nick|    Big Data| 21|  3000|\n",
            "|    3|Krish|         IOT| 20|  3500|\n",
            "|    4| Paul|    Big Data| 19|  4000|\n",
            "|    5| Jack|    Big Data| 18|  3000|\n",
            "|    6| John|Data Science| 19|  3500|\n",
            "|    7|  Sam|Data Science| 25|  2800|\n",
            "+-----+-----+------------+---+------+\n",
            "\n"
          ]
        }
      ]
    },
    {
      "cell_type": "markdown",
      "source": [
        "# 7. Checking the Schema"
      ],
      "metadata": {
        "id": "f6pGwS2a-igW"
      }
    },
    {
      "cell_type": "code",
      "source": [
        "df_spark.printSchema()"
      ],
      "metadata": {
        "colab": {
          "base_uri": "https://localhost:8080/"
        },
        "id": "ELuYNyLA-lzH",
        "outputId": "bd65bbc5-89d7-46d4-f495-f933a9b77b36"
      },
      "execution_count": 67,
      "outputs": [
        {
          "output_type": "stream",
          "name": "stdout",
          "text": [
            "root\n",
            " |-- Index: integer (nullable = true)\n",
            " |-- Name: string (nullable = true)\n",
            " |-- Department: string (nullable = true)\n",
            " |-- Age: integer (nullable = true)\n",
            " |-- Salary: integer (nullable = true)\n",
            "\n"
          ]
        }
      ]
    },
    {
      "cell_type": "code",
      "source": [
        "df_spark.summary().show()"
      ],
      "metadata": {
        "colab": {
          "base_uri": "https://localhost:8080/"
        },
        "id": "paB_yGbgcmY2",
        "outputId": "19fa1422-a091-4031-c324-2e855374a4bd"
      },
      "execution_count": 68,
      "outputs": [
        {
          "output_type": "stream",
          "name": "stdout",
          "text": [
            "+-------+-----------------+----+----------+------------------+-----------------+\n",
            "|summary|            Index|Name|Department|               Age|           Salary|\n",
            "+-------+-----------------+----+----------+------------------+-----------------+\n",
            "|  count|                7|   7|         7|                 7|                7|\n",
            "|   mean|              4.0|null|      null|20.285714285714285|3114.285714285714|\n",
            "| stddev|2.160246899469287|null|      null|2.2886885410853175|638.8233230676836|\n",
            "|    min|                1|Jack|  Big Data|                18|             2000|\n",
            "|    25%|                2|null|      null|                19|             2800|\n",
            "|    50%|                4|null|      null|                20|             3000|\n",
            "|    75%|                6|null|      null|                21|             3500|\n",
            "|    max|                7| Tom|       IOT|                25|             4000|\n",
            "+-------+-----------------+----+----------+------------------+-----------------+\n",
            "\n"
          ]
        }
      ]
    },
    {
      "cell_type": "markdown",
      "source": [
        "# 8. Sum Salary Grouped by Department\n"
      ],
      "metadata": {
        "id": "B61Rgn0ZGPBO"
      }
    },
    {
      "cell_type": "code",
      "source": [
        "df_spark.groupBy('Department').sum('Salary').show()"
      ],
      "metadata": {
        "colab": {
          "base_uri": "https://localhost:8080/"
        },
        "id": "EAGyLTVnGVSf",
        "outputId": "905ccb58-5ab1-4a40-ea49-7b74514f3c04"
      },
      "execution_count": 69,
      "outputs": [
        {
          "output_type": "stream",
          "name": "stdout",
          "text": [
            "+------------+-----------+\n",
            "|  Department|sum(Salary)|\n",
            "+------------+-----------+\n",
            "|         IOT|       5500|\n",
            "|    Big Data|      10000|\n",
            "|Data Science|       6300|\n",
            "+------------+-----------+\n",
            "\n"
          ]
        }
      ]
    },
    {
      "cell_type": "markdown",
      "source": [
        "# 9. Mean, Min, Max, Count Grouped by Department"
      ],
      "metadata": {
        "id": "bxOrWAUapOKA"
      }
    },
    {
      "cell_type": "code",
      "source": [
        "df_spark.groupBy('Department').mean('Salary').show()"
      ],
      "metadata": {
        "colab": {
          "base_uri": "https://localhost:8080/"
        },
        "id": "Wvsl9hCkpRPI",
        "outputId": "20064d3b-dc22-40b7-cae2-10de85eabb10"
      },
      "execution_count": 70,
      "outputs": [
        {
          "output_type": "stream",
          "name": "stdout",
          "text": [
            "+------------+------------------+\n",
            "|  Department|       avg(Salary)|\n",
            "+------------+------------------+\n",
            "|         IOT|            2750.0|\n",
            "|    Big Data|3333.3333333333335|\n",
            "|Data Science|            3150.0|\n",
            "+------------+------------------+\n",
            "\n"
          ]
        }
      ]
    },
    {
      "cell_type": "code",
      "source": [
        "df_spark.groupBy('Department').min('Salary').show()"
      ],
      "metadata": {
        "colab": {
          "base_uri": "https://localhost:8080/"
        },
        "id": "BNGw9tAxpo_R",
        "outputId": "99bada78-e37b-460b-f3c7-91e4c78e5fa9"
      },
      "execution_count": 71,
      "outputs": [
        {
          "output_type": "stream",
          "name": "stdout",
          "text": [
            "+------------+-----------+\n",
            "|  Department|min(Salary)|\n",
            "+------------+-----------+\n",
            "|         IOT|       2000|\n",
            "|    Big Data|       3000|\n",
            "|Data Science|       2800|\n",
            "+------------+-----------+\n",
            "\n"
          ]
        }
      ]
    },
    {
      "cell_type": "code",
      "source": [
        "df_spark.groupBy('Department').max('Salary').show()"
      ],
      "metadata": {
        "colab": {
          "base_uri": "https://localhost:8080/"
        },
        "id": "3YLwqOuPpiq_",
        "outputId": "a5cb554c-c6ae-4a6a-bb75-84858ec80062"
      },
      "execution_count": 72,
      "outputs": [
        {
          "output_type": "stream",
          "name": "stdout",
          "text": [
            "+------------+-----------+\n",
            "|  Department|max(Salary)|\n",
            "+------------+-----------+\n",
            "|         IOT|       3500|\n",
            "|    Big Data|       4000|\n",
            "|Data Science|       3500|\n",
            "+------------+-----------+\n",
            "\n"
          ]
        }
      ]
    },
    {
      "cell_type": "code",
      "source": [
        "df_spark.groupBy('Department').count().show()"
      ],
      "metadata": {
        "colab": {
          "base_uri": "https://localhost:8080/"
        },
        "id": "A51CjITBp3P2",
        "outputId": "5e55740f-b71e-4d1b-e33a-617a48c65386"
      },
      "execution_count": 73,
      "outputs": [
        {
          "output_type": "stream",
          "name": "stdout",
          "text": [
            "+------------+-----+\n",
            "|  Department|count|\n",
            "+------------+-----+\n",
            "|         IOT|    2|\n",
            "|    Big Data|    3|\n",
            "|Data Science|    2|\n",
            "+------------+-----+\n",
            "\n"
          ]
        }
      ]
    },
    {
      "cell_type": "markdown",
      "source": [
        "# 11. Ungprouped Sum, Mean, Min, Max, Count Salary"
      ],
      "metadata": {
        "id": "9ueonk65rfgu"
      }
    },
    {
      "cell_type": "code",
      "source": [
        "df_spark.agg({'Salary': 'sum'}).show()"
      ],
      "metadata": {
        "colab": {
          "base_uri": "https://localhost:8080/"
        },
        "id": "rKHia0eqrEGz",
        "outputId": "45062dac-60cc-4c69-fc13-a50a4fe80fb3"
      },
      "execution_count": 74,
      "outputs": [
        {
          "output_type": "stream",
          "name": "stdout",
          "text": [
            "+-----------+\n",
            "|sum(Salary)|\n",
            "+-----------+\n",
            "|      21800|\n",
            "+-----------+\n",
            "\n"
          ]
        }
      ]
    },
    {
      "cell_type": "code",
      "source": [
        "df_spark.agg({'Salary': 'mean'}).show()"
      ],
      "metadata": {
        "colab": {
          "base_uri": "https://localhost:8080/"
        },
        "id": "hM5sBYMfrUE3",
        "outputId": "135631f3-1ebf-4b8d-c931-4276dc7a4f45"
      },
      "execution_count": 75,
      "outputs": [
        {
          "output_type": "stream",
          "name": "stdout",
          "text": [
            "+-----------------+\n",
            "|      avg(Salary)|\n",
            "+-----------------+\n",
            "|3114.285714285714|\n",
            "+-----------------+\n",
            "\n"
          ]
        }
      ]
    },
    {
      "cell_type": "code",
      "source": [
        "df_spark.agg({'Salary': 'min'}).show()"
      ],
      "metadata": {
        "colab": {
          "base_uri": "https://localhost:8080/"
        },
        "id": "CGUpdoazrwVJ",
        "outputId": "5f63378a-b7b2-48cb-8e4a-d7b2246632c4"
      },
      "execution_count": 76,
      "outputs": [
        {
          "output_type": "stream",
          "name": "stdout",
          "text": [
            "+-----------+\n",
            "|min(Salary)|\n",
            "+-----------+\n",
            "|       2000|\n",
            "+-----------+\n",
            "\n"
          ]
        }
      ]
    },
    {
      "cell_type": "code",
      "source": [
        "df_spark.agg({'Salary': 'min'}).show()"
      ],
      "metadata": {
        "colab": {
          "base_uri": "https://localhost:8080/"
        },
        "id": "SuuDtTPlrx3J",
        "outputId": "5b251e9b-2011-450a-9fcb-71387b1d5a38"
      },
      "execution_count": 77,
      "outputs": [
        {
          "output_type": "stream",
          "name": "stdout",
          "text": [
            "+-----------+\n",
            "|min(Salary)|\n",
            "+-----------+\n",
            "|       2000|\n",
            "+-----------+\n",
            "\n"
          ]
        }
      ]
    },
    {
      "cell_type": "code",
      "source": [
        "df_spark.agg({'Salary': 'max'}).show()"
      ],
      "metadata": {
        "colab": {
          "base_uri": "https://localhost:8080/"
        },
        "id": "XLQ3CfAMr0He",
        "outputId": "b3c85cd2-958d-4cfc-ca34-673203e384b9"
      },
      "execution_count": 78,
      "outputs": [
        {
          "output_type": "stream",
          "name": "stdout",
          "text": [
            "+-----------+\n",
            "|max(Salary)|\n",
            "+-----------+\n",
            "|       4000|\n",
            "+-----------+\n",
            "\n"
          ]
        }
      ]
    },
    {
      "cell_type": "code",
      "source": [
        "df_spark.agg({'Salary': 'count'}).show()"
      ],
      "metadata": {
        "colab": {
          "base_uri": "https://localhost:8080/"
        },
        "id": "lbl5dM30r2oZ",
        "outputId": "65292aca-af7b-43f8-9f91-9bafe1359396"
      },
      "execution_count": 79,
      "outputs": [
        {
          "output_type": "stream",
          "name": "stdout",
          "text": [
            "+-------------+\n",
            "|count(Salary)|\n",
            "+-------------+\n",
            "|            7|\n",
            "+-------------+\n",
            "\n"
          ]
        }
      ]
    }
  ]
}